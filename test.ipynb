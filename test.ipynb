{
  "nbformat": 4,
  "nbformat_minor": 0,
  "metadata": {
    "colab": {
      "provenance": [],
      "authorship_tag": "ABX9TyPEaw2mNuJU4oMHf2wOIJBh",
      "include_colab_link": true
    },
    "kernelspec": {
      "name": "python3",
      "display_name": "Python 3"
    },
    "language_info": {
      "name": "python"
    }
  },
  "cells": [
    {
      "cell_type": "markdown",
      "metadata": {
        "id": "view-in-github",
        "colab_type": "text"
      },
      "source": [
        "<a href=\"https://colab.research.google.com/github/nastyanizovtseva/Prediction-of-the-investor-s-class/blob/main/test.ipynb\" target=\"_parent\"><img src=\"https://colab.research.google.com/assets/colab-badge.svg\" alt=\"Open In Colab\"/></a>"
      ]
    },
    {
      "cell_type": "markdown",
      "source": [
        "### GitHub"
      ],
      "metadata": {
        "id": "-t5U85fvZK7I"
      }
    },
    {
      "cell_type": "code",
      "execution_count": null,
      "metadata": {
        "colab": {
          "base_uri": "https://localhost:8080/"
        },
        "id": "o9AL2hQIY_Ad",
        "outputId": "af899fce-3bb2-463d-a668-36219332a639"
      },
      "outputs": [
        {
          "output_type": "stream",
          "name": "stdout",
          "text": [
            "[Errno 2] No such file or directory: 'https://docs.google.com/presentation/d/1nwtCsrMrtkzNnhGNRBCPPZ49sNSWAB9GU-sS-vWYCqk/edit?usp=sharing'\n",
            "/content\n"
          ]
        }
      ],
      "source": [
        "cd https://docs.google.com/presentation/d/1nwtCsrMrtkzNnhGNRBCPPZ49sNSWAB9GU-sS-vWYCqk/edit?usp=sharing"
      ]
    },
    {
      "cell_type": "code",
      "source": [
        "cd /content/sample_data"
      ],
      "metadata": {
        "id": "DDwQTQkGZVos",
        "colab": {
          "base_uri": "https://localhost:8080/"
        },
        "outputId": "fbbb80a4-2cc3-437d-e07d-dba917a1a1c7"
      },
      "execution_count": 2,
      "outputs": [
        {
          "output_type": "stream",
          "name": "stdout",
          "text": [
            "/content/sample_data\n"
          ]
        }
      ]
    },
    {
      "cell_type": "code",
      "source": [
        "%pwd"
      ],
      "metadata": {
        "colab": {
          "base_uri": "https://localhost:8080/",
          "height": 35
        },
        "id": "-xWRuDVTZyMD",
        "outputId": "a9933684-59ba-4f77-c23f-6bc07e37f295"
      },
      "execution_count": 3,
      "outputs": [
        {
          "output_type": "execute_result",
          "data": {
            "text/plain": [
              "'/content/sample_data'"
            ],
            "application/vnd.google.colaboratory.intrinsic+json": {
              "type": "string"
            }
          },
          "metadata": {},
          "execution_count": 3
        }
      ]
    },
    {
      "cell_type": "code",
      "source": [
        "!git clone https://github.com/nastyanizovtseva/Prediction-of-the-investor-s-class.git"
      ],
      "metadata": {
        "colab": {
          "base_uri": "https://localhost:8080/"
        },
        "id": "xmk9KE5tagYO",
        "outputId": "551ff706-ebcf-44a2-9659-85bb32234d15"
      },
      "execution_count": 4,
      "outputs": [
        {
          "output_type": "stream",
          "name": "stdout",
          "text": [
            "Cloning into 'Prediction-of-the-investor-s-class'...\n",
            "fatal: could not read Username for 'https://github.com': No such device or address\n"
          ]
        }
      ]
    }
  ]
}