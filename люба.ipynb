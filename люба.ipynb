{
  "cells": [
    {
      "cell_type": "markdown",
      "metadata": {
        "id": "view-in-github",
        "colab_type": "text"
      },
      "source": [
        "<a href=\"https://colab.research.google.com/github/nastyanizovtseva/Prediction-of-the-investor-s-class/blob/main/%D0%BB%D1%8E%D0%B1%D0%B0.ipynb\" target=\"_parent\"><img src=\"https://colab.research.google.com/assets/colab-badge.svg\" alt=\"Open In Colab\"/></a>"
      ]
    },
    {
      "cell_type": "markdown",
      "source": [
        "## GitGub"
      ],
      "metadata": {
        "id": "LxYnNf0WYabb"
      },
      "id": "LxYnNf0WYabb"
    },
    {
      "cell_type": "code",
      "source": [
        "cd /content/sample_data"
      ],
      "metadata": {
        "id": "qQglWninYk1h",
        "colab": {
          "base_uri": "https://localhost:8080/"
        },
        "outputId": "635adc39-1369-49fc-c6d2-d41a3356c0a6"
      },
      "id": "qQglWninYk1h",
      "execution_count": null,
      "outputs": [
        {
          "output_type": "stream",
          "name": "stdout",
          "text": [
            "/content/sample_data\n"
          ]
        }
      ]
    },
    {
      "cell_type": "code",
      "source": [
        "%pwd"
      ],
      "metadata": {
        "colab": {
          "base_uri": "https://localhost:8080/",
          "height": 37
        },
        "id": "K3bFyE2fZVI3",
        "outputId": "2a8a8c81-ce26-4c02-9503-7db2ee555730"
      },
      "id": "K3bFyE2fZVI3",
      "execution_count": null,
      "outputs": [
        {
          "output_type": "execute_result",
          "data": {
            "text/plain": [
              "'/content/sample_data'"
            ],
            "application/vnd.google.colaboratory.intrinsic+json": {
              "type": "string"
            }
          },
          "metadata": {},
          "execution_count": 2
        }
      ]
    },
    {
      "cell_type": "code",
      "source": [
        "!git clone !git clone https://github.com/nastyanizovtseva/Prediction-of-the-investor-s-class.git"
      ],
      "metadata": {
        "colab": {
          "base_uri": "https://localhost:8080/"
        },
        "id": "EN_Y0R4AZWbw",
        "outputId": "f9ad773f-6ff3-430a-9ddb-aae255ed67cc"
      },
      "id": "EN_Y0R4AZWbw",
      "execution_count": null,
      "outputs": [
        {
          "output_type": "stream",
          "name": "stdout",
          "text": [
            "fatal: Too many arguments.\n",
            "\n",
            "usage: git clone [<options>] [--] <repo> [<dir>]\n",
            "\n",
            "    -v, --verbose         be more verbose\n",
            "    -q, --quiet           be more quiet\n",
            "    --progress            force progress reporting\n",
            "    -n, --no-checkout     don't create a checkout\n",
            "    --bare                create a bare repository\n",
            "    --mirror              create a mirror repository (implies bare)\n",
            "    -l, --local           to clone from a local repository\n",
            "    --no-hardlinks        don't use local hardlinks, always copy\n",
            "    -s, --shared          setup as shared repository\n",
            "    --recursive ...       alias of --recurse-submodules\n",
            "    --recurse-submodules[=<pathspec>]\n",
            "                          initialize submodules in the clone\n",
            "    -j, --jobs <n>        number of submodules cloned in parallel\n",
            "    --template <template-directory>\n",
            "                          directory from which templates will be used\n",
            "    --reference <repo>    reference repository\n",
            "    --reference-if-able <repo>\n",
            "                          reference repository\n",
            "    --dissociate          use --reference only while cloning\n",
            "    -o, --origin <name>   use <name> instead of 'origin' to track upstream\n",
            "    -b, --branch <branch>\n",
            "                          checkout <branch> instead of the remote's HEAD\n",
            "    -u, --upload-pack <path>\n",
            "                          path to git-upload-pack on the remote\n",
            "    --depth <depth>       create a shallow clone of that depth\n",
            "    --shallow-since <time>\n",
            "                          create a shallow clone since a specific time\n",
            "    --shallow-exclude <revision>\n",
            "                          deepen history of shallow clone, excluding rev\n",
            "    --single-branch       clone only one branch, HEAD or --branch\n",
            "    --no-tags             don't clone any tags, and make later fetches not to follow them\n",
            "    --shallow-submodules  any cloned submodules will be shallow\n",
            "    --separate-git-dir <gitdir>\n",
            "                          separate git dir from working tree\n",
            "    -c, --config <key=value>\n",
            "                          set config inside the new repository\n",
            "    --server-option <server-specific>\n",
            "                          option to transmit\n",
            "    -4, --ipv4            use IPv4 addresses only\n",
            "    -6, --ipv6            use IPv6 addresses only\n",
            "    --filter <args>       object filtering\n",
            "    --remote-submodules   any cloned submodules will use their remote-tracking branch\n",
            "    --sparse              initialize sparse-checkout file to include only files at root\n",
            "\n"
          ]
        }
      ]
    },
    {
      "cell_type": "code",
      "source": [],
      "metadata": {
        "id": "ZfROSOEUZxJG"
      },
      "id": "ZfROSOEUZxJG",
      "execution_count": null,
      "outputs": []
    },
    {
      "cell_type": "markdown",
      "metadata": {
        "id": "f81e72b3"
      },
      "source": [
        "## Table of Contents\n"
      ],
      "id": "f81e72b3"
    },
    {
      "cell_type": "code",
      "source": [
        "!pip install catboost"
      ],
      "metadata": {
        "id": "4egm0bxiFIl3"
      },
      "id": "4egm0bxiFIl3",
      "execution_count": null,
      "outputs": []
    },
    {
      "cell_type": "code",
      "execution_count": null,
      "metadata": {
        "id": "79a0e835"
      },
      "outputs": [],
      "source": [
        "import warnings\n",
        "import os\n",
        "from io import StringIO\n",
        "\n",
        "import zipfile\n",
        "import pandas as pd\n",
        "import numpy as np\n",
        "import matplotlib.pyplot as plt\n",
        "import seaborn as sns\n",
        "\n",
        "#import models\n",
        "from catboost import CatBoostClassifier\n",
        "import lightgbm as lgb\n",
        "from xgboost import XGBClassifier\n",
        "from sklearn.ensemble import AdaBoostClassifier\n",
        "from sklearn.ensemble import GradientBoostingClassifier\n",
        "from sklearn.neighbors import KNeighborsClassifier\n",
        "\n",
        "\n",
        "#import from sklearn\n",
        "import sklearn\n",
        "from sklearn.metrics import accuracy_score, f1_score, precision_score, recall_score\n",
        "from sklearn.preprocessing import MinMaxScaler\n",
        "from sklearn.preprocessing import LabelEncoder\n",
        "from sklearn.model_selection import train_test_split\n",
        "from sklearn.model_selection import GridSearchCV\n",
        "\n",
        "from sklearn.linear_model import LogisticRegression\n",
        "from sklearn.impute import SimpleImputer\n",
        "from sklearn.model_selection import train_test_split\n",
        "from sklearn.metrics import accuracy_score\n",
        "from sklearn.preprocessing import StandardScaler"
      ],
      "id": "79a0e835"
    },
    {
      "cell_type": "code",
      "source": [
        "from google.colab import drive\n",
        "drive.mount('/content/drive')"
      ],
      "metadata": {
        "colab": {
          "base_uri": "https://localhost:8080/"
        },
        "id": "W2CWCEwa1ooI",
        "outputId": "b2688e62-db31-4c80-c42d-faea3645dbbd"
      },
      "id": "W2CWCEwa1ooI",
      "execution_count": null,
      "outputs": [
        {
          "output_type": "stream",
          "name": "stdout",
          "text": [
            "Mounted at /content/drive\n"
          ]
        }
      ]
    },
    {
      "cell_type": "code",
      "source": [
        "#сделаем красивый формат для дробных чисел\n",
        "pd.set_option('display.float_format', '{:.2f}'.format)\n",
        "\n",
        "#скроем возможные предупреждения\n",
        "warnings.filterwarnings('ignore')"
      ],
      "metadata": {
        "id": "nXyVIyza7p4a"
      },
      "id": "nXyVIyza7p4a",
      "execution_count": null,
      "outputs": []
    },
    {
      "cell_type": "code",
      "execution_count": null,
      "metadata": {
        "id": "lRzFhnu2yNhQ"
      },
      "outputs": [],
      "source": [
        "train_path = '/content/drive/MyDrive/люба/data/train/train.csv'\n",
        "train_deals_path = '/content/drive/MyDrive/люба/data/train/train_deals'\n",
        "train_add_info_path = '/content/drive/MyDrive/люба/data/train/train_additional_info'"
      ],
      "id": "lRzFhnu2yNhQ"
    },
    {
      "cell_type": "code",
      "execution_count": null,
      "metadata": {
        "id": "fb9f61d4"
      },
      "outputs": [],
      "source": [
        "df = pd.read_csv(train_path) #reading data from csv file train data"
      ],
      "id": "fb9f61d4"
    },
    {
      "cell_type": "markdown",
      "metadata": {
        "id": "aEE03cxAVx8D"
      },
      "source": [
        "## Анализ"
      ],
      "id": "aEE03cxAVx8D"
    },
    {
      "cell_type": "code",
      "execution_count": null,
      "metadata": {
        "colab": {
          "base_uri": "https://localhost:8080/"
        },
        "id": "16468c06",
        "outputId": "c86a8a58-0357-4dad-a6a8-9f614e6a0535"
      },
      "outputs": [
        {
          "name": "stdout",
          "output_type": "stream",
          "text": [
            "<class 'pandas.core.frame.DataFrame'>\n",
            "RangeIndex: 1527 entries, 0 to 1526\n",
            "Data columns (total 9 columns):\n",
            " #   Column          Non-Null Count  Dtype \n",
            "---  ------          --------------  ----- \n",
            " 0   id              1527 non-null   int64 \n",
            " 1   nickname        1527 non-null   object\n",
            " 2   broker          1527 non-null   object\n",
            " 3   start_sum       1527 non-null   object\n",
            " 4   request         1527 non-null   int64 \n",
            " 5   deals           1527 non-null   int64 \n",
            " 6   income_rub      1527 non-null   object\n",
            " 7   income_percent  1527 non-null   object\n",
            " 8   class           1527 non-null   int64 \n",
            "dtypes: int64(4), object(5)\n",
            "memory usage: 107.5+ KB\n"
          ]
        }
      ],
      "source": [
        "data = df\n",
        "data.info() #изучим общую информацию о данных"
      ],
      "id": "16468c06"
    },
    {
      "cell_type": "code",
      "execution_count": null,
      "metadata": {
        "id": "273124cd"
      },
      "outputs": [],
      "source": [
        "# приведем данные к нужному типу\n",
        "data['start_sum'] = data['start_sum'].str.replace(\" \", \"\").str.replace(',','.').astype(float)\n",
        "data['income_rub'] = data['income_rub'].str.replace(\" \", \"\").str.replace(',','.').astype(float)\n",
        "data['income_percent'] = data['income_percent'].str.replace(\"-\", \"0\").str.replace(',','.').astype(float)"
      ],
      "id": "273124cd"
    },
    {
      "cell_type": "code",
      "execution_count": null,
      "metadata": {
        "colab": {
          "base_uri": "https://localhost:8080/",
          "height": 328
        },
        "id": "50b07f78",
        "outputId": "006d25ab-cb5a-4de8-d8a6-1a0f9741d68c"
      },
      "outputs": [
        {
          "data": {
            "text/html": [
              "\n",
              "  <div id=\"df-35f104d6-dc8e-4666-b0a8-69063eb82a99\">\n",
              "    <div class=\"colab-df-container\">\n",
              "      <div>\n",
              "<style scoped>\n",
              "    .dataframe tbody tr th:only-of-type {\n",
              "        vertical-align: middle;\n",
              "    }\n",
              "\n",
              "    .dataframe tbody tr th {\n",
              "        vertical-align: top;\n",
              "    }\n",
              "\n",
              "    .dataframe thead th {\n",
              "        text-align: right;\n",
              "    }\n",
              "</style>\n",
              "<table border=\"1\" class=\"dataframe\">\n",
              "  <thead>\n",
              "    <tr style=\"text-align: right;\">\n",
              "      <th></th>\n",
              "      <th>0</th>\n",
              "    </tr>\n",
              "  </thead>\n",
              "  <tbody>\n",
              "    <tr>\n",
              "      <th>id</th>\n",
              "      <td>0.00</td>\n",
              "    </tr>\n",
              "    <tr>\n",
              "      <th>nickname</th>\n",
              "      <td>0.00</td>\n",
              "    </tr>\n",
              "    <tr>\n",
              "      <th>broker</th>\n",
              "      <td>0.00</td>\n",
              "    </tr>\n",
              "    <tr>\n",
              "      <th>start_sum</th>\n",
              "      <td>0.00</td>\n",
              "    </tr>\n",
              "    <tr>\n",
              "      <th>request</th>\n",
              "      <td>0.00</td>\n",
              "    </tr>\n",
              "    <tr>\n",
              "      <th>deals</th>\n",
              "      <td>0.00</td>\n",
              "    </tr>\n",
              "    <tr>\n",
              "      <th>income_rub</th>\n",
              "      <td>0.00</td>\n",
              "    </tr>\n",
              "    <tr>\n",
              "      <th>income_percent</th>\n",
              "      <td>0.00</td>\n",
              "    </tr>\n",
              "    <tr>\n",
              "      <th>class</th>\n",
              "      <td>0.00</td>\n",
              "    </tr>\n",
              "  </tbody>\n",
              "</table>\n",
              "</div>\n",
              "      <button class=\"colab-df-convert\" onclick=\"convertToInteractive('df-35f104d6-dc8e-4666-b0a8-69063eb82a99')\"\n",
              "              title=\"Convert this dataframe to an interactive table.\"\n",
              "              style=\"display:none;\">\n",
              "        \n",
              "  <svg xmlns=\"http://www.w3.org/2000/svg\" height=\"24px\"viewBox=\"0 0 24 24\"\n",
              "       width=\"24px\">\n",
              "    <path d=\"M0 0h24v24H0V0z\" fill=\"none\"/>\n",
              "    <path d=\"M18.56 5.44l.94 2.06.94-2.06 2.06-.94-2.06-.94-.94-2.06-.94 2.06-2.06.94zm-11 1L8.5 8.5l.94-2.06 2.06-.94-2.06-.94L8.5 2.5l-.94 2.06-2.06.94zm10 10l.94 2.06.94-2.06 2.06-.94-2.06-.94-.94-2.06-.94 2.06-2.06.94z\"/><path d=\"M17.41 7.96l-1.37-1.37c-.4-.4-.92-.59-1.43-.59-.52 0-1.04.2-1.43.59L10.3 9.45l-7.72 7.72c-.78.78-.78 2.05 0 2.83L4 21.41c.39.39.9.59 1.41.59.51 0 1.02-.2 1.41-.59l7.78-7.78 2.81-2.81c.8-.78.8-2.07 0-2.86zM5.41 20L4 18.59l7.72-7.72 1.47 1.35L5.41 20z\"/>\n",
              "  </svg>\n",
              "      </button>\n",
              "      \n",
              "  <style>\n",
              "    .colab-df-container {\n",
              "      display:flex;\n",
              "      flex-wrap:wrap;\n",
              "      gap: 12px;\n",
              "    }\n",
              "\n",
              "    .colab-df-convert {\n",
              "      background-color: #E8F0FE;\n",
              "      border: none;\n",
              "      border-radius: 50%;\n",
              "      cursor: pointer;\n",
              "      display: none;\n",
              "      fill: #1967D2;\n",
              "      height: 32px;\n",
              "      padding: 0 0 0 0;\n",
              "      width: 32px;\n",
              "    }\n",
              "\n",
              "    .colab-df-convert:hover {\n",
              "      background-color: #E2EBFA;\n",
              "      box-shadow: 0px 1px 2px rgba(60, 64, 67, 0.3), 0px 1px 3px 1px rgba(60, 64, 67, 0.15);\n",
              "      fill: #174EA6;\n",
              "    }\n",
              "\n",
              "    [theme=dark] .colab-df-convert {\n",
              "      background-color: #3B4455;\n",
              "      fill: #D2E3FC;\n",
              "    }\n",
              "\n",
              "    [theme=dark] .colab-df-convert:hover {\n",
              "      background-color: #434B5C;\n",
              "      box-shadow: 0px 1px 3px 1px rgba(0, 0, 0, 0.15);\n",
              "      filter: drop-shadow(0px 1px 2px rgba(0, 0, 0, 0.3));\n",
              "      fill: #FFFFFF;\n",
              "    }\n",
              "  </style>\n",
              "\n",
              "      <script>\n",
              "        const buttonEl =\n",
              "          document.querySelector('#df-35f104d6-dc8e-4666-b0a8-69063eb82a99 button.colab-df-convert');\n",
              "        buttonEl.style.display =\n",
              "          google.colab.kernel.accessAllowed ? 'block' : 'none';\n",
              "\n",
              "        async function convertToInteractive(key) {\n",
              "          const element = document.querySelector('#df-35f104d6-dc8e-4666-b0a8-69063eb82a99');\n",
              "          const dataTable =\n",
              "            await google.colab.kernel.invokeFunction('convertToInteractive',\n",
              "                                                     [key], {});\n",
              "          if (!dataTable) return;\n",
              "\n",
              "          const docLinkHtml = 'Like what you see? Visit the ' +\n",
              "            '<a target=\"_blank\" href=https://colab.research.google.com/notebooks/data_table.ipynb>data table notebook</a>'\n",
              "            + ' to learn more about interactive tables.';\n",
              "          element.innerHTML = '';\n",
              "          dataTable['output_type'] = 'display_data';\n",
              "          await google.colab.output.renderOutput(dataTable, element);\n",
              "          const docLink = document.createElement('div');\n",
              "          docLink.innerHTML = docLinkHtml;\n",
              "          element.appendChild(docLink);\n",
              "        }\n",
              "      </script>\n",
              "    </div>\n",
              "  </div>\n",
              "  "
            ],
            "text/plain": [
              "                  0\n",
              "id             0.00\n",
              "nickname       0.00\n",
              "broker         0.00\n",
              "start_sum      0.00\n",
              "request        0.00\n",
              "deals          0.00\n",
              "income_rub     0.00\n",
              "income_percent 0.00\n",
              "class          0.00"
            ]
          },
          "execution_count": 6,
          "metadata": {},
          "output_type": "execute_result"
        }
      ],
      "source": [
        "#посмотрим долю пропусков\n",
        "pd.DataFrame(data.isna().mean()*100)"
      ],
      "id": "50b07f78"
    },
    {
      "cell_type": "code",
      "execution_count": null,
      "metadata": {
        "colab": {
          "base_uri": "https://localhost:8080/"
        },
        "id": "57e817d8",
        "outputId": "dd2eb457-b3f4-4789-f468-2d0843ba29fe"
      },
      "outputs": [
        {
          "name": "stdout",
          "output_type": "stream",
          "text": [
            "Число дубликатов: 0\n"
          ]
        }
      ],
      "source": [
        "print('Число дубликатов:', data.duplicated().sum()) #проверим нет ли явных дубликатов"
      ],
      "id": "57e817d8"
    },
    {
      "cell_type": "code",
      "execution_count": null,
      "metadata": {
        "colab": {
          "base_uri": "https://localhost:8080/",
          "height": 297
        },
        "id": "c2266848",
        "outputId": "d8648c1b-23da-4458-e6be-b51394b0ddcc"
      },
      "outputs": [
        {
          "data": {
            "text/html": [
              "\n",
              "  <div id=\"df-65308434-7505-4ef4-bf11-beeff92f6f7f\">\n",
              "    <div class=\"colab-df-container\">\n",
              "      <div>\n",
              "<style scoped>\n",
              "    .dataframe tbody tr th:only-of-type {\n",
              "        vertical-align: middle;\n",
              "    }\n",
              "\n",
              "    .dataframe tbody tr th {\n",
              "        vertical-align: top;\n",
              "    }\n",
              "\n",
              "    .dataframe thead th {\n",
              "        text-align: right;\n",
              "    }\n",
              "</style>\n",
              "<table border=\"1\" class=\"dataframe\">\n",
              "  <thead>\n",
              "    <tr style=\"text-align: right;\">\n",
              "      <th></th>\n",
              "      <th>id</th>\n",
              "      <th>start_sum</th>\n",
              "      <th>request</th>\n",
              "      <th>deals</th>\n",
              "      <th>income_rub</th>\n",
              "      <th>income_percent</th>\n",
              "      <th>class</th>\n",
              "    </tr>\n",
              "  </thead>\n",
              "  <tbody>\n",
              "    <tr>\n",
              "      <th>count</th>\n",
              "      <td>1527.00</td>\n",
              "      <td>1527.00</td>\n",
              "      <td>1527.00</td>\n",
              "      <td>1527.00</td>\n",
              "      <td>1527.00</td>\n",
              "      <td>1527.00</td>\n",
              "      <td>1527.00</td>\n",
              "    </tr>\n",
              "    <tr>\n",
              "      <th>mean</th>\n",
              "      <td>311944.58</td>\n",
              "      <td>420071.75</td>\n",
              "      <td>815.89</td>\n",
              "      <td>833.40</td>\n",
              "      <td>-15138.76</td>\n",
              "      <td>16.59</td>\n",
              "      <td>2.99</td>\n",
              "    </tr>\n",
              "    <tr>\n",
              "      <th>std</th>\n",
              "      <td>1243.15</td>\n",
              "      <td>541469.69</td>\n",
              "      <td>2867.26</td>\n",
              "      <td>2575.87</td>\n",
              "      <td>181854.56</td>\n",
              "      <td>24.66</td>\n",
              "      <td>1.41</td>\n",
              "    </tr>\n",
              "    <tr>\n",
              "      <th>min</th>\n",
              "      <td>309828.00</td>\n",
              "      <td>100000.00</td>\n",
              "      <td>1.00</td>\n",
              "      <td>0.00</td>\n",
              "      <td>-1872653.40</td>\n",
              "      <td>0.00</td>\n",
              "      <td>1.00</td>\n",
              "    </tr>\n",
              "    <tr>\n",
              "      <th>25%</th>\n",
              "      <td>310844.00</td>\n",
              "      <td>100000.00</td>\n",
              "      <td>20.00</td>\n",
              "      <td>24.50</td>\n",
              "      <td>-33286.79</td>\n",
              "      <td>1.83</td>\n",
              "      <td>2.00</td>\n",
              "    </tr>\n",
              "    <tr>\n",
              "      <th>50%</th>\n",
              "      <td>311894.00</td>\n",
              "      <td>187123.00</td>\n",
              "      <td>112.00</td>\n",
              "      <td>145.00</td>\n",
              "      <td>-1101.60</td>\n",
              "      <td>8.16</td>\n",
              "      <td>3.00</td>\n",
              "    </tr>\n",
              "    <tr>\n",
              "      <th>75%</th>\n",
              "      <td>313038.50</td>\n",
              "      <td>479810.14</td>\n",
              "      <td>556.00</td>\n",
              "      <td>659.00</td>\n",
              "      <td>8264.35</td>\n",
              "      <td>22.99</td>\n",
              "      <td>4.00</td>\n",
              "    </tr>\n",
              "    <tr>\n",
              "      <th>max</th>\n",
              "      <td>314288.00</td>\n",
              "      <td>4103087.72</td>\n",
              "      <td>56914.00</td>\n",
              "      <td>56703.00</td>\n",
              "      <td>2122319.28</td>\n",
              "      <td>398.80</td>\n",
              "      <td>5.00</td>\n",
              "    </tr>\n",
              "  </tbody>\n",
              "</table>\n",
              "</div>\n",
              "      <button class=\"colab-df-convert\" onclick=\"convertToInteractive('df-65308434-7505-4ef4-bf11-beeff92f6f7f')\"\n",
              "              title=\"Convert this dataframe to an interactive table.\"\n",
              "              style=\"display:none;\">\n",
              "        \n",
              "  <svg xmlns=\"http://www.w3.org/2000/svg\" height=\"24px\"viewBox=\"0 0 24 24\"\n",
              "       width=\"24px\">\n",
              "    <path d=\"M0 0h24v24H0V0z\" fill=\"none\"/>\n",
              "    <path d=\"M18.56 5.44l.94 2.06.94-2.06 2.06-.94-2.06-.94-.94-2.06-.94 2.06-2.06.94zm-11 1L8.5 8.5l.94-2.06 2.06-.94-2.06-.94L8.5 2.5l-.94 2.06-2.06.94zm10 10l.94 2.06.94-2.06 2.06-.94-2.06-.94-.94-2.06-.94 2.06-2.06.94z\"/><path d=\"M17.41 7.96l-1.37-1.37c-.4-.4-.92-.59-1.43-.59-.52 0-1.04.2-1.43.59L10.3 9.45l-7.72 7.72c-.78.78-.78 2.05 0 2.83L4 21.41c.39.39.9.59 1.41.59.51 0 1.02-.2 1.41-.59l7.78-7.78 2.81-2.81c.8-.78.8-2.07 0-2.86zM5.41 20L4 18.59l7.72-7.72 1.47 1.35L5.41 20z\"/>\n",
              "  </svg>\n",
              "      </button>\n",
              "      \n",
              "  <style>\n",
              "    .colab-df-container {\n",
              "      display:flex;\n",
              "      flex-wrap:wrap;\n",
              "      gap: 12px;\n",
              "    }\n",
              "\n",
              "    .colab-df-convert {\n",
              "      background-color: #E8F0FE;\n",
              "      border: none;\n",
              "      border-radius: 50%;\n",
              "      cursor: pointer;\n",
              "      display: none;\n",
              "      fill: #1967D2;\n",
              "      height: 32px;\n",
              "      padding: 0 0 0 0;\n",
              "      width: 32px;\n",
              "    }\n",
              "\n",
              "    .colab-df-convert:hover {\n",
              "      background-color: #E2EBFA;\n",
              "      box-shadow: 0px 1px 2px rgba(60, 64, 67, 0.3), 0px 1px 3px 1px rgba(60, 64, 67, 0.15);\n",
              "      fill: #174EA6;\n",
              "    }\n",
              "\n",
              "    [theme=dark] .colab-df-convert {\n",
              "      background-color: #3B4455;\n",
              "      fill: #D2E3FC;\n",
              "    }\n",
              "\n",
              "    [theme=dark] .colab-df-convert:hover {\n",
              "      background-color: #434B5C;\n",
              "      box-shadow: 0px 1px 3px 1px rgba(0, 0, 0, 0.15);\n",
              "      filter: drop-shadow(0px 1px 2px rgba(0, 0, 0, 0.3));\n",
              "      fill: #FFFFFF;\n",
              "    }\n",
              "  </style>\n",
              "\n",
              "      <script>\n",
              "        const buttonEl =\n",
              "          document.querySelector('#df-65308434-7505-4ef4-bf11-beeff92f6f7f button.colab-df-convert');\n",
              "        buttonEl.style.display =\n",
              "          google.colab.kernel.accessAllowed ? 'block' : 'none';\n",
              "\n",
              "        async function convertToInteractive(key) {\n",
              "          const element = document.querySelector('#df-65308434-7505-4ef4-bf11-beeff92f6f7f');\n",
              "          const dataTable =\n",
              "            await google.colab.kernel.invokeFunction('convertToInteractive',\n",
              "                                                     [key], {});\n",
              "          if (!dataTable) return;\n",
              "\n",
              "          const docLinkHtml = 'Like what you see? Visit the ' +\n",
              "            '<a target=\"_blank\" href=https://colab.research.google.com/notebooks/data_table.ipynb>data table notebook</a>'\n",
              "            + ' to learn more about interactive tables.';\n",
              "          element.innerHTML = '';\n",
              "          dataTable['output_type'] = 'display_data';\n",
              "          await google.colab.output.renderOutput(dataTable, element);\n",
              "          const docLink = document.createElement('div');\n",
              "          docLink.innerHTML = docLinkHtml;\n",
              "          element.appendChild(docLink);\n",
              "        }\n",
              "      </script>\n",
              "    </div>\n",
              "  </div>\n",
              "  "
            ],
            "text/plain": [
              "             id  start_sum  request    deals  income_rub  income_percent  \\\n",
              "count   1527.00    1527.00  1527.00  1527.00     1527.00         1527.00   \n",
              "mean  311944.58  420071.75   815.89   833.40   -15138.76           16.59   \n",
              "std     1243.15  541469.69  2867.26  2575.87   181854.56           24.66   \n",
              "min   309828.00  100000.00     1.00     0.00 -1872653.40            0.00   \n",
              "25%   310844.00  100000.00    20.00    24.50   -33286.79            1.83   \n",
              "50%   311894.00  187123.00   112.00   145.00    -1101.60            8.16   \n",
              "75%   313038.50  479810.14   556.00   659.00     8264.35           22.99   \n",
              "max   314288.00 4103087.72 56914.00 56703.00  2122319.28          398.80   \n",
              "\n",
              "        class  \n",
              "count 1527.00  \n",
              "mean     2.99  \n",
              "std      1.41  \n",
              "min      1.00  \n",
              "25%      2.00  \n",
              "50%      3.00  \n",
              "75%      4.00  \n",
              "max      5.00  "
            ]
          },
          "execution_count": 9,
          "metadata": {},
          "output_type": "execute_result"
        }
      ],
      "source": [
        "data.describe()"
      ],
      "id": "c2266848"
    },
    {
      "cell_type": "code",
      "execution_count": null,
      "metadata": {
        "id": "0709877b"
      },
      "outputs": [],
      "source": [
        "def draw_hist_and_boxplot(column):\n",
        "    figure, ax = plt.subplots(1, 2, figsize=(15,5))\n",
        "    data[column].plot(kind='hist', bins=50, ax=ax[0])\n",
        "    data[column].plot(kind='box', ax=ax[1]);"
      ],
      "id": "0709877b"
    },
    {
      "cell_type": "code",
      "execution_count": null,
      "metadata": {
        "colab": {
          "base_uri": "https://localhost:8080/",
          "height": 337
        },
        "id": "0abd12cf",
        "outputId": "b707dd3e-104b-4171-cf3f-25fecc624a9b"
      },
      "outputs": [
        {
          "data": {
            "image/png": "[encoded data removed]",
            "text/plain": [
              "<Figure size 1500x500 with 2 Axes>"
            ]
          },
          "metadata": {},
          "output_type": "display_data"
        }
      ],
      "source": [
        "draw_hist_and_boxplot('start_sum')"
      ],
      "id": "0abd12cf"
    },
    {
      "cell_type": "markdown",
      "metadata": {
        "id": "b2e68d7d"
      },
      "source": [
        "У стартовой суммы значения от 100 тысяч до 3 миллионов, в большинстве случаев стартовая сумма составляет как раз минимальные 100 тысяч, выбросы - значения после одного миллиона."
      ],
      "id": "b2e68d7d"
    },
    {
      "cell_type": "code",
      "execution_count": null,
      "metadata": {
        "colab": {
          "base_uri": "https://localhost:8080/"
        },
        "id": "7ffcdcE0-70Y",
        "outputId": "229a6c14-d49c-4f67-ff70-f55759deff55"
      },
      "outputs": [
        {
          "data": {
            "text/plain": [
              "count       333.00\n",
              "mean    1239922.81\n",
              "std      656669.97\n",
              "min      542018.06\n",
              "25%      728000.00\n",
              "50%     1000000.00\n",
              "75%     1587717.00\n",
              "max     4103087.72\n",
              "Name: start_sum, dtype: float64"
            ]
          },
          "execution_count": 12,
          "metadata": {},
          "output_type": "execute_result"
        }
      ],
      "source": [
        "data[data['start_sum'] > data['start_sum'].std() ]['start_sum'].describe()"
      ],
      "id": "7ffcdcE0-70Y"
    },
    {
      "cell_type": "code",
      "execution_count": null,
      "metadata": {
        "id": "UC1mcx7W_3jZ"
      },
      "outputs": [],
      "source": [
        "data[data['start_sum'] > 4* data['start_sum'].std()]"
      ],
      "id": "UC1mcx7W_3jZ"
    },
    {
      "cell_type": "markdown",
      "metadata": {
        "id": "EkUnc715BBxj"
      },
      "source": [
        "выбросов нет\n",
        "\n"
      ],
      "id": "EkUnc715BBxj"
    },
    {
      "cell_type": "code",
      "execution_count": null,
      "metadata": {
        "id": "7e2a3ec0"
      },
      "outputs": [],
      "source": [
        "draw_hist_and_boxplot('request')"
      ],
      "id": "7e2a3ec0"
    },
    {
      "cell_type": "markdown",
      "metadata": {
        "id": "0b12fe15"
      },
      "source": [
        "request - это количество заявок для сделки и здесь явно много выбросов и аномальных значений. В основном до 500 заявок, однако есть человек у которого было и 28 тысяч заявок **(по-моему это странно и надо об этом спросить).**"
      ],
      "id": "0b12fe15"
    },
    {
      "cell_type": "code",
      "execution_count": null,
      "metadata": {
        "colab": {
          "base_uri": "https://localhost:8080/"
        },
        "id": "7UCCm1V5BVZM",
        "outputId": "ea87f446-3f71-4d76-b011-40a4a937312b"
      },
      "outputs": [
        {
          "data": {
            "text/plain": [
              "count      89.00\n",
              "mean     8478.29\n",
              "std      8643.65\n",
              "min      2879.00\n",
              "25%      3745.00\n",
              "50%      5297.00\n",
              "75%      8938.00\n",
              "max     56914.00\n",
              "Name: request, dtype: float64"
            ]
          },
          "execution_count": 44,
          "metadata": {},
          "output_type": "execute_result"
        }
      ],
      "source": [
        "data[data['request'] > data['request'].std()]['request'].describe()"
      ],
      "id": "7UCCm1V5BVZM"
    },
    {
      "cell_type": "code",
      "execution_count": null,
      "metadata": {
        "colab": {
          "base_uri": "https://localhost:8080/",
          "height": 415
        },
        "id": "aebe34e8",
        "outputId": "ed1e98b4-d5e8-4910-e565-299d520d0ad1"
      },
      "outputs": [
        {
          "data": {
            "image/png": "[encoded data removed]",
            "text/plain": [
              "<Figure size 1500x500 with 2 Axes>"
            ]
          },
          "metadata": {},
          "output_type": "display_data"
        }
      ],
      "source": [
        "draw_hist_and_boxplot('deals')"
      ],
      "id": "aebe34e8"
    },
    {
      "cell_type": "markdown",
      "metadata": {
        "id": "caa65da6"
      },
      "source": [
        "То же самое и с количеством сделок, в основном их около 600, но встречаются и люди, у которых их 43 тысячи, **(что также странно и об этом, наверное, нужно спросить)**"
      ],
      "id": "caa65da6"
    },
    {
      "cell_type": "code",
      "execution_count": null,
      "metadata": {
        "colab": {
          "base_uri": "https://localhost:8080/",
          "height": 446
        },
        "id": "fbe2b554",
        "outputId": "a375af6c-7443-4ed7-fdf2-fc7628b1b9f7"
      },
      "outputs": [
        {
          "data": {
            "image/png": "[encoded data removed]",
            "text/plain": [
              "<Figure size 1500x500 with 2 Axes>"
            ]
          },
          "metadata": {},
          "output_type": "display_data"
        }
      ],
      "source": [
        "draw_hist_and_boxplot('income_rub')"
      ],
      "id": "fbe2b554"
    },
    {
      "cell_type": "markdown",
      "metadata": {
        "id": "de8705c4"
      },
      "source": [
        "В полне логично, что у всех разный доход, но можно заметить, что большинство людей выходят в 0. Судя по выбросам, есть супер богатые и банкроты )))"
      ],
      "id": "de8705c4"
    },
    {
      "cell_type": "code",
      "execution_count": null,
      "metadata": {
        "id": "MAnh0qiWC6gX"
      },
      "outputs": [],
      "source": [
        "# вернуть дф, в котором удалены строчки, где значения превышают 3 std\n",
        "def del_rows_that_bigger(df, col):\n",
        "  return df[(df[col] > df[col].mean() - 3*df[col].std()) & (df[col] < df[col].mean() + 3*df[col].std())]"
      ],
      "id": "MAnh0qiWC6gX"
    },
    {
      "cell_type": "code",
      "execution_count": null,
      "metadata": {
        "id": "3jaoROXND6QO"
      },
      "outputs": [],
      "source": [
        "new_df = del_rows_that_bigger(data, 'income_rub')\n",
        "# Сколько удалилось:\n",
        "(data.shape[0] - new_df.shape[0])/data.shape[0]"
      ],
      "id": "3jaoROXND6QO"
    },
    {
      "cell_type": "code",
      "source": [
        "df['class'].value_counts() # check how many target classes"
      ],
      "metadata": {
        "id": "-hsxYlG937Ic"
      },
      "id": "-hsxYlG937Ic",
      "execution_count": null,
      "outputs": []
    },
    {
      "cell_type": "markdown",
      "metadata": {
        "id": "-OB0nhboV7HV"
      },
      "source": [
        "## EDA\n"
      ],
      "id": "-OB0nhboV7HV"
    },
    {
      "cell_type": "code",
      "execution_count": null,
      "metadata": {
        "id": "8f44c922"
      },
      "outputs": [],
      "source": [
        "# editing data in df, making int or float data types instead of object type\n",
        "df['income_rub'] = (df['income_rub'].replace(',','.', regex=True).replace(' ','', regex=True).astype('float'))\n",
        "df[df['income_percent'] == '-'] = 0  #replacing all \"-\" with zeros \n",
        "df['income_percent'] = (df['income_percent'].replace(',','.', regex=True).astype('float'))\n",
        "df['start_sum'] = (df['start_sum'].replace(',','.', regex=True).replace(' ','', regex=True).astype('float'))"
      ],
      "id": "8f44c922"
    },
    {
      "cell_type": "code",
      "execution_count": null,
      "metadata": {
        "id": "PE5lWY7_6KbZ"
      },
      "outputs": [],
      "source": [
        "#spliting df into features and target values \n",
        "features, target = df[['id','start_sum',\"request\",\"deals\",\"income_rub\",\"income_percent\"]], df[\"class\"] "
      ],
      "id": "PE5lWY7_6KbZ"
    },
    {
      "cell_type": "code",
      "source": [
        "features"
      ],
      "metadata": {
        "colab": {
          "base_uri": "https://localhost:8080/",
          "height": 424
        },
        "id": "ovqacI8c5KbV",
        "outputId": "24eff775-5de5-4a7a-d199-235315ba0317"
      },
      "id": "ovqacI8c5KbV",
      "execution_count": null,
      "outputs": [
        {
          "output_type": "execute_result",
          "data": {
            "text/plain": [
              "          id  start_sum  request  deals  income_rub  income_percent\n",
              "0     311613  264530.00     2081    934    58101.51           21.96\n",
              "1     311209  103693.18      439    805    11351.71           10.95\n",
              "2     313350  951481.94      636    938   -23613.53           -2.48\n",
              "3     310145  660000.00      932   1072  -198473.31          -30.07\n",
              "4     310555  116025.00       46     44    -4187.62           -3.61\n",
              "...      ...        ...      ...    ...         ...             ...\n",
              "1522  313159  100000.00      289    286    -1494.68           -1.49\n",
              "1523  314178 2702622.00       12    170  -169978.18           -6.29\n",
              "1524  310108  100000.00      159     41     -384.07           -0.38\n",
              "1525  310840  100000.00        3     10     -572.86           -0.57\n",
              "1526  312664  316596.00       59     90   -49102.09          -15.51\n",
              "\n",
              "[1527 rows x 6 columns]"
            ],
            "text/html": [
              "\n",
              "  <div id=\"df-e8a65b50-55cb-4d2f-b081-f0e5d56e3334\">\n",
              "    <div class=\"colab-df-container\">\n",
              "      <div>\n",
              "<style scoped>\n",
              "    .dataframe tbody tr th:only-of-type {\n",
              "        vertical-align: middle;\n",
              "    }\n",
              "\n",
              "    .dataframe tbody tr th {\n",
              "        vertical-align: top;\n",
              "    }\n",
              "\n",
              "    .dataframe thead th {\n",
              "        text-align: right;\n",
              "    }\n",
              "</style>\n",
              "<table border=\"1\" class=\"dataframe\">\n",
              "  <thead>\n",
              "    <tr style=\"text-align: right;\">\n",
              "      <th></th>\n",
              "      <th>id</th>\n",
              "      <th>start_sum</th>\n",
              "      <th>request</th>\n",
              "      <th>deals</th>\n",
              "      <th>income_rub</th>\n",
              "      <th>income_percent</th>\n",
              "    </tr>\n",
              "  </thead>\n",
              "  <tbody>\n",
              "    <tr>\n",
              "      <th>0</th>\n",
              "      <td>311613</td>\n",
              "      <td>264530.00</td>\n",
              "      <td>2081</td>\n",
              "      <td>934</td>\n",
              "      <td>58101.51</td>\n",
              "      <td>21.96</td>\n",
              "    </tr>\n",
              "    <tr>\n",
              "      <th>1</th>\n",
              "      <td>311209</td>\n",
              "      <td>103693.18</td>\n",
              "      <td>439</td>\n",
              "      <td>805</td>\n",
              "      <td>11351.71</td>\n",
              "      <td>10.95</td>\n",
              "    </tr>\n",
              "    <tr>\n",
              "      <th>2</th>\n",
              "      <td>313350</td>\n",
              "      <td>951481.94</td>\n",
              "      <td>636</td>\n",
              "      <td>938</td>\n",
              "      <td>-23613.53</td>\n",
              "      <td>-2.48</td>\n",
              "    </tr>\n",
              "    <tr>\n",
              "      <th>3</th>\n",
              "      <td>310145</td>\n",
              "      <td>660000.00</td>\n",
              "      <td>932</td>\n",
              "      <td>1072</td>\n",
              "      <td>-198473.31</td>\n",
              "      <td>-30.07</td>\n",
              "    </tr>\n",
              "    <tr>\n",
              "      <th>4</th>\n",
              "      <td>310555</td>\n",
              "      <td>116025.00</td>\n",
              "      <td>46</td>\n",
              "      <td>44</td>\n",
              "      <td>-4187.62</td>\n",
              "      <td>-3.61</td>\n",
              "    </tr>\n",
              "    <tr>\n",
              "      <th>...</th>\n",
              "      <td>...</td>\n",
              "      <td>...</td>\n",
              "      <td>...</td>\n",
              "      <td>...</td>\n",
              "      <td>...</td>\n",
              "      <td>...</td>\n",
              "    </tr>\n",
              "    <tr>\n",
              "      <th>1522</th>\n",
              "      <td>313159</td>\n",
              "      <td>100000.00</td>\n",
              "      <td>289</td>\n",
              "      <td>286</td>\n",
              "      <td>-1494.68</td>\n",
              "      <td>-1.49</td>\n",
              "    </tr>\n",
              "    <tr>\n",
              "      <th>1523</th>\n",
              "      <td>314178</td>\n",
              "      <td>2702622.00</td>\n",
              "      <td>12</td>\n",
              "      <td>170</td>\n",
              "      <td>-169978.18</td>\n",
              "      <td>-6.29</td>\n",
              "    </tr>\n",
              "    <tr>\n",
              "      <th>1524</th>\n",
              "      <td>310108</td>\n",
              "      <td>100000.00</td>\n",
              "      <td>159</td>\n",
              "      <td>41</td>\n",
              "      <td>-384.07</td>\n",
              "      <td>-0.38</td>\n",
              "    </tr>\n",
              "    <tr>\n",
              "      <th>1525</th>\n",
              "      <td>310840</td>\n",
              "      <td>100000.00</td>\n",
              "      <td>3</td>\n",
              "      <td>10</td>\n",
              "      <td>-572.86</td>\n",
              "      <td>-0.57</td>\n",
              "    </tr>\n",
              "    <tr>\n",
              "      <th>1526</th>\n",
              "      <td>312664</td>\n",
              "      <td>316596.00</td>\n",
              "      <td>59</td>\n",
              "      <td>90</td>\n",
              "      <td>-49102.09</td>\n",
              "      <td>-15.51</td>\n",
              "    </tr>\n",
              "  </tbody>\n",
              "</table>\n",
              "<p>1527 rows × 6 columns</p>\n",
              "</div>\n",
              "      <button class=\"colab-df-convert\" onclick=\"convertToInteractive('df-e8a65b50-55cb-4d2f-b081-f0e5d56e3334')\"\n",
              "              title=\"Convert this dataframe to an interactive table.\"\n",
              "              style=\"display:none;\">\n",
              "        \n",
              "  <svg xmlns=\"http://www.w3.org/2000/svg\" height=\"24px\"viewBox=\"0 0 24 24\"\n",
              "       width=\"24px\">\n",
              "    <path d=\"M0 0h24v24H0V0z\" fill=\"none\"/>\n",
              "    <path d=\"M18.56 5.44l.94 2.06.94-2.06 2.06-.94-2.06-.94-.94-2.06-.94 2.06-2.06.94zm-11 1L8.5 8.5l.94-2.06 2.06-.94-2.06-.94L8.5 2.5l-.94 2.06-2.06.94zm10 10l.94 2.06.94-2.06 2.06-.94-2.06-.94-.94-2.06-.94 2.06-2.06.94z\"/><path d=\"M17.41 7.96l-1.37-1.37c-.4-.4-.92-.59-1.43-.59-.52 0-1.04.2-1.43.59L10.3 9.45l-7.72 7.72c-.78.78-.78 2.05 0 2.83L4 21.41c.39.39.9.59 1.41.59.51 0 1.02-.2 1.41-.59l7.78-7.78 2.81-2.81c.8-.78.8-2.07 0-2.86zM5.41 20L4 18.59l7.72-7.72 1.47 1.35L5.41 20z\"/>\n",
              "  </svg>\n",
              "      </button>\n",
              "      \n",
              "  <style>\n",
              "    .colab-df-container {\n",
              "      display:flex;\n",
              "      flex-wrap:wrap;\n",
              "      gap: 12px;\n",
              "    }\n",
              "\n",
              "    .colab-df-convert {\n",
              "      background-color: #E8F0FE;\n",
              "      border: none;\n",
              "      border-radius: 50%;\n",
              "      cursor: pointer;\n",
              "      display: none;\n",
              "      fill: #1967D2;\n",
              "      height: 32px;\n",
              "      padding: 0 0 0 0;\n",
              "      width: 32px;\n",
              "    }\n",
              "\n",
              "    .colab-df-convert:hover {\n",
              "      background-color: #E2EBFA;\n",
              "      box-shadow: 0px 1px 2px rgba(60, 64, 67, 0.3), 0px 1px 3px 1px rgba(60, 64, 67, 0.15);\n",
              "      fill: #174EA6;\n",
              "    }\n",
              "\n",
              "    [theme=dark] .colab-df-convert {\n",
              "      background-color: #3B4455;\n",
              "      fill: #D2E3FC;\n",
              "    }\n",
              "\n",
              "    [theme=dark] .colab-df-convert:hover {\n",
              "      background-color: #434B5C;\n",
              "      box-shadow: 0px 1px 3px 1px rgba(0, 0, 0, 0.15);\n",
              "      filter: drop-shadow(0px 1px 2px rgba(0, 0, 0, 0.3));\n",
              "      fill: #FFFFFF;\n",
              "    }\n",
              "  </style>\n",
              "\n",
              "      <script>\n",
              "        const buttonEl =\n",
              "          document.querySelector('#df-e8a65b50-55cb-4d2f-b081-f0e5d56e3334 button.colab-df-convert');\n",
              "        buttonEl.style.display =\n",
              "          google.colab.kernel.accessAllowed ? 'block' : 'none';\n",
              "\n",
              "        async function convertToInteractive(key) {\n",
              "          const element = document.querySelector('#df-e8a65b50-55cb-4d2f-b081-f0e5d56e3334');\n",
              "          const dataTable =\n",
              "            await google.colab.kernel.invokeFunction('convertToInteractive',\n",
              "                                                     [key], {});\n",
              "          if (!dataTable) return;\n",
              "\n",
              "          const docLinkHtml = 'Like what you see? Visit the ' +\n",
              "            '<a target=\"_blank\" href=https://colab.research.google.com/notebooks/data_table.ipynb>data table notebook</a>'\n",
              "            + ' to learn more about interactive tables.';\n",
              "          element.innerHTML = '';\n",
              "          dataTable['output_type'] = 'display_data';\n",
              "          await google.colab.output.renderOutput(dataTable, element);\n",
              "          const docLink = document.createElement('div');\n",
              "          docLink.innerHTML = docLinkHtml;\n",
              "          element.appendChild(docLink);\n",
              "        }\n",
              "      </script>\n",
              "    </div>\n",
              "  </div>\n",
              "  "
            ]
          },
          "metadata": {},
          "execution_count": 65
        }
      ]
    },
    {
      "cell_type": "markdown",
      "metadata": {
        "id": "sUiQXguLwhr1"
      },
      "source": [
        "## Вытаскием данные из других табличек"
      ],
      "id": "sUiQXguLwhr1"
    },
    {
      "cell_type": "code",
      "execution_count": null,
      "metadata": {
        "id": "VyFeku0swspg"
      },
      "outputs": [],
      "source": [
        "for filename in os.listdir(train_deals_path):\n",
        "    filename_id = filename[2:-4] # getting user id from folder's name\n",
        "    #print(filename_id)\n",
        "     \n",
        "    if filename.endswith('.zip'): #take only zip files\n",
        "        with zipfile.ZipFile(os.path.join(train_deals_path, filename), 'r') as zip_ref: \n",
        "            for file in zip_ref.namelist():\n",
        "                with zip_ref.open(file) as f_in:#opening and reading files\n",
        "                    file_content = f_in.read().decode('utf-8') #reading file's content \n",
        "                    content = StringIO(file_content) #making it csv file, so we can read it with \"read_csv\"\n",
        "                    auxiliary_df = pd.read_csv(content, sep=\";\", names=['time','tool','quantity','sum'])\n",
        "                    auxiliary_df['date'] = auxiliary_df['time'].str[:10] # extracting date from datetime column to group by date\n",
        "\n",
        "                    #getting how many tools a user was using\n",
        "                    features.loc[features['id'] == int(filename_id), ['amount_of_tools']] = len(auxiliary_df['tool'].unique()) \n",
        "\n",
        "                    #getting user's everage deals by days \n",
        "                    features.loc[features['id'] == int(filename_id), ['everage_deals_by_day']] = auxiliary_df.groupby('date').count().mean().iloc[1]\n",
        "\n",
        "                    #getting user's mean sum by days \n",
        "                    features.loc[features['id'] == int(filename_id), ['mean_sum_by_days']] = auxiliary_df['sum'].mean().round(2)\n",
        "\n",
        "                    #getting user's max sum by days \n",
        "                    features.loc[features['id'] == int(filename_id), ['max_sum_by_days']] = auxiliary_df['sum'].max()\n"
      ],
      "id": "VyFeku0swspg"
    },
    {
      "cell_type": "code",
      "execution_count": null,
      "metadata": {
        "id": "YEMzSdrKwstu"
      },
      "outputs": [],
      "source": [
        "def read_all_csv_files(folder_path):\n",
        "    n = 0\n",
        "    for root, dirs, files in os.walk(folder_path):\n",
        "        for dir_name in dirs:\n",
        "            dir_path = os.path.join(root, dir_name)\n",
        "            filename_id = dir_name[3:] # get user's id from dir's name\n",
        "            print('file: ', filename_id, 'progress:', (n/15), '%') # progress bar kinda ;)\n",
        "\n",
        "            for file in os.listdir(dir_path):\n",
        "\n",
        "                if filename_id.isdigit(): #check that's filename contains user's id by checking special part of it's name\n",
        "\n",
        "                    if file.endswith(\".csv\"): # get only csv files\n",
        "\n",
        "                        file_path = os.path.join(dir_path, file)\n",
        "\n",
        "                        #work with stats table file\n",
        "                        if 'stats_table' in file:\n",
        "                            auxiliary_df = pd.read_csv(file_path, sep=';', header=0) #reading file\n",
        "                            #print('sdf - ', auxiliary_df)\n",
        "                            #getting all values from stats table row \"all_markets\"\n",
        "                            features.loc[features['id'] == int(filename_id), ['money_turnover']] = auxiliary_df.loc[ auxiliary_df['Unnamed: 0'] == 'all_markets', ['money_turnover']].values[0]\n",
        "                            #print('\\n\\n stock_market  - ',type(auxiliary_df.loc[ auxiliary_df['Unnamed: 0'] == 'stock_market', ['deals']].values[0][0]),'\\n\\n fonts - ', auxiliary_df.loc[ auxiliary_df['Unnamed: 0'] == 'forts_market', ['deals']].values[0][0])\n",
        "                            features.loc[features['id'] == int(filename_id), ['ration_of_stock_market']] = auxiliary_df.loc[ auxiliary_df['Unnamed: 0'] == 'stock_market', ['deals']].values[0][0]*100/ auxiliary_df.loc[ auxiliary_df['Unnamed: 0'] == 'all_markets', ['deals']].values[0][0]\n",
        "                            features.loc[features['id'] == int(filename_id), ['ration_of_forts_market']] = auxiliary_df.loc[ auxiliary_df['Unnamed: 0'] == 'forts_market', ['deals']].values[0][0]*100/ auxiliary_df.loc[ auxiliary_df['Unnamed: 0'] == 'all_markets', ['deals']].values[0][0]\n",
        "                            #features.loc[features['id'] == int(filename_id), ['ration_of_income_stock_market']] = auxiliary_df.loc[ auxiliary_df['Unnamed: 0'] == 'stock_market', ['income_rubles']].values[0][0]*100/ auxiliary_df.loc[ auxiliary_df['Unnamed: 0'] == 'all_markets', ['income_rubles']].values[0][0]\n",
        "                            features.loc[features['id'] == int(filename_id), ['ration_of_income_forts_market']] = auxiliary_df.loc[ auxiliary_df['Unnamed: 0'] == 'forts_market', ['income_rubles']].values[0][0]*100/ auxiliary_df.loc[ auxiliary_df['Unnamed: 0'] == 'all_markets', ['income_rubles']].values[0][0]\n",
        "                            #features.loc[features['id'] == int(filename_id), ['ration_of_turnover_stock_market']] = auxiliary_df.loc[ auxiliary_df['Unnamed: 0'] == 'stock_market', ['money_turnover']].values[0][0]*100/ auxiliary_df.loc[ auxiliary_df['Unnamed: 0'] == 'all_markets', ['money_turnover']].values[0][0]\n",
        "                            features.loc[features['id'] == int(filename_id), ['ration_of_turnover_forts_market']] = auxiliary_df.loc[ auxiliary_df['Unnamed: 0'] == 'forts_market', ['money_turnover']].values[0][0]*100/ auxiliary_df.loc[ auxiliary_df['Unnamed: 0'] == 'all_markets', ['money_turnover']].values[0][0]\n",
        "                            \n",
        "                        #work with stats table file\n",
        "                        if 'account_condition' in file:\n",
        "                            auxiliary_df = pd.read_csv(file_path, sep=';', header=0)\n",
        "\n",
        "                            #clearing column 'free_funds'\n",
        "                            auxiliary_df['free_funds_clear'] = auxiliary_df['free_funds'].apply(lambda x: x.split('(', 1)[-1].split(')', 1)[0]).apply(lambda x: 0 if (x == '-' or x =='+') else x).astype('float')\n",
        "                            \n",
        "                            # getting average free funds \n",
        "                            features.loc[features['id'] == int(filename_id), ['average_free_funds']] = float(auxiliary_df['free_funds_clear'].diff().mean())\n",
        "                        \n",
        "                        #work with reference point file\n",
        "                        if 'reference_point' in file:\n",
        "                            auxiliary_df = pd.read_csv(file_path, sep=';', header=0)\n",
        "                            features.loc[features['id'] == int(filename_id), ['average_end_day_balance']] = auxiliary_df['end_day_balance'].diff().mean()\n",
        "                         \n",
        "            n+=1\n",
        "                            \n",
        "                        \n",
        "folder_path = train_add_info_path # set folder's path\n",
        "read_all_csv_files(folder_path)"
      ],
      "id": "YEMzSdrKwstu"
    },
    {
      "cell_type": "markdown",
      "metadata": {
        "id": "OESmVhMstRdl"
      },
      "source": [
        "## Матрица корреляций"
      ],
      "id": "OESmVhMstRdl"
    },
    {
      "cell_type": "code",
      "execution_count": null,
      "metadata": {
        "id": "wZn7g2xcxdXx",
        "colab": {
          "base_uri": "https://localhost:8080/",
          "height": 446
        },
        "outputId": "f3b7314f-81e5-412a-e7ce-c331af3c02b7"
      },
      "outputs": [
        {
          "output_type": "execute_result",
          "data": {
            "text/plain": [
              "<pandas.io.formats.style.Styler at 0x7f570f2f3cd0>"
            ],
            "text/html": [
              "<style type=\"text/css\">\n",
              "#T_24539_row0_col0, #T_24539_row1_col1, #T_24539_row2_col2, #T_24539_row3_col3, #T_24539_row4_col4, #T_24539_row5_col5, #T_24539_row6_col6, #T_24539_row7_col7, #T_24539_row8_col8, #T_24539_row9_col9, #T_24539_row10_col10, #T_24539_row11_col11 {\n",
              "  background-color: #008000;\n",
              "  color: #f1f1f1;\n",
              "}\n",
              "#T_24539_row0_col1, #T_24539_row5_col4 {\n",
              "  background-color: #e2efe2;\n",
              "  color: #000000;\n",
              "}\n",
              "#T_24539_row0_col2, #T_24539_row9_col4 {\n",
              "  background-color: #bbdcbb;\n",
              "  color: #000000;\n",
              "}\n",
              "#T_24539_row0_col3, #T_24539_row0_col11, #T_24539_row3_col0, #T_24539_row3_col2, #T_24539_row3_col6, #T_24539_row3_col7, #T_24539_row3_col8, #T_24539_row3_col9, #T_24539_row3_col10, #T_24539_row4_col5, #T_24539_row4_col7, #T_24539_row7_col4, #T_24539_row10_col1, #T_24539_row11_col5, #T_24539_row11_col10 {\n",
              "  background-color: #ebf3eb;\n",
              "  color: #000000;\n",
              "}\n",
              "#T_24539_row0_col4, #T_24539_row0_col5, #T_24539_row10_col4, #T_24539_row10_col8 {\n",
              "  background-color: #e3efe3;\n",
              "  color: #000000;\n",
              "}\n",
              "#T_24539_row0_col6, #T_24539_row1_col5 {\n",
              "  background-color: #b6d9b6;\n",
              "  color: #000000;\n",
              "}\n",
              "#T_24539_row0_col7, #T_24539_row1_col0, #T_24539_row4_col2, #T_24539_row5_col9 {\n",
              "  background-color: #c5e0c5;\n",
              "  color: #000000;\n",
              "}\n",
              "#T_24539_row0_col8 {\n",
              "  background-color: #bcdcbc;\n",
              "  color: #000000;\n",
              "}\n",
              "#T_24539_row0_col9, #T_24539_row2_col0 {\n",
              "  background-color: #a7d2a7;\n",
              "  color: #000000;\n",
              "}\n",
              "#T_24539_row0_col10 {\n",
              "  background-color: #94c994;\n",
              "  color: #000000;\n",
              "}\n",
              "#T_24539_row1_col2 {\n",
              "  background-color: #71b771;\n",
              "  color: #f1f1f1;\n",
              "}\n",
              "#T_24539_row1_col3, #T_24539_row5_col6, #T_24539_row6_col4 {\n",
              "  background-color: #c7e1c7;\n",
              "  color: #000000;\n",
              "}\n",
              "#T_24539_row1_col4, #T_24539_row5_col3, #T_24539_row6_col5 {\n",
              "  background-color: #cbe4cb;\n",
              "  color: #000000;\n",
              "}\n",
              "#T_24539_row1_col6 {\n",
              "  background-color: #75b975;\n",
              "  color: #f1f1f1;\n",
              "}\n",
              "#T_24539_row1_col7, #T_24539_row5_col0 {\n",
              "  background-color: #c8e2c8;\n",
              "  color: #000000;\n",
              "}\n",
              "#T_24539_row1_col8 {\n",
              "  background-color: #bdddbd;\n",
              "  color: #000000;\n",
              "}\n",
              "#T_24539_row1_col9, #T_24539_row10_col0 {\n",
              "  background-color: #8bc48b;\n",
              "  color: #000000;\n",
              "}\n",
              "#T_24539_row1_col10, #T_24539_row2_col11 {\n",
              "  background-color: #dbebdb;\n",
              "  color: #000000;\n",
              "}\n",
              "#T_24539_row1_col11, #T_24539_row2_col10, #T_24539_row4_col1, #T_24539_row8_col3, #T_24539_row11_col9 {\n",
              "  background-color: #d5e9d5;\n",
              "  color: #000000;\n",
              "}\n",
              "#T_24539_row2_col1 {\n",
              "  background-color: #74b974;\n",
              "  color: #f1f1f1;\n",
              "}\n",
              "#T_24539_row2_col3, #T_24539_row6_col3 {\n",
              "  background-color: #d3e7d3;\n",
              "  color: #000000;\n",
              "}\n",
              "#T_24539_row2_col4 {\n",
              "  background-color: #c1dfc1;\n",
              "  color: #000000;\n",
              "}\n",
              "#T_24539_row2_col5, #T_24539_row11_col3 {\n",
              "  background-color: #cce4cc;\n",
              "  color: #000000;\n",
              "}\n",
              "#T_24539_row2_col6, #T_24539_row6_col2 {\n",
              "  background-color: #0d860d;\n",
              "  color: #f1f1f1;\n",
              "}\n",
              "#T_24539_row2_col7 {\n",
              "  background-color: #c2dfc2;\n",
              "  color: #000000;\n",
              "}\n",
              "#T_24539_row2_col8, #T_24539_row8_col5 {\n",
              "  background-color: #afd6af;\n",
              "  color: #000000;\n",
              "}\n",
              "#T_24539_row2_col9 {\n",
              "  background-color: #269226;\n",
              "  color: #f1f1f1;\n",
              "}\n",
              "#T_24539_row3_col1, #T_24539_row10_col7 {\n",
              "  background-color: #e4f0e4;\n",
              "  color: #000000;\n",
              "}\n",
              "#T_24539_row3_col4 {\n",
              "  background-color: #4ea64e;\n",
              "  color: #f1f1f1;\n",
              "}\n",
              "#T_24539_row3_col5, #T_24539_row10_col11, #T_24539_row11_col6 {\n",
              "  background-color: #e7f1e7;\n",
              "  color: #000000;\n",
              "}\n",
              "#T_24539_row3_col11, #T_24539_row5_col10, #T_24539_row7_col3, #T_24539_row10_col9 {\n",
              "  background-color: #d6e9d6;\n",
              "  color: #000000;\n",
              "}\n",
              "#T_24539_row4_col0 {\n",
              "  background-color: #cfe5cf;\n",
              "  color: #000000;\n",
              "}\n",
              "#T_24539_row4_col3 {\n",
              "  background-color: #48a348;\n",
              "  color: #f1f1f1;\n",
              "}\n",
              "#T_24539_row4_col6 {\n",
              "  background-color: #cae3ca;\n",
              "  color: #000000;\n",
              "}\n",
              "#T_24539_row4_col8 {\n",
              "  background-color: #e6f1e6;\n",
              "  color: #000000;\n",
              "}\n",
              "#T_24539_row4_col9, #T_24539_row7_col0, #T_24539_row9_col7 {\n",
              "  background-color: #b3d8b3;\n",
              "  color: #000000;\n",
              "}\n",
              "#T_24539_row4_col10, #T_24539_row7_col10, #T_24539_row8_col11, #T_24539_row11_col7 {\n",
              "  background-color: #deedde;\n",
              "  color: #000000;\n",
              "}\n",
              "#T_24539_row4_col11, #T_24539_row5_col11 {\n",
              "  background-color: #d8ead8;\n",
              "  color: #000000;\n",
              "}\n",
              "#T_24539_row5_col1 {\n",
              "  background-color: #b8dab8;\n",
              "  color: #000000;\n",
              "}\n",
              "#T_24539_row5_col2 {\n",
              "  background-color: #c9e2c8;\n",
              "  color: #000000;\n",
              "}\n",
              "#T_24539_row5_col7 {\n",
              "  background-color: #dfeddf;\n",
              "  color: #000000;\n",
              "}\n",
              "#T_24539_row5_col8 {\n",
              "  background-color: #a9d3a9;\n",
              "  color: #000000;\n",
              "}\n",
              "#T_24539_row6_col0 {\n",
              "  background-color: #a4d0a4;\n",
              "  color: #000000;\n",
              "}\n",
              "#T_24539_row6_col1 {\n",
              "  background-color: #78bb78;\n",
              "  color: #000000;\n",
              "}\n",
              "#T_24539_row6_col7 {\n",
              "  background-color: #c0dec0;\n",
              "  color: #000000;\n",
              "}\n",
              "#T_24539_row6_col8 {\n",
              "  background-color: #b1d7b1;\n",
              "  color: #000000;\n",
              "}\n",
              "#T_24539_row6_col9 {\n",
              "  background-color: #329832;\n",
              "  color: #f1f1f1;\n",
              "}\n",
              "#T_24539_row6_col10 {\n",
              "  background-color: #d0e6d0;\n",
              "  color: #000000;\n",
              "}\n",
              "#T_24539_row6_col11, #T_24539_row9_col10, #T_24539_row10_col6 {\n",
              "  background-color: #d9ead9;\n",
              "  color: #000000;\n",
              "}\n",
              "#T_24539_row7_col1 {\n",
              "  background-color: #d1e6d1;\n",
              "  color: #000000;\n",
              "}\n",
              "#T_24539_row7_col2, #T_24539_row8_col1 {\n",
              "  background-color: #c6e1c6;\n",
              "  color: #000000;\n",
              "}\n",
              "#T_24539_row7_col5 {\n",
              "  background-color: #e8f2e8;\n",
              "  color: #000000;\n",
              "}\n",
              "#T_24539_row7_col6 {\n",
              "  background-color: #c3e0c3;\n",
              "  color: #000000;\n",
              "}\n",
              "#T_24539_row7_col8, #T_24539_row8_col7 {\n",
              "  background-color: #4da64d;\n",
              "  color: #f1f1f1;\n",
              "}\n",
              "#T_24539_row7_col9 {\n",
              "  background-color: #acd4ac;\n",
              "  color: #000000;\n",
              "}\n",
              "#T_24539_row7_col11, #T_24539_row9_col5, #T_24539_row9_col11 {\n",
              "  background-color: #d4e8d4;\n",
              "  color: #000000;\n",
              "}\n",
              "#T_24539_row8_col0 {\n",
              "  background-color: #aad3aa;\n",
              "  color: #000000;\n",
              "}\n",
              "#T_24539_row8_col2 {\n",
              "  background-color: #b2d7b1;\n",
              "  color: #000000;\n",
              "}\n",
              "#T_24539_row8_col4, #T_24539_row10_col5 {\n",
              "  background-color: #e5f0e5;\n",
              "  color: #000000;\n",
              "}\n",
              "#T_24539_row8_col6 {\n",
              "  background-color: #b2d7b2;\n",
              "  color: #000000;\n",
              "}\n",
              "#T_24539_row8_col9 {\n",
              "  background-color: #a0cea0;\n",
              "  color: #000000;\n",
              "}\n",
              "#T_24539_row8_col10 {\n",
              "  background-color: #ddecdd;\n",
              "  color: #000000;\n",
              "}\n",
              "#T_24539_row9_col0 {\n",
              "  background-color: #9ece9e;\n",
              "  color: #000000;\n",
              "}\n",
              "#T_24539_row9_col1 {\n",
              "  background-color: #98ca98;\n",
              "  color: #000000;\n",
              "}\n",
              "#T_24539_row9_col2 {\n",
              "  background-color: #289328;\n",
              "  color: #f1f1f1;\n",
              "}\n",
              "#T_24539_row9_col3, #T_24539_row10_col2 {\n",
              "  background-color: #e0eedf;\n",
              "  color: #000000;\n",
              "}\n",
              "#T_24539_row9_col6 {\n",
              "  background-color: #349a34;\n",
              "  color: #f1f1f1;\n",
              "}\n",
              "#T_24539_row9_col8 {\n",
              "  background-color: #a6d2a6;\n",
              "  color: #000000;\n",
              "}\n",
              "#T_24539_row10_col3 {\n",
              "  background-color: #dcecdc;\n",
              "  color: #000000;\n",
              "}\n",
              "#T_24539_row11_col0 {\n",
              "  background-color: #e0eee0;\n",
              "  color: #000000;\n",
              "}\n",
              "#T_24539_row11_col1, #T_24539_row11_col2 {\n",
              "  background-color: #eaf2ea;\n",
              "  color: #000000;\n",
              "}\n",
              "#T_24539_row11_col4 {\n",
              "  background-color: #e1eee1;\n",
              "  color: #000000;\n",
              "}\n",
              "#T_24539_row11_col8 {\n",
              "  background-color: #e9f2e9;\n",
              "  color: #000000;\n",
              "}\n",
              "</style>\n",
              "<table id=\"T_24539\" class=\"dataframe\">\n",
              "  <thead>\n",
              "    <tr>\n",
              "      <th class=\"blank level0\" >&nbsp;</th>\n",
              "      <th id=\"T_24539_level0_col0\" class=\"col_heading level0 col0\" >start_sum</th>\n",
              "      <th id=\"T_24539_level0_col1\" class=\"col_heading level0 col1\" >request</th>\n",
              "      <th id=\"T_24539_level0_col2\" class=\"col_heading level0 col2\" >deals</th>\n",
              "      <th id=\"T_24539_level0_col3\" class=\"col_heading level0 col3\" >income_rub</th>\n",
              "      <th id=\"T_24539_level0_col4\" class=\"col_heading level0 col4\" >income_percent</th>\n",
              "      <th id=\"T_24539_level0_col5\" class=\"col_heading level0 col5\" >len_tool</th>\n",
              "      <th id=\"T_24539_level0_col6\" class=\"col_heading level0 col6\" >everage_deals_by_day</th>\n",
              "      <th id=\"T_24539_level0_col7\" class=\"col_heading level0 col7\" >mean_sum_by_days</th>\n",
              "      <th id=\"T_24539_level0_col8\" class=\"col_heading level0 col8\" >max_sum_by_days</th>\n",
              "      <th id=\"T_24539_level0_col9\" class=\"col_heading level0 col9\" >money_turnover</th>\n",
              "      <th id=\"T_24539_level0_col10\" class=\"col_heading level0 col10\" >average_free_funds</th>\n",
              "      <th id=\"T_24539_level0_col11\" class=\"col_heading level0 col11\" >average_end_day_balance</th>\n",
              "    </tr>\n",
              "  </thead>\n",
              "  <tbody>\n",
              "    <tr>\n",
              "      <th id=\"T_24539_level0_row0\" class=\"row_heading level0 row0\" >start_sum</th>\n",
              "      <td id=\"T_24539_row0_col0\" class=\"data row0 col0\" >1.000000</td>\n",
              "      <td id=\"T_24539_row0_col1\" class=\"data row0 col1\" >0.029836</td>\n",
              "      <td id=\"T_24539_row0_col2\" class=\"data row0 col2\" >0.177594</td>\n",
              "      <td id=\"T_24539_row0_col3\" class=\"data row0 col3\" >-0.156113</td>\n",
              "      <td id=\"T_24539_row0_col4\" class=\"data row0 col4\" >-0.018638</td>\n",
              "      <td id=\"T_24539_row0_col5\" class=\"data row0 col5\" >0.019474</td>\n",
              "      <td id=\"T_24539_row0_col6\" class=\"data row0 col6\" >0.195855</td>\n",
              "      <td id=\"T_24539_row0_col7\" class=\"data row0 col7\" >0.116860</td>\n",
              "      <td id=\"T_24539_row0_col8\" class=\"data row0 col8\" >0.160411</td>\n",
              "      <td id=\"T_24539_row0_col9\" class=\"data row0 col9\" >0.218883</td>\n",
              "      <td id=\"T_24539_row0_col10\" class=\"data row0 col10\" >0.316415</td>\n",
              "      <td id=\"T_24539_row0_col11\" class=\"data row0 col11\" >-0.103153</td>\n",
              "    </tr>\n",
              "    <tr>\n",
              "      <th id=\"T_24539_level0_row1\" class=\"row_heading level0 row1\" >request</th>\n",
              "      <td id=\"T_24539_row1_col0\" class=\"data row1 col0\" >0.029836</td>\n",
              "      <td id=\"T_24539_row1_col1\" class=\"data row1 col1\" >1.000000</td>\n",
              "      <td id=\"T_24539_row1_col2\" class=\"data row1 col2\" >0.500729</td>\n",
              "      <td id=\"T_24539_row1_col3\" class=\"data row1 col3\" >0.021873</td>\n",
              "      <td id=\"T_24539_row1_col4\" class=\"data row1 col4\" >0.086322</td>\n",
              "      <td id=\"T_24539_row1_col5\" class=\"data row1 col5\" >0.211858</td>\n",
              "      <td id=\"T_24539_row1_col6\" class=\"data row1 col6\" >0.482775</td>\n",
              "      <td id=\"T_24539_row1_col7\" class=\"data row1 col7\" >0.103858</td>\n",
              "      <td id=\"T_24539_row1_col8\" class=\"data row1 col8\" >0.153496</td>\n",
              "      <td id=\"T_24539_row1_col9\" class=\"data row1 col9\" >0.349735</td>\n",
              "      <td id=\"T_24539_row1_col10\" class=\"data row1 col10\" >-0.007249</td>\n",
              "      <td id=\"T_24539_row1_col11\" class=\"data row1 col11\" >-0.002043</td>\n",
              "    </tr>\n",
              "    <tr>\n",
              "      <th id=\"T_24539_level0_row2\" class=\"row_heading level0 row2\" >deals</th>\n",
              "      <td id=\"T_24539_row2_col0\" class=\"data row2 col0\" >0.177594</td>\n",
              "      <td id=\"T_24539_row2_col1\" class=\"data row2 col1\" >0.500729</td>\n",
              "      <td id=\"T_24539_row2_col2\" class=\"data row2 col2\" >1.000000</td>\n",
              "      <td id=\"T_24539_row2_col3\" class=\"data row2 col3\" >-0.035541</td>\n",
              "      <td id=\"T_24539_row2_col4\" class=\"data row2 col4\" >0.131305</td>\n",
              "      <td id=\"T_24539_row2_col5\" class=\"data row2 col5\" >0.118067</td>\n",
              "      <td id=\"T_24539_row2_col6\" class=\"data row2 col6\" >0.940023</td>\n",
              "      <td id=\"T_24539_row2_col7\" class=\"data row2 col7\" >0.129611</td>\n",
              "      <td id=\"T_24539_row2_col8\" class=\"data row2 col8\" >0.216739</td>\n",
              "      <td id=\"T_24539_row2_col9\" class=\"data row2 col9\" >0.822455</td>\n",
              "      <td id=\"T_24539_row2_col10\" class=\"data row2 col10\" >0.014786</td>\n",
              "      <td id=\"T_24539_row2_col11\" class=\"data row2 col11\" >-0.029194</td>\n",
              "    </tr>\n",
              "    <tr>\n",
              "      <th id=\"T_24539_level0_row3\" class=\"row_heading level0 row3\" >income_rub</th>\n",
              "      <td id=\"T_24539_row3_col0\" class=\"data row3 col0\" >-0.156113</td>\n",
              "      <td id=\"T_24539_row3_col1\" class=\"data row3 col1\" >0.021873</td>\n",
              "      <td id=\"T_24539_row3_col2\" class=\"data row3 col2\" >-0.035541</td>\n",
              "      <td id=\"T_24539_row3_col3\" class=\"data row3 col3\" >1.000000</td>\n",
              "      <td id=\"T_24539_row3_col4\" class=\"data row3 col4\" >0.647233</td>\n",
              "      <td id=\"T_24539_row3_col5\" class=\"data row3 col5\" >0.001443</td>\n",
              "      <td id=\"T_24539_row3_col6\" class=\"data row3 col6\" >-0.037030</td>\n",
              "      <td id=\"T_24539_row3_col7\" class=\"data row3 col7\" >-0.054127</td>\n",
              "      <td id=\"T_24539_row3_col8\" class=\"data row3 col8\" >-0.051331</td>\n",
              "      <td id=\"T_24539_row3_col9\" class=\"data row3 col9\" >-0.098138</td>\n",
              "      <td id=\"T_24539_row3_col10\" class=\"data row3 col10\" >-0.081378</td>\n",
              "      <td id=\"T_24539_row3_col11\" class=\"data row3 col11\" >-0.006665</td>\n",
              "    </tr>\n",
              "    <tr>\n",
              "      <th id=\"T_24539_level0_row4\" class=\"row_heading level0 row4\" >income_percent</th>\n",
              "      <td id=\"T_24539_row4_col0\" class=\"data row4 col0\" >-0.018638</td>\n",
              "      <td id=\"T_24539_row4_col1\" class=\"data row4 col1\" >0.086322</td>\n",
              "      <td id=\"T_24539_row4_col2\" class=\"data row4 col2\" >0.131305</td>\n",
              "      <td id=\"T_24539_row4_col3\" class=\"data row4 col3\" >0.647233</td>\n",
              "      <td id=\"T_24539_row4_col4\" class=\"data row4 col4\" >1.000000</td>\n",
              "      <td id=\"T_24539_row4_col5\" class=\"data row4 col5\" >-0.014433</td>\n",
              "      <td id=\"T_24539_row4_col6\" class=\"data row4 col6\" >0.107266</td>\n",
              "      <td id=\"T_24539_row4_col7\" class=\"data row4 col7\" >-0.055301</td>\n",
              "      <td id=\"T_24539_row4_col8\" class=\"data row4 col8\" >-0.027741</td>\n",
              "      <td id=\"T_24539_row4_col9\" class=\"data row4 col9\" >0.162965</td>\n",
              "      <td id=\"T_24539_row4_col10\" class=\"data row4 col10\" >-0.020879</td>\n",
              "      <td id=\"T_24539_row4_col11\" class=\"data row4 col11\" >-0.012871</td>\n",
              "    </tr>\n",
              "    <tr>\n",
              "      <th id=\"T_24539_level0_row5\" class=\"row_heading level0 row5\" >len_tool</th>\n",
              "      <td id=\"T_24539_row5_col0\" class=\"data row5 col0\" >0.019474</td>\n",
              "      <td id=\"T_24539_row5_col1\" class=\"data row5 col1\" >0.211858</td>\n",
              "      <td id=\"T_24539_row5_col2\" class=\"data row5 col2\" >0.118067</td>\n",
              "      <td id=\"T_24539_row5_col3\" class=\"data row5 col3\" >0.001443</td>\n",
              "      <td id=\"T_24539_row5_col4\" class=\"data row5 col4\" >-0.014433</td>\n",
              "      <td id=\"T_24539_row5_col5\" class=\"data row5 col5\" >1.000000</td>\n",
              "      <td id=\"T_24539_row5_col6\" class=\"data row5 col6\" >0.123397</td>\n",
              "      <td id=\"T_24539_row5_col7\" class=\"data row5 col7\" >-0.001142</td>\n",
              "      <td id=\"T_24539_row5_col8\" class=\"data row5 col8\" >0.243500</td>\n",
              "      <td id=\"T_24539_row5_col9\" class=\"data row5 col9\" >0.080809</td>\n",
              "      <td id=\"T_24539_row5_col10\" class=\"data row5 col10\" >0.010046</td>\n",
              "      <td id=\"T_24539_row5_col11\" class=\"data row5 col11\" >-0.014405</td>\n",
              "    </tr>\n",
              "    <tr>\n",
              "      <th id=\"T_24539_level0_row6\" class=\"row_heading level0 row6\" >everage_deals_by_day</th>\n",
              "      <td id=\"T_24539_row6_col0\" class=\"data row6 col0\" >0.195855</td>\n",
              "      <td id=\"T_24539_row6_col1\" class=\"data row6 col1\" >0.482775</td>\n",
              "      <td id=\"T_24539_row6_col2\" class=\"data row6 col2\" >0.940023</td>\n",
              "      <td id=\"T_24539_row6_col3\" class=\"data row6 col3\" >-0.037030</td>\n",
              "      <td id=\"T_24539_row6_col4\" class=\"data row6 col4\" >0.107266</td>\n",
              "      <td id=\"T_24539_row6_col5\" class=\"data row6 col5\" >0.123397</td>\n",
              "      <td id=\"T_24539_row6_col6\" class=\"data row6 col6\" >1.000000</td>\n",
              "      <td id=\"T_24539_row6_col7\" class=\"data row6 col7\" >0.137668</td>\n",
              "      <td id=\"T_24539_row6_col8\" class=\"data row6 col8\" >0.211463</td>\n",
              "      <td id=\"T_24539_row6_col9\" class=\"data row6 col9\" >0.768098</td>\n",
              "      <td id=\"T_24539_row6_col10\" class=\"data row6 col10\" >0.040020</td>\n",
              "      <td id=\"T_24539_row6_col11\" class=\"data row6 col11\" >-0.017618</td>\n",
              "    </tr>\n",
              "    <tr>\n",
              "      <th id=\"T_24539_level0_row7\" class=\"row_heading level0 row7\" >mean_sum_by_days</th>\n",
              "      <td id=\"T_24539_row7_col0\" class=\"data row7 col0\" >0.116860</td>\n",
              "      <td id=\"T_24539_row7_col1\" class=\"data row7 col1\" >0.103858</td>\n",
              "      <td id=\"T_24539_row7_col2\" class=\"data row7 col2\" >0.129611</td>\n",
              "      <td id=\"T_24539_row7_col3\" class=\"data row7 col3\" >-0.054127</td>\n",
              "      <td id=\"T_24539_row7_col4\" class=\"data row7 col4\" >-0.055301</td>\n",
              "      <td id=\"T_24539_row7_col5\" class=\"data row7 col5\" >-0.001142</td>\n",
              "      <td id=\"T_24539_row7_col6\" class=\"data row7 col6\" >0.137668</td>\n",
              "      <td id=\"T_24539_row7_col7\" class=\"data row7 col7\" >1.000000</td>\n",
              "      <td id=\"T_24539_row7_col8\" class=\"data row7 col8\" >0.652368</td>\n",
              "      <td id=\"T_24539_row7_col9\" class=\"data row7 col9\" >0.195940</td>\n",
              "      <td id=\"T_24539_row7_col10\" class=\"data row7 col10\" >-0.023292</td>\n",
              "      <td id=\"T_24539_row7_col11\" class=\"data row7 col11\" >0.004752</td>\n",
              "    </tr>\n",
              "    <tr>\n",
              "      <th id=\"T_24539_level0_row8\" class=\"row_heading level0 row8\" >max_sum_by_days</th>\n",
              "      <td id=\"T_24539_row8_col0\" class=\"data row8 col0\" >0.160411</td>\n",
              "      <td id=\"T_24539_row8_col1\" class=\"data row8 col1\" >0.153496</td>\n",
              "      <td id=\"T_24539_row8_col2\" class=\"data row8 col2\" >0.216739</td>\n",
              "      <td id=\"T_24539_row8_col3\" class=\"data row8 col3\" >-0.051331</td>\n",
              "      <td id=\"T_24539_row8_col4\" class=\"data row8 col4\" >-0.027741</td>\n",
              "      <td id=\"T_24539_row8_col5\" class=\"data row8 col5\" >0.243500</td>\n",
              "      <td id=\"T_24539_row8_col6\" class=\"data row8 col6\" >0.211463</td>\n",
              "      <td id=\"T_24539_row8_col7\" class=\"data row8 col7\" >0.652368</td>\n",
              "      <td id=\"T_24539_row8_col8\" class=\"data row8 col8\" >1.000000</td>\n",
              "      <td id=\"T_24539_row8_col9\" class=\"data row8 col9\" >0.253206</td>\n",
              "      <td id=\"T_24539_row8_col10\" class=\"data row8 col10\" >-0.017969</td>\n",
              "      <td id=\"T_24539_row8_col11\" class=\"data row8 col11\" >-0.041178</td>\n",
              "    </tr>\n",
              "    <tr>\n",
              "      <th id=\"T_24539_level0_row9\" class=\"row_heading level0 row9\" >money_turnover</th>\n",
              "      <td id=\"T_24539_row9_col0\" class=\"data row9 col0\" >0.218883</td>\n",
              "      <td id=\"T_24539_row9_col1\" class=\"data row9 col1\" >0.349735</td>\n",
              "      <td id=\"T_24539_row9_col2\" class=\"data row9 col2\" >0.822455</td>\n",
              "      <td id=\"T_24539_row9_col3\" class=\"data row9 col3\" >-0.098138</td>\n",
              "      <td id=\"T_24539_row9_col4\" class=\"data row9 col4\" >0.162965</td>\n",
              "      <td id=\"T_24539_row9_col5\" class=\"data row9 col5\" >0.080809</td>\n",
              "      <td id=\"T_24539_row9_col6\" class=\"data row9 col6\" >0.768098</td>\n",
              "      <td id=\"T_24539_row9_col7\" class=\"data row9 col7\" >0.195940</td>\n",
              "      <td id=\"T_24539_row9_col8\" class=\"data row9 col8\" >0.253206</td>\n",
              "      <td id=\"T_24539_row9_col9\" class=\"data row9 col9\" >1.000000</td>\n",
              "      <td id=\"T_24539_row9_col10\" class=\"data row9 col10\" >-0.002297</td>\n",
              "      <td id=\"T_24539_row9_col11\" class=\"data row9 col11\" >0.004416</td>\n",
              "    </tr>\n",
              "    <tr>\n",
              "      <th id=\"T_24539_level0_row10\" class=\"row_heading level0 row10\" >average_free_funds</th>\n",
              "      <td id=\"T_24539_row10_col0\" class=\"data row10 col0\" >0.316415</td>\n",
              "      <td id=\"T_24539_row10_col1\" class=\"data row10 col1\" >-0.007249</td>\n",
              "      <td id=\"T_24539_row10_col2\" class=\"data row10 col2\" >0.014786</td>\n",
              "      <td id=\"T_24539_row10_col3\" class=\"data row10 col3\" >-0.081378</td>\n",
              "      <td id=\"T_24539_row10_col4\" class=\"data row10 col4\" >-0.020879</td>\n",
              "      <td id=\"T_24539_row10_col5\" class=\"data row10 col5\" >0.010046</td>\n",
              "      <td id=\"T_24539_row10_col6\" class=\"data row10 col6\" >0.040020</td>\n",
              "      <td id=\"T_24539_row10_col7\" class=\"data row10 col7\" >-0.023292</td>\n",
              "      <td id=\"T_24539_row10_col8\" class=\"data row10 col8\" >-0.017969</td>\n",
              "      <td id=\"T_24539_row10_col9\" class=\"data row10 col9\" >-0.002297</td>\n",
              "      <td id=\"T_24539_row10_col10\" class=\"data row10 col10\" >1.000000</td>\n",
              "      <td id=\"T_24539_row10_col11\" class=\"data row10 col11\" >-0.083134</td>\n",
              "    </tr>\n",
              "    <tr>\n",
              "      <th id=\"T_24539_level0_row11\" class=\"row_heading level0 row11\" >average_end_day_balance</th>\n",
              "      <td id=\"T_24539_row11_col0\" class=\"data row11 col0\" >-0.103153</td>\n",
              "      <td id=\"T_24539_row11_col1\" class=\"data row11 col1\" >-0.002043</td>\n",
              "      <td id=\"T_24539_row11_col2\" class=\"data row11 col2\" >-0.029194</td>\n",
              "      <td id=\"T_24539_row11_col3\" class=\"data row11 col3\" >-0.006665</td>\n",
              "      <td id=\"T_24539_row11_col4\" class=\"data row11 col4\" >-0.012871</td>\n",
              "      <td id=\"T_24539_row11_col5\" class=\"data row11 col5\" >-0.014405</td>\n",
              "      <td id=\"T_24539_row11_col6\" class=\"data row11 col6\" >-0.017618</td>\n",
              "      <td id=\"T_24539_row11_col7\" class=\"data row11 col7\" >0.004752</td>\n",
              "      <td id=\"T_24539_row11_col8\" class=\"data row11 col8\" >-0.041178</td>\n",
              "      <td id=\"T_24539_row11_col9\" class=\"data row11 col9\" >0.004416</td>\n",
              "      <td id=\"T_24539_row11_col10\" class=\"data row11 col10\" >-0.083134</td>\n",
              "      <td id=\"T_24539_row11_col11\" class=\"data row11 col11\" >1.000000</td>\n",
              "    </tr>\n",
              "  </tbody>\n",
              "</table>\n"
            ]
          },
          "metadata": {},
          "execution_count": 40
        }
      ],
      "source": [
        "corr_matrix = features.corr() # get correlation matrix of the df\n",
        "\n",
        "cm = sns.light_palette(\"green\", as_cmap=True) # setting heatmap \n",
        "\n",
        "styled_corr_matrix = corr_matrix.style.background_gradient(cmap=cm)\n",
        "styled_corr_matrix"
      ],
      "id": "wZn7g2xcxdXx"
    },
    {
      "cell_type": "code",
      "execution_count": null,
      "metadata": {
        "id": "uHcwtho_v9Kx"
      },
      "outputs": [],
      "source": [
        "#save features (do not do )\n",
        "#####features.to_csv(r'/content/drive/MyDrive/люба/features.csv', index= False )"
      ],
      "id": "uHcwtho_v9Kx"
    },
    {
      "cell_type": "code",
      "execution_count": null,
      "metadata": {
        "id": "_D4j52-EsI7x"
      },
      "outputs": [],
      "source": [
        "features = pd.read_csv('/content/drive/MyDrive/люба/features_good.csv') #upload ready data\n",
        "features = features.drop('id', axis=1)\n",
        "features = features.drop('part_income', axis=1)\n",
        "features = features.drop('part_turnover', axis=1)"
      ],
      "id": "_D4j52-EsI7x"
    },
    {
      "cell_type": "markdown",
      "metadata": {
        "id": "L8axj9yuV4N4"
      },
      "source": [
        "## Обучение моделек\n"
      ],
      "id": "L8axj9yuV4N4"
    },
    {
      "cell_type": "code",
      "source": [
        "features=features.fillna(0)"
      ],
      "metadata": {
        "id": "ct1GUu7XxExG"
      },
      "id": "ct1GUu7XxExG",
      "execution_count": null,
      "outputs": []
    },
    {
      "cell_type": "code",
      "execution_count": null,
      "metadata": {
        "id": "NVk8PEgt6nPd"
      },
      "outputs": [],
      "source": [
        "# X_train for xgboost\n",
        "X_train, X_test, y_train, y_test = train_test_split(features.values, target.values.reshape(-1,1), train_size = 0.8 , shuffle = True, random_state= 50 )"
      ],
      "id": "NVk8PEgt6nPd"
    },
    {
      "cell_type": "code",
      "execution_count": null,
      "metadata": {
        "id": "5Itneln_MYGp"
      },
      "outputs": [],
      "source": [
        "# train set for catboost\n",
        "X_train, X_test, y_train, y_test = train_test_split(features, target, train_size = 0.8 , shuffle = True, random_state= 50) #random_state = 65 (try - 56)"
      ],
      "id": "5Itneln_MYGp"
    },
    {
      "cell_type": "code",
      "execution_count": null,
      "metadata": {
        "id": "gbSwgMnBOm5u"
      },
      "outputs": [],
      "source": [
        "#sklearn.metrics.SCORERS.keys() # all metrics from sklearn"
      ],
      "id": "gbSwgMnBOm5u"
    },
    {
      "cell_type": "markdown",
      "metadata": {
        "id": "IHaNo38f9m9J"
      },
      "source": [
        "### Feature engeneering"
      ],
      "id": "IHaNo38f9m9J"
    },
    {
      "cell_type": "code",
      "execution_count": null,
      "metadata": {
        "id": "Xg-NybF49mbB"
      },
      "outputs": [],
      "source": [
        "features_engeneered = features.copy()"
      ],
      "id": "Xg-NybF49mbB"
    },
    {
      "cell_type": "markdown",
      "metadata": {
        "id": "6vSlpCWyBpng"
      },
      "source": [
        " +log from income_percent"
      ],
      "id": "6vSlpCWyBpng"
    },
    {
      "cell_type": "code",
      "execution_count": null,
      "metadata": {
        "id": "l2Wah-sV9vtt"
      },
      "outputs": [],
      "source": [
        "features_engeneered['income_percent_plus_min'] = features_engeneered['income_percent'] - features_engeneered['income_percent'].min()\n",
        "features_engeneered['income_percent_log'] = np.log(features_engeneered['income_percent_plus_min'])\n",
        "features_engeneered = features_engeneered.drop('income_percent_plus_min', axis=1)"
      ],
      "id": "l2Wah-sV9vtt"
    },
    {
      "cell_type": "markdown",
      "metadata": {
        "id": "1pJZU6blBpF9"
      },
      "source": [
        "+log from income_rub\n"
      ],
      "id": "1pJZU6blBpF9"
    },
    {
      "cell_type": "code",
      "execution_count": null,
      "metadata": {
        "id": "A4aJGtREBiA6"
      },
      "outputs": [],
      "source": [
        "features_engeneered['income_rub_plus_min'] = features_engeneered['income_rub'] - features_engeneered['income_rub'].min()\n",
        "features_engeneered['income_rub_log'] = np.log(features_engeneered['income_rub_plus_min'])\n",
        "features_engeneered = features_engeneered.drop('income_rub_plus_min', axis=1)"
      ],
      "id": "A4aJGtREBiA6"
    },
    {
      "cell_type": "markdown",
      "metadata": {
        "id": "mQH737N3CmBp"
      },
      "source": [
        "+log from money_turnover\n",
        "\n",
        "\n"
      ],
      "id": "mQH737N3CmBp"
    },
    {
      "cell_type": "code",
      "execution_count": null,
      "metadata": {
        "id": "sk5jb25LCjW2"
      },
      "outputs": [],
      "source": [
        "features_engeneered['money_turnover_min'] = features_engeneered['money_turnover'] - features_engeneered['money_turnover'].min()\n",
        "features_engeneered['money_turnover_log'] = np.log(features_engeneered['money_turnover_min'])\n",
        "features_engeneered = features_engeneered.drop('money_turnover_min', axis=1)"
      ],
      "id": "sk5jb25LCjW2"
    },
    {
      "cell_type": "code",
      "execution_count": null,
      "metadata": {
        "id": "IoBmwYu6DlsI"
      },
      "outputs": [],
      "source": [
        "features_engeneered = features_engeneered.drop('money_turnover_log', axis=1) # delete usefull column"
      ],
      "id": "IoBmwYu6DlsI"
    },
    {
      "cell_type": "markdown",
      "metadata": {
        "id": "n0twftYiD5vp"
      },
      "source": [
        "+log from average_free_funds"
      ],
      "id": "n0twftYiD5vp"
    },
    {
      "cell_type": "code",
      "execution_count": null,
      "metadata": {
        "id": "5P96xBA9D6GS"
      },
      "outputs": [],
      "source": [
        "features_engeneered['average_free_funds_min'] = features_engeneered['average_free_funds'] - features_engeneered['average_free_funds'].min()\n",
        "features_engeneered['average_free_funds_log'] = np.log(features_engeneered['average_free_funds_min'])\n",
        "features_engeneered = features_engeneered.drop('average_free_funds_min', axis=1)"
      ],
      "id": "5P96xBA9D6GS"
    },
    {
      "cell_type": "markdown",
      "metadata": {
        "id": "OIIRYNGmPpwO"
      },
      "source": [
        "Income_perent^2 + money_turnover\n",
        "\n"
      ],
      "id": "OIIRYNGmPpwO"
    },
    {
      "cell_type": "code",
      "execution_count": null,
      "metadata": {
        "id": "QwYW7eS0Poq_"
      },
      "outputs": [],
      "source": [
        "features_engeneered['income_percent^2 + money_turnover'] = features_engeneered['income_percent']**2 + features_engeneered['money_turnover']"
      ],
      "id": "QwYW7eS0Poq_"
    },
    {
      "cell_type": "code",
      "source": [
        "features_engeneered = features_engeneered.drop('income_percent^2 + money_turnover', axis=1) # delete usefull column"
      ],
      "metadata": {
        "id": "1nrJ98-b0AX1"
      },
      "id": "1nrJ98-b0AX1",
      "execution_count": null,
      "outputs": []
    },
    {
      "cell_type": "markdown",
      "source": [
        "+income_percent_cubed\n",
        "\n",
        "\n",
        "\n",
        "\n",
        "\n"
      ],
      "metadata": {
        "id": "nHt0NU2wN2xN"
      },
      "id": "nHt0NU2wN2xN"
    },
    {
      "cell_type": "code",
      "source": [
        "features_engeneered['income_percent_cubed'] = features_engeneered['income_percent']**3"
      ],
      "metadata": {
        "id": "yUiCT3R-N2Le"
      },
      "id": "yUiCT3R-N2Le",
      "execution_count": null,
      "outputs": []
    },
    {
      "cell_type": "code",
      "source": [
        "features_engeneered = features_engeneered.drop('income_percent_cubed', axis=1) # delete usefull column"
      ],
      "metadata": {
        "id": "-vA0S2S91LQv"
      },
      "id": "-vA0S2S91LQv",
      "execution_count": null,
      "outputs": []
    },
    {
      "cell_type": "markdown",
      "source": [
        "+income_percent_devideby_money_turnover\n",
        "\n",
        "\n"
      ],
      "metadata": {
        "id": "hhSFvuTePyqa"
      },
      "id": "hhSFvuTePyqa"
    },
    {
      "cell_type": "code",
      "source": [
        "features_engeneered['income_percent_devideby_money_turnover'] = features_engeneered['income_percent']/features_engeneered['money_turnover']"
      ],
      "metadata": {
        "id": "R2Ilq5LSPy70"
      },
      "id": "R2Ilq5LSPy70",
      "execution_count": null,
      "outputs": []
    },
    {
      "cell_type": "code",
      "source": [
        "features_engeneered = features_engeneered.drop('income_percent_devideby_money_turnover', axis=1) # delete usefull column"
      ],
      "metadata": {
        "id": "E_pISVn4Qh2R"
      },
      "id": "E_pISVn4Qh2R",
      "execution_count": null,
      "outputs": []
    },
    {
      "cell_type": "markdown",
      "source": [
        "show current columns "
      ],
      "metadata": {
        "id": "dxQezcul3xRz"
      },
      "id": "dxQezcul3xRz"
    },
    {
      "cell_type": "code",
      "source": [
        "print(features_engeneered.columns.values,' \\n\\n numb of columns:', len(features_engeneered.columns.to_list()))"
      ],
      "metadata": {
        "colab": {
          "base_uri": "https://localhost:8080/"
        },
        "id": "1iSWwaxBHs3b",
        "outputId": "016ec92c-bf9b-4433-eba1-e302319fcbd5"
      },
      "id": "1iSWwaxBHs3b",
      "execution_count": null,
      "outputs": [
        {
          "output_type": "stream",
          "name": "stdout",
          "text": [
            "['start_sum' 'request' 'deals' 'income_rub' 'income_percent' 'len_tool'\n",
            " 'everage_deals_by_day' 'mean_sum_by_days' 'max_sum_by_days'\n",
            " 'money_turnover' 'average_free_funds' 'average_end_day_balance'\n",
            " 'income_percent_log' 'income_rub_log' 'money_turnover_log'\n",
            " 'average_free_funds_log' 'income_percent^2 + money_turnover'\n",
            " 'income_percent_cubed' 'income_percent_devideby_money_turnover']  \n",
            "\n",
            " numb of columns: 19\n"
          ]
        }
      ]
    },
    {
      "cell_type": "markdown",
      "source": [
        "good columns for catboost: 'start_sum', 'request', 'deals', 'income_rub', 'income_percent',\n",
        "       'len_tool', 'everage_deals_by_day', 'mean_sum_by_days',\n",
        "       'max_sum_by_days', 'money_turnover', 'average_free_funds',\n",
        "       'average_end_day_balance', 'income_percent_log', 'income_rub_log',\n",
        "       'average_free_funds_log', 'income_percent_cubed'"
      ],
      "metadata": {
        "id": "UIGPGbBGzqCH"
      },
      "id": "UIGPGbBGzqCH"
    },
    {
      "cell_type": "markdown",
      "source": [
        "train test split for engeneered features"
      ],
      "metadata": {
        "id": "zGsXqWEYzWg8"
      },
      "id": "zGsXqWEYzWg8"
    },
    {
      "cell_type": "code",
      "source": [
        "features_engeneered=features_engeneered.fillna(0)"
      ],
      "metadata": {
        "id": "TNIv9_w-37-8"
      },
      "id": "TNIv9_w-37-8",
      "execution_count": null,
      "outputs": []
    },
    {
      "cell_type": "code",
      "execution_count": null,
      "metadata": {
        "id": "hOU5t_U1-_r8"
      },
      "outputs": [],
      "source": [
        "# split for xgboost\n",
        "X_train_engeneered, X_test_engeneered, y_train_engeneered, y_test_engeneered = train_test_split(features_engeneered.values, target.values.reshape(-1,1), train_size = 0.8 , shuffle = True, random_state = 50)"
      ],
      "id": "hOU5t_U1-_r8"
    },
    {
      "cell_type": "code",
      "source": [
        "# split for cat boost\n",
        "X_train_engeneered, X_test_engeneered, y_train_engeneered, y_test_engeneered = train_test_split(features_engeneered, target, train_size = 0.8 , shuffle = True, random_state = 50) #random_state = 45"
      ],
      "metadata": {
        "id": "3PwjGILzDayQ"
      },
      "id": "3PwjGILzDayQ",
      "execution_count": null,
      "outputs": []
    },
    {
      "cell_type": "code",
      "execution_count": null,
      "metadata": {
        "id": "kbaPmjm8Q6h8"
      },
      "outputs": [],
      "source": [
        "features_engeneered.isna().sum()"
      ],
      "id": "kbaPmjm8Q6h8"
    },
    {
      "cell_type": "markdown",
      "source": [
        "### Catboost"
      ],
      "metadata": {
        "id": "Lloeqq9BhsNI"
      },
      "id": "Lloeqq9BhsNI"
    },
    {
      "cell_type": "code",
      "source": [
        "object_columns = X_train.select_dtypes(include='object').columns.tolist()\n",
        "cat_boost_clf = CatBoostClassifier(cat_features=object_columns)\n",
        "cat_boost_clf.fit(X_train, y_train)\n",
        "y_pred_cat_boost = cat_boost_clf.predict(X_test)\n",
        "\n",
        "# Evaluate model performance\n",
        "print(\"Accuracy: \",  accuracy_score( y_test, y_pred_cat_boost))\n",
        "print(\"Precision: \", precision_score(y_test, y_pred_cat_boost, average='weighted'))\n",
        "print(\"Recall: \",    recall_score(   y_test, y_pred_cat_boost, average='weighted'))\n",
        "print(\"F1-Score: \",  f1_score(       y_test, y_pred_cat_boost, average='weighted')) "
      ],
      "metadata": {
        "id": "i2K0JUFlirb4"
      },
      "id": "i2K0JUFlirb4",
      "execution_count": null,
      "outputs": []
    },
    {
      "cell_type": "markdown",
      "source": [
        "### Catboost engeneered"
      ],
      "metadata": {
        "id": "-tlhx6GekgQj"
      },
      "id": "-tlhx6GekgQj"
    },
    {
      "cell_type": "code",
      "source": [
        "columns_list_ = [1,2,3,4,5,9]\n",
        "\n",
        "object_columns = X_train_engeneered.select_dtypes(include='object').columns.tolist()\n",
        "cat_boost_clf_engeneered = CatBoostClassifier(cat_features=object_columns)\n",
        "cat_boost_clf_engeneered.fit(X_train_engeneered, y_train_engeneered, verbose=False )\n",
        "\n",
        "y_pred_cat_boost_engeneered = cat_boost_clf_engeneered.predict(X_test_engeneered)\n",
        "\n",
        "# Evaluate model performance\n",
        "y_pred_for_test = y_test_engeneered\n",
        "print(\"Accuracy: \" , accuracy_score( y_pred_for_test, y_pred_cat_boost_engeneered))\n",
        "print(\"Precision: \", precision_score(y_pred_for_test, y_pred_cat_boost_engeneered, average='weighted'))\n",
        "print(\"Recall: \"   , recall_score(   y_pred_for_test, y_pred_cat_boost_engeneered, average='weighted'))\n",
        "print(\"F1-Score: \" , f1_score(       y_pred_for_test, y_pred_cat_boost_engeneered, average='weighted')) #rd state - 45 # 0.9283150951703545"
      ],
      "metadata": {
        "id": "OmnDEO2Skj9g",
        "colab": {
          "base_uri": "https://localhost:8080/"
        },
        "outputId": "4977040d-fed3-481b-e081-afb0ef9fa960"
      },
      "id": "OmnDEO2Skj9g",
      "execution_count": null,
      "outputs": [
        {
          "output_type": "stream",
          "name": "stdout",
          "text": [
            "Accuracy:  0.5980392156862745\n",
            "Precision:  0.597592795041958\n",
            "Recall:  0.5980392156862745\n",
            "F1-Score:  0.5957025464747315\n"
          ]
        }
      ]
    },
    {
      "cell_type": "markdown",
      "source": [
        "feature importances for cat boost"
      ],
      "metadata": {
        "id": "_P6lDl8K2xzW"
      },
      "id": "_P6lDl8K2xzW"
    },
    {
      "cell_type": "code",
      "source": [
        "df_feature_importances_of_cat_boost = pd.DataFrame({'Feature_name': features_engeneered.columns, 'Importance': cat_boost_clf_engeneered.feature_importances_})\n",
        "df_feature_importances_of_cat_boost.sort_values(by='Importance', ascending=False)"
      ],
      "metadata": {
        "colab": {
          "base_uri": "https://localhost:8080/",
          "height": 614
        },
        "id": "ovY-f9BF2dNr",
        "outputId": "673853a9-2d21-416e-9e25-539d472f7320"
      },
      "id": "ovY-f9BF2dNr",
      "execution_count": null,
      "outputs": [
        {
          "output_type": "execute_result",
          "data": {
            "text/plain": [
              "                              Feature_name  Importance\n",
              "4                           income_percent       10.37\n",
              "17  income_percent_devideby_money_turnover        7.11\n",
              "16                    income_percent_cubed        6.87\n",
              "0                                start_sum        6.86\n",
              "12                      income_percent_log        6.27\n",
              "10                      average_free_funds        6.21\n",
              "14                  average_free_funds_log        5.73\n",
              "5                                 len_tool        5.65\n",
              "6                     everage_deals_by_day        5.61\n",
              "11                 average_end_day_balance        5.55\n",
              "7                         mean_sum_by_days        5.46\n",
              "3                               income_rub        5.32\n",
              "13                          income_rub_log        5.22\n",
              "1                                  request        4.41\n",
              "8                          max_sum_by_days        4.17\n",
              "9                           money_turnover        4.05\n",
              "2                                    deals        3.10\n",
              "15       income_percent^2 + money_turnover        2.06"
            ],
            "text/html": [
              "\n",
              "  <div id=\"df-6f1a9511-df63-4623-b43a-972bb2af2945\">\n",
              "    <div class=\"colab-df-container\">\n",
              "      <div>\n",
              "<style scoped>\n",
              "    .dataframe tbody tr th:only-of-type {\n",
              "        vertical-align: middle;\n",
              "    }\n",
              "\n",
              "    .dataframe tbody tr th {\n",
              "        vertical-align: top;\n",
              "    }\n",
              "\n",
              "    .dataframe thead th {\n",
              "        text-align: right;\n",
              "    }\n",
              "</style>\n",
              "<table border=\"1\" class=\"dataframe\">\n",
              "  <thead>\n",
              "    <tr style=\"text-align: right;\">\n",
              "      <th></th>\n",
              "      <th>Feature_name</th>\n",
              "      <th>Importance</th>\n",
              "    </tr>\n",
              "  </thead>\n",
              "  <tbody>\n",
              "    <tr>\n",
              "      <th>4</th>\n",
              "      <td>income_percent</td>\n",
              "      <td>10.37</td>\n",
              "    </tr>\n",
              "    <tr>\n",
              "      <th>17</th>\n",
              "      <td>income_percent_devideby_money_turnover</td>\n",
              "      <td>7.11</td>\n",
              "    </tr>\n",
              "    <tr>\n",
              "      <th>16</th>\n",
              "      <td>income_percent_cubed</td>\n",
              "      <td>6.87</td>\n",
              "    </tr>\n",
              "    <tr>\n",
              "      <th>0</th>\n",
              "      <td>start_sum</td>\n",
              "      <td>6.86</td>\n",
              "    </tr>\n",
              "    <tr>\n",
              "      <th>12</th>\n",
              "      <td>income_percent_log</td>\n",
              "      <td>6.27</td>\n",
              "    </tr>\n",
              "    <tr>\n",
              "      <th>10</th>\n",
              "      <td>average_free_funds</td>\n",
              "      <td>6.21</td>\n",
              "    </tr>\n",
              "    <tr>\n",
              "      <th>14</th>\n",
              "      <td>average_free_funds_log</td>\n",
              "      <td>5.73</td>\n",
              "    </tr>\n",
              "    <tr>\n",
              "      <th>5</th>\n",
              "      <td>len_tool</td>\n",
              "      <td>5.65</td>\n",
              "    </tr>\n",
              "    <tr>\n",
              "      <th>6</th>\n",
              "      <td>everage_deals_by_day</td>\n",
              "      <td>5.61</td>\n",
              "    </tr>\n",
              "    <tr>\n",
              "      <th>11</th>\n",
              "      <td>average_end_day_balance</td>\n",
              "      <td>5.55</td>\n",
              "    </tr>\n",
              "    <tr>\n",
              "      <th>7</th>\n",
              "      <td>mean_sum_by_days</td>\n",
              "      <td>5.46</td>\n",
              "    </tr>\n",
              "    <tr>\n",
              "      <th>3</th>\n",
              "      <td>income_rub</td>\n",
              "      <td>5.32</td>\n",
              "    </tr>\n",
              "    <tr>\n",
              "      <th>13</th>\n",
              "      <td>income_rub_log</td>\n",
              "      <td>5.22</td>\n",
              "    </tr>\n",
              "    <tr>\n",
              "      <th>1</th>\n",
              "      <td>request</td>\n",
              "      <td>4.41</td>\n",
              "    </tr>\n",
              "    <tr>\n",
              "      <th>8</th>\n",
              "      <td>max_sum_by_days</td>\n",
              "      <td>4.17</td>\n",
              "    </tr>\n",
              "    <tr>\n",
              "      <th>9</th>\n",
              "      <td>money_turnover</td>\n",
              "      <td>4.05</td>\n",
              "    </tr>\n",
              "    <tr>\n",
              "      <th>2</th>\n",
              "      <td>deals</td>\n",
              "      <td>3.10</td>\n",
              "    </tr>\n",
              "    <tr>\n",
              "      <th>15</th>\n",
              "      <td>income_percent^2 + money_turnover</td>\n",
              "      <td>2.06</td>\n",
              "    </tr>\n",
              "  </tbody>\n",
              "</table>\n",
              "</div>\n",
              "      <button class=\"colab-df-convert\" onclick=\"convertToInteractive('df-6f1a9511-df63-4623-b43a-972bb2af2945')\"\n",
              "              title=\"Convert this dataframe to an interactive table.\"\n",
              "              style=\"display:none;\">\n",
              "        \n",
              "  <svg xmlns=\"http://www.w3.org/2000/svg\" height=\"24px\"viewBox=\"0 0 24 24\"\n",
              "       width=\"24px\">\n",
              "    <path d=\"M0 0h24v24H0V0z\" fill=\"none\"/>\n",
              "    <path d=\"M18.56 5.44l.94 2.06.94-2.06 2.06-.94-2.06-.94-.94-2.06-.94 2.06-2.06.94zm-11 1L8.5 8.5l.94-2.06 2.06-.94-2.06-.94L8.5 2.5l-.94 2.06-2.06.94zm10 10l.94 2.06.94-2.06 2.06-.94-2.06-.94-.94-2.06-.94 2.06-2.06.94z\"/><path d=\"M17.41 7.96l-1.37-1.37c-.4-.4-.92-.59-1.43-.59-.52 0-1.04.2-1.43.59L10.3 9.45l-7.72 7.72c-.78.78-.78 2.05 0 2.83L4 21.41c.39.39.9.59 1.41.59.51 0 1.02-.2 1.41-.59l7.78-7.78 2.81-2.81c.8-.78.8-2.07 0-2.86zM5.41 20L4 18.59l7.72-7.72 1.47 1.35L5.41 20z\"/>\n",
              "  </svg>\n",
              "      </button>\n",
              "      \n",
              "  <style>\n",
              "    .colab-df-container {\n",
              "      display:flex;\n",
              "      flex-wrap:wrap;\n",
              "      gap: 12px;\n",
              "    }\n",
              "\n",
              "    .colab-df-convert {\n",
              "      background-color: #E8F0FE;\n",
              "      border: none;\n",
              "      border-radius: 50%;\n",
              "      cursor: pointer;\n",
              "      display: none;\n",
              "      fill: #1967D2;\n",
              "      height: 32px;\n",
              "      padding: 0 0 0 0;\n",
              "      width: 32px;\n",
              "    }\n",
              "\n",
              "    .colab-df-convert:hover {\n",
              "      background-color: #E2EBFA;\n",
              "      box-shadow: 0px 1px 2px rgba(60, 64, 67, 0.3), 0px 1px 3px 1px rgba(60, 64, 67, 0.15);\n",
              "      fill: #174EA6;\n",
              "    }\n",
              "\n",
              "    [theme=dark] .colab-df-convert {\n",
              "      background-color: #3B4455;\n",
              "      fill: #D2E3FC;\n",
              "    }\n",
              "\n",
              "    [theme=dark] .colab-df-convert:hover {\n",
              "      background-color: #434B5C;\n",
              "      box-shadow: 0px 1px 3px 1px rgba(0, 0, 0, 0.15);\n",
              "      filter: drop-shadow(0px 1px 2px rgba(0, 0, 0, 0.3));\n",
              "      fill: #FFFFFF;\n",
              "    }\n",
              "  </style>\n",
              "\n",
              "      <script>\n",
              "        const buttonEl =\n",
              "          document.querySelector('#df-6f1a9511-df63-4623-b43a-972bb2af2945 button.colab-df-convert');\n",
              "        buttonEl.style.display =\n",
              "          google.colab.kernel.accessAllowed ? 'block' : 'none';\n",
              "\n",
              "        async function convertToInteractive(key) {\n",
              "          const element = document.querySelector('#df-6f1a9511-df63-4623-b43a-972bb2af2945');\n",
              "          const dataTable =\n",
              "            await google.colab.kernel.invokeFunction('convertToInteractive',\n",
              "                                                     [key], {});\n",
              "          if (!dataTable) return;\n",
              "\n",
              "          const docLinkHtml = 'Like what you see? Visit the ' +\n",
              "            '<a target=\"_blank\" href=https://colab.research.google.com/notebooks/data_table.ipynb>data table notebook</a>'\n",
              "            + ' to learn more about interactive tables.';\n",
              "          element.innerHTML = '';\n",
              "          dataTable['output_type'] = 'display_data';\n",
              "          await google.colab.output.renderOutput(dataTable, element);\n",
              "          const docLink = document.createElement('div');\n",
              "          docLink.innerHTML = docLinkHtml;\n",
              "          element.appendChild(docLink);\n",
              "        }\n",
              "      </script>\n",
              "    </div>\n",
              "  </div>\n",
              "  "
            ]
          },
          "metadata": {},
          "execution_count": 97
        }
      ]
    },
    {
      "cell_type": "markdown",
      "source": [
        "save model"
      ],
      "metadata": {
        "id": "i-5N2gMtt9Q4"
      },
      "id": "i-5N2gMtt9Q4"
    },
    {
      "cell_type": "code",
      "source": [
        "model = cat_boost_clf_engeneered\n",
        "model.save_model('cat_boost',\n",
        "           format=\"cbm\",\n",
        "           export_parameters= None,\n",
        "           pool=None)"
      ],
      "metadata": {
        "id": "R3cGc0YXt_2y"
      },
      "id": "R3cGc0YXt_2y",
      "execution_count": null,
      "outputs": []
    },
    {
      "cell_type": "markdown",
      "metadata": {
        "id": "x8sbY-uqJ7SS"
      },
      "source": [
        "## LightGBM"
      ],
      "id": "x8sbY-uqJ7SS"
    },
    {
      "cell_type": "code",
      "execution_count": null,
      "metadata": {
        "id": "8h8fZ7-9Mrva"
      },
      "outputs": [],
      "source": [
        "y_train_lightgbm, y_test_lightgbm  = y_train - 1, y_test - 1"
      ],
      "id": "8h8fZ7-9Mrva"
    },
    {
      "cell_type": "markdown",
      "metadata": {
        "id": "CAHV6ne2OA2N"
      },
      "source": [
        "Gridsearch CV"
      ],
      "id": "CAHV6ne2OA2N"
    },
    {
      "cell_type": "code",
      "execution_count": null,
      "metadata": {
        "id": "2FVk3SqBOEhv"
      },
      "outputs": [],
      "source": [
        "lgbm_clf = lgb.LGBMClassifier(objective='multiclass', metric = 'multi_logloss', num_class = len(y_train_lightgbm.unique()), )"
      ],
      "id": "2FVk3SqBOEhv"
    },
    {
      "cell_type": "code",
      "execution_count": null,
      "metadata": {
        "id": "oUk6lQ07OEpf"
      },
      "outputs": [],
      "source": [
        "search_space_lgbm_clf = {\n",
        "    'n_estimators': [50, 100, 150, 250],\n",
        "    'learning_rate': [0.1, 0.01, 0.001],\n",
        "    'colsample_bytree': [0.5, 0.7, 0.8, 0.9],\n",
        "    #'min_child_samples': [1, 5, 10], \n",
        "    \"max_depth\":[1,3,5,6]\n",
        "}"
      ],
      "id": "oUk6lQ07OEpf"
    },
    {
      "cell_type": "code",
      "execution_count": null,
      "metadata": {
        "id": "-4KgxXWmOExD"
      },
      "outputs": [],
      "source": [
        "lgbm_clf_CV = GridSearchCV(estimator = lgbm_clf,\n",
        "                  param_grid = search_space_lgbm_clf,\n",
        "                  scoring = ['f1_weighted', 'precision_weighted'], \n",
        "                  refit = 'f1_weighted',\n",
        "                  #cv = 5,\n",
        "                  verbose = 4)\n"
      ],
      "id": "-4KgxXWmOExD"
    },
    {
      "cell_type": "code",
      "execution_count": null,
      "metadata": {
        "id": "NJ5lLw8xR9AC"
      },
      "outputs": [],
      "source": [
        "lgbm_clf_CV.fit(X_train, y_train_lightgbm)\n",
        "print(\"Best Parameters: \", lgbm_clf_CV.best_params_)\n",
        "print(\"Best Score: \", lgbm_clf_CV.best_score_)"
      ],
      "id": "NJ5lLw8xR9AC"
    },
    {
      "cell_type": "code",
      "execution_count": null,
      "metadata": {
        "id": "uycZ6T5kSeBi",
        "colab": {
          "base_uri": "https://localhost:8080/"
        },
        "outputId": "b9ff80d9-29eb-46ed-be38-2662cf995089"
      },
      "outputs": [
        {
          "output_type": "stream",
          "name": "stdout",
          "text": [
            "Best Parameters:  {'colsample_bytree': 0.8, 'learning_rate': 0.01, 'max_depth': 5, 'n_estimators': 150}\n",
            "Best Score:  0.6150432180216209\n"
          ]
        }
      ],
      "source": [
        "print(\"Best Parameters: \", lgbm_clf_CV.best_params_)\n",
        "print(\"Best Score: \", lgbm_clf_CV.best_score_)"
      ],
      "id": "uycZ6T5kSeBi"
    },
    {
      "cell_type": "markdown",
      "source": [
        "Best Parameters:  {'colsample_bytree': 0.8, 'learning_rate': 0.01, 'max_depth': 5, 'n_estimators': 150}\n",
        "\n",
        "f1 -  0.6150432180216209"
      ],
      "metadata": {
        "id": "0FwYd5hI9Q1M"
      },
      "id": "0FwYd5hI9Q1M"
    },
    {
      "cell_type": "code",
      "execution_count": null,
      "metadata": {
        "id": "PymOnaXjJ7e-"
      },
      "outputs": [],
      "source": [
        "params = {\n",
        "    'boosting_type': 'gbdt',\n",
        "    'objective': 'multiclass',\n",
        "    'metric': 'multi_logloss',\n",
        "    'num_class': len(y_train_lightgbm.unique()),\n",
        "    'n_estimators': 150,\n",
        "    'colsample_bytree': 0.8,\n",
        "    'learning_rate': 0.01,\n",
        "    'verbose': 0\n",
        "}"
      ],
      "id": "PymOnaXjJ7e-"
    },
    {
      "cell_type": "code",
      "execution_count": null,
      "metadata": {
        "id": "z8o0QiJmJ7iJ"
      },
      "outputs": [],
      "source": [
        "train_data = lgb.Dataset(X_train, label=y_train_lightgbm)\n",
        "test_data = lgb.Dataset(X_test, label=y_test_lightgbm)"
      ],
      "id": "z8o0QiJmJ7iJ"
    },
    {
      "cell_type": "code",
      "execution_count": null,
      "metadata": {
        "id": "IHxQyoWjJ7k9"
      },
      "outputs": [],
      "source": [
        "num_rounds = 10000\n",
        "lgbm_clf_test = lgb.train(params, train_data, num_rounds, valid_sets=[test_data])"
      ],
      "id": "IHxQyoWjJ7k9"
    },
    {
      "cell_type": "code",
      "execution_count": null,
      "metadata": {
        "colab": {
          "base_uri": "https://localhost:8080/"
        },
        "id": "KXr8rd-uLUsR",
        "outputId": "883694e8-71d3-4acf-a4bf-abb312002912"
      },
      "outputs": [
        {
          "output_type": "stream",
          "name": "stdout",
          "text": [
            "Accuracy:  0.6209150326797386\n",
            "Precision:  0.6318689554216979\n",
            "Recall:  0.6209150326797386\n",
            "F1-Score:  0.6167719252397739\n"
          ]
        }
      ],
      "source": [
        "y_pred_lightgbm = lgbm_clf_test.predict(X_test)\n",
        "\n",
        "# Evaluate model performance\n",
        "\n",
        "\n",
        "print(\"Accuracy: \", accuracy_score(y_test_lightgbm, y_pred_lightgbm.argmax(axis=1)))\n",
        "print(\"Precision: \", precision_score(y_test_lightgbm, y_pred_lightgbm.argmax(axis=1), average='weighted'))\n",
        "print(\"Recall: \", recall_score(y_test_lightgbm, y_pred_lightgbm.argmax(axis=1), average='weighted'))\n",
        "print(\"F1-Score: \", f1_score(y_test_lightgbm, y_pred_lightgbm.argmax(axis=1), average='weighted')) #0.6167719252397739"
      ],
      "id": "KXr8rd-uLUsR"
    },
    {
      "cell_type": "markdown",
      "source": [
        "Data engeneering"
      ],
      "metadata": {
        "id": "8lyYva_3-hFr"
      },
      "id": "8lyYva_3-hFr"
    },
    {
      "cell_type": "code",
      "execution_count": null,
      "metadata": {
        "id": "qhb9fnjA-62e"
      },
      "outputs": [],
      "source": [
        "testtesttest_df = pd.DataFrame(X_test_engeneered)\n",
        "\n",
        "c = np.isinf(X_test_engeneered).values.sum()\n",
        "print(\"It contains \" + str(c) + \" infinite values\")"
      ],
      "id": "qhb9fnjA-62e"
    },
    {
      "cell_type": "code",
      "execution_count": null,
      "metadata": {
        "colab": {
          "base_uri": "https://localhost:8080/"
        },
        "outputId": "95d74fe5-8193-402b-d599-55c33be1ac58",
        "id": "tgiHPoxl-62f"
      },
      "outputs": [
        {
          "name": "stdout",
          "output_type": "stream",
          "text": [
            "The array does not contain infinity.\n"
          ]
        }
      ],
      "source": [
        "if np.isinf(X_test_engeneered).any():\n",
        "    print(\"The array contains infinity!\")\n",
        "else:\n",
        "    print(\"The array does not contain infinity.\")"
      ],
      "id": "tgiHPoxl-62f"
    },
    {
      "cell_type": "code",
      "execution_count": null,
      "metadata": {
        "id": "kMtxRJSz-62g"
      },
      "outputs": [],
      "source": [
        "indices = np.isinf(X_test_engeneered)\n",
        "X_test_engeneered[indices] = 0"
      ],
      "id": "kMtxRJSz-62g"
    },
    {
      "cell_type": "code",
      "source": [
        "y_train_engeneered_lightgbm, y_test_engeneered_lightgbm  = y_train_engeneered - 1, y_test_engeneered - 1"
      ],
      "metadata": {
        "id": "Hi7gxeflKlgc"
      },
      "id": "Hi7gxeflKlgc",
      "execution_count": null,
      "outputs": []
    },
    {
      "cell_type": "code",
      "source": [
        "train_data_engeneered = lgb.Dataset(X_train_engeneered, label=y_train_engeneered_lightgbm)\n",
        "test_data_engeneered = lgb.Dataset(X_test_engeneered, label=y_test_engeneered_lightgbm)"
      ],
      "metadata": {
        "id": "520GKM-VBDCK"
      },
      "id": "520GKM-VBDCK",
      "execution_count": null,
      "outputs": []
    },
    {
      "cell_type": "code",
      "execution_count": null,
      "metadata": {
        "id": "PpqqJSv2-62g"
      },
      "outputs": [],
      "source": [
        "lgbm_clf_test_engeneered = lgb.train(params, train_data_engeneered, num_rounds, valid_sets=[test_data_engeneered])\n"
      ],
      "id": "PpqqJSv2-62g"
    },
    {
      "cell_type": "code",
      "execution_count": null,
      "metadata": {
        "id": "_a5O8HY9-62g"
      },
      "outputs": [],
      "source": [
        "y_pred_lgmb_engeneered = lgbm_clf_test_engeneered.predict(X_test_engeneered)"
      ],
      "id": "_a5O8HY9-62g"
    },
    {
      "cell_type": "code",
      "execution_count": null,
      "metadata": {
        "colab": {
          "base_uri": "https://localhost:8080/"
        },
        "outputId": "3fd13db4-e1c0-4c93-e87b-d7f0ddb102f3",
        "id": "Eq1l99Rj-62h"
      },
      "outputs": [
        {
          "output_type": "stream",
          "name": "stdout",
          "text": [
            "Accuracy:  0.6503267973856209\n",
            "Precision:  0.6574739701133624\n",
            "Recall:  0.6503267973856209\n",
            "F1-Score:  0.6495530345449217\n"
          ]
        }
      ],
      "source": [
        "print(\"Accuracy: \", accuracy_score(y_test_engeneered_lightgbm, y_pred_lgmb_engeneered.argmax(axis=1)))\n",
        "print(\"Precision: \", precision_score(y_test_engeneered_lightgbm, y_pred_lgmb_engeneered.argmax(axis=1), average='weighted'))\n",
        "print(\"Recall: \", recall_score(y_test_engeneered_lightgbm, y_pred_lgmb_engeneered.argmax(axis=1), average='weighted'))\n",
        "print(\"F1-Score: \", f1_score(y_test_engeneered_lightgbm, y_pred_lgmb_engeneered.argmax(axis=1), average='weighted')) #0.6503896308522805"
      ],
      "id": "Eq1l99Rj-62h"
    },
    {
      "cell_type": "markdown",
      "metadata": {
        "id": "nUZZwWPi6RyU"
      },
      "source": [
        "## gradient boosting from sklearn"
      ],
      "id": "nUZZwWPi6RyU"
    },
    {
      "cell_type": "code",
      "execution_count": null,
      "metadata": {
        "id": "db2999f0"
      },
      "outputs": [],
      "source": [
        "gradient_boost_clf = GradientBoostingClassifier()"
      ],
      "id": "db2999f0"
    },
    {
      "cell_type": "code",
      "execution_count": null,
      "metadata": {
        "id": "87fa91f0"
      },
      "outputs": [],
      "source": [
        "#(len(y_train) - (np.count_nonzero(y_train - y_pred)))/len(y_train)"
      ],
      "id": "87fa91f0"
    },
    {
      "cell_type": "code",
      "execution_count": null,
      "metadata": {
        "id": "zN5RRYh-NwYX"
      },
      "outputs": [],
      "source": [
        "search_space_grad_boost = {\n",
        "    \"n_estimators\":[5,50,250,500],\n",
        "    \"max_depth\":[1,3,5,7,9],\n",
        "    \"learning_rate\":[0.01,0.1,1,10,100]\n",
        "}"
      ],
      "id": "zN5RRYh-NwYX"
    },
    {
      "cell_type": "code",
      "execution_count": null,
      "metadata": {
        "id": "48efddf8"
      },
      "outputs": [],
      "source": [
        "gradient_boost_clf_CV = GridSearchCV(estimator = gradient_boost_clf,\n",
        "                  param_grid = search_space_grad_boost,\n",
        "                  scoring = ['f1_weighted', 'precision_weighted'], \n",
        "                  refit = 'f1_weighted',\n",
        "                  cv = 3,\n",
        "                  verbose = 4)"
      ],
      "id": "48efddf8"
    },
    {
      "cell_type": "code",
      "execution_count": null,
      "metadata": {
        "id": "GM_8MWsqNzZB"
      },
      "outputs": [],
      "source": [
        "gradient_boost_clf_CV.fit(X_train, y_train)\n",
        "print(gradient_boost_clf_CV.best_params_)\n",
        "print(gradient_boost_clf_CV.best_score_)"
      ],
      "id": "GM_8MWsqNzZB"
    },
    {
      "cell_type": "code",
      "execution_count": null,
      "metadata": {
        "colab": {
          "base_uri": "https://localhost:8080/"
        },
        "id": "CHhWbLIqN7Oj",
        "outputId": "d6063608-289b-469a-dfe9-87c9234f90ed"
      },
      "outputs": [
        {
          "name": "stdout",
          "output_type": "stream",
          "text": [
            "{'learning_rate': 0.01, 'max_depth': 3, 'n_estimators': 500}\n",
            "0.6127687031202614\n"
          ]
        }
      ],
      "source": [
        "print(gradient_boost_clf_CV.best_params_)\n",
        "print(gradient_boost_clf_CV.best_score_)"
      ],
      "id": "CHhWbLIqN7Oj"
    },
    {
      "cell_type": "markdown",
      "metadata": {
        "id": "M_YGGmZj5eom"
      },
      "source": [
        "{'learning_rate': 0.01, 'max_depth': 3, 'n_estimators': 500\n",
        "\n",
        "f1 - 0.6127687031202614\n",
        "\n",
        "\n",
        "\n"
      ],
      "id": "M_YGGmZj5eom"
    },
    {
      "cell_type": "code",
      "execution_count": null,
      "metadata": {
        "id": "D7UHGVqSitno"
      },
      "outputs": [],
      "source": [
        "gradient_boost_clf_test = GradientBoostingClassifier(learning_rate = 0.01, max_depth= 3, n_estimators= 500)"
      ],
      "id": "D7UHGVqSitno"
    },
    {
      "cell_type": "code",
      "execution_count": null,
      "metadata": {
        "colab": {
          "base_uri": "https://localhost:8080/",
          "height": 74
        },
        "id": "NC32KlwsBL1J",
        "outputId": "d256550a-8c32-4632-f1b1-37d69aa36820"
      },
      "outputs": [
        {
          "data": {
            "text/html": [
              "<style>#sk-container-id-1 {color: black;background-color: white;}#sk-container-id-1 pre{padding: 0;}#sk-container-id-1 div.sk-toggleable {background-color: white;}#sk-container-id-1 label.sk-toggleable__label {cursor: pointer;display: block;width: 100%;margin-bottom: 0;padding: 0.3em;box-sizing: border-box;text-align: center;}#sk-container-id-1 label.sk-toggleable__label-arrow:before {content: \"▸\";float: left;margin-right: 0.25em;color: #696969;}#sk-container-id-1 label.sk-toggleable__label-arrow:hover:before {color: black;}#sk-container-id-1 div.sk-estimator:hover label.sk-toggleable__label-arrow:before {color: black;}#sk-container-id-1 div.sk-toggleable__content {max-height: 0;max-width: 0;overflow: hidden;text-align: left;background-color: #f0f8ff;}#sk-container-id-1 div.sk-toggleable__content pre {margin: 0.2em;color: black;border-radius: 0.25em;background-color: #f0f8ff;}#sk-container-id-1 input.sk-toggleable__control:checked~div.sk-toggleable__content {max-height: 200px;max-width: 100%;overflow: auto;}#sk-container-id-1 input.sk-toggleable__control:checked~label.sk-toggleable__label-arrow:before {content: \"▾\";}#sk-container-id-1 div.sk-estimator input.sk-toggleable__control:checked~label.sk-toggleable__label {background-color: #d4ebff;}#sk-container-id-1 div.sk-label input.sk-toggleable__control:checked~label.sk-toggleable__label {background-color: #d4ebff;}#sk-container-id-1 input.sk-hidden--visually {border: 0;clip: rect(1px 1px 1px 1px);clip: rect(1px, 1px, 1px, 1px);height: 1px;margin: -1px;overflow: hidden;padding: 0;position: absolute;width: 1px;}#sk-container-id-1 div.sk-estimator {font-family: monospace;background-color: #f0f8ff;border: 1px dotted black;border-radius: 0.25em;box-sizing: border-box;margin-bottom: 0.5em;}#sk-container-id-1 div.sk-estimator:hover {background-color: #d4ebff;}#sk-container-id-1 div.sk-parallel-item::after {content: \"\";width: 100%;border-bottom: 1px solid gray;flex-grow: 1;}#sk-container-id-1 div.sk-label:hover label.sk-toggleable__label {background-color: #d4ebff;}#sk-container-id-1 div.sk-serial::before {content: \"\";position: absolute;border-left: 1px solid gray;box-sizing: border-box;top: 0;bottom: 0;left: 50%;z-index: 0;}#sk-container-id-1 div.sk-serial {display: flex;flex-direction: column;align-items: center;background-color: white;padding-right: 0.2em;padding-left: 0.2em;position: relative;}#sk-container-id-1 div.sk-item {position: relative;z-index: 1;}#sk-container-id-1 div.sk-parallel {display: flex;align-items: stretch;justify-content: center;background-color: white;position: relative;}#sk-container-id-1 div.sk-item::before, #sk-container-id-1 div.sk-parallel-item::before {content: \"\";position: absolute;border-left: 1px solid gray;box-sizing: border-box;top: 0;bottom: 0;left: 50%;z-index: -1;}#sk-container-id-1 div.sk-parallel-item {display: flex;flex-direction: column;z-index: 1;position: relative;background-color: white;}#sk-container-id-1 div.sk-parallel-item:first-child::after {align-self: flex-end;width: 50%;}#sk-container-id-1 div.sk-parallel-item:last-child::after {align-self: flex-start;width: 50%;}#sk-container-id-1 div.sk-parallel-item:only-child::after {width: 0;}#sk-container-id-1 div.sk-dashed-wrapped {border: 1px dashed gray;margin: 0 0.4em 0.5em 0.4em;box-sizing: border-box;padding-bottom: 0.4em;background-color: white;}#sk-container-id-1 div.sk-label label {font-family: monospace;font-weight: bold;display: inline-block;line-height: 1.2em;}#sk-container-id-1 div.sk-label-container {text-align: center;}#sk-container-id-1 div.sk-container {/* jupyter's `normalize.less` sets `[hidden] { display: none; }` but bootstrap.min.css set `[hidden] { display: none !important; }` so we also need the `!important` here to be able to override the default hidden behavior on the sphinx rendered scikit-learn.org. See: https://github.com/scikit-learn/scikit-learn/issues/21755 */display: inline-block !important;position: relative;}#sk-container-id-1 div.sk-text-repr-fallback {display: none;}</style><div id=\"sk-container-id-1\" class=\"sk-top-container\"><div class=\"sk-text-repr-fallback\"><pre>GradientBoostingClassifier(learning_rate=0.01, n_estimators=500)</pre><b>In a Jupyter environment, please rerun this cell to show the HTML representation or trust the notebook. <br />On GitHub, the HTML representation is unable to render, please try loading this page with nbviewer.org.</b></div><div class=\"sk-container\" hidden><div class=\"sk-item\"><div class=\"sk-estimator sk-toggleable\"><input class=\"sk-toggleable__control sk-hidden--visually\" id=\"sk-estimator-id-1\" type=\"checkbox\" checked><label for=\"sk-estimator-id-1\" class=\"sk-toggleable__label sk-toggleable__label-arrow\">GradientBoostingClassifier</label><div class=\"sk-toggleable__content\"><pre>GradientBoostingClassifier(learning_rate=0.01, n_estimators=500)</pre></div></div></div></div></div>"
            ],
            "text/plain": [
              "GradientBoostingClassifier(learning_rate=0.01, n_estimators=500)"
            ]
          },
          "execution_count": 16,
          "metadata": {},
          "output_type": "execute_result"
        }
      ],
      "source": [
        "gradient_boost_clf_test.fit(X_train, y_train)"
      ],
      "id": "NC32KlwsBL1J"
    },
    {
      "cell_type": "code",
      "execution_count": null,
      "metadata": {
        "id": "KqL_z5GaBV4z"
      },
      "outputs": [],
      "source": [
        "y_pred_grad_boost = gradient_boost_clf_test.predict(X_test)"
      ],
      "id": "KqL_z5GaBV4z"
    },
    {
      "cell_type": "code",
      "execution_count": null,
      "metadata": {
        "id": "XxPym8QSBlCW"
      },
      "outputs": [],
      "source": [
        "f1_weighted_grad_boost_score  = f1_score(y_test, y_pred_grad_boost, average= 'macro')"
      ],
      "id": "XxPym8QSBlCW"
    },
    {
      "cell_type": "code",
      "execution_count": null,
      "metadata": {
        "colab": {
          "base_uri": "https://localhost:8080/"
        },
        "id": "apXPibbRCU-v",
        "outputId": "ed8a260b-5124-4715-a9d5-d74a6e2602bc"
      },
      "outputs": [
        {
          "data": {
            "text/plain": [
              "0.6465251435913176"
            ]
          },
          "execution_count": 19,
          "metadata": {},
          "output_type": "execute_result"
        }
      ],
      "source": [
        "f1_weighted_grad_boost_score"
      ],
      "id": "apXPibbRCU-v"
    },
    {
      "cell_type": "markdown",
      "metadata": {
        "id": "IRY7uZvoy-2P"
      },
      "source": [
        "### feature importance of gradient boost checkup"
      ],
      "id": "IRY7uZvoy-2P"
    },
    {
      "cell_type": "code",
      "execution_count": null,
      "metadata": {
        "colab": {
          "base_uri": "https://localhost:8080/"
        },
        "id": "rnzWzrqAzDXM",
        "outputId": "99954333-a7e2-4fab-93d1-cca8b3f775a3"
      },
      "outputs": [
        {
          "data": {
            "text/plain": [
              "array([0.02499834, 0.00757635, 0.015137  , 0.08903881, 0.59171019,\n",
              "       0.01147096, 0.01256926, 0.01784226, 0.01542853, 0.11740946,\n",
              "       0.08106511, 0.01575373])"
            ]
          },
          "execution_count": 40,
          "metadata": {},
          "output_type": "execute_result"
        }
      ],
      "source": [
        "gradient_boost_clf_test.feature_importances_"
      ],
      "id": "rnzWzrqAzDXM"
    },
    {
      "cell_type": "code",
      "execution_count": null,
      "metadata": {
        "colab": {
          "base_uri": "https://localhost:8080/",
          "height": 421
        },
        "id": "krw6KAtJzDcP",
        "outputId": "1539e572-4ba7-4d7f-d4db-b1f750bdb0d8"
      },
      "outputs": [
        {
          "data": {
            "text/html": [
              "\n",
              "  <div id=\"df-5c394d26-7b7a-4518-a3be-536d85786b00\">\n",
              "    <div class=\"colab-df-container\">\n",
              "      <div>\n",
              "<style scoped>\n",
              "    .dataframe tbody tr th:only-of-type {\n",
              "        vertical-align: middle;\n",
              "    }\n",
              "\n",
              "    .dataframe tbody tr th {\n",
              "        vertical-align: top;\n",
              "    }\n",
              "\n",
              "    .dataframe thead th {\n",
              "        text-align: right;\n",
              "    }\n",
              "</style>\n",
              "<table border=\"1\" class=\"dataframe\">\n",
              "  <thead>\n",
              "    <tr style=\"text-align: right;\">\n",
              "      <th></th>\n",
              "      <th>Feature_name</th>\n",
              "      <th>Importance</th>\n",
              "    </tr>\n",
              "  </thead>\n",
              "  <tbody>\n",
              "    <tr>\n",
              "      <th>4</th>\n",
              "      <td>income_percent</td>\n",
              "      <td>0.59</td>\n",
              "    </tr>\n",
              "    <tr>\n",
              "      <th>9</th>\n",
              "      <td>money_turnover</td>\n",
              "      <td>0.12</td>\n",
              "    </tr>\n",
              "    <tr>\n",
              "      <th>3</th>\n",
              "      <td>income_rub</td>\n",
              "      <td>0.09</td>\n",
              "    </tr>\n",
              "    <tr>\n",
              "      <th>10</th>\n",
              "      <td>average_free_funds</td>\n",
              "      <td>0.08</td>\n",
              "    </tr>\n",
              "    <tr>\n",
              "      <th>0</th>\n",
              "      <td>start_sum</td>\n",
              "      <td>0.02</td>\n",
              "    </tr>\n",
              "    <tr>\n",
              "      <th>7</th>\n",
              "      <td>mean_sum_by_days</td>\n",
              "      <td>0.02</td>\n",
              "    </tr>\n",
              "    <tr>\n",
              "      <th>11</th>\n",
              "      <td>average_end_day_balance</td>\n",
              "      <td>0.02</td>\n",
              "    </tr>\n",
              "    <tr>\n",
              "      <th>8</th>\n",
              "      <td>max_sum_by_days</td>\n",
              "      <td>0.02</td>\n",
              "    </tr>\n",
              "    <tr>\n",
              "      <th>2</th>\n",
              "      <td>deals</td>\n",
              "      <td>0.02</td>\n",
              "    </tr>\n",
              "    <tr>\n",
              "      <th>6</th>\n",
              "      <td>everage_deals_by_day</td>\n",
              "      <td>0.01</td>\n",
              "    </tr>\n",
              "    <tr>\n",
              "      <th>5</th>\n",
              "      <td>len_tool</td>\n",
              "      <td>0.01</td>\n",
              "    </tr>\n",
              "    <tr>\n",
              "      <th>1</th>\n",
              "      <td>request</td>\n",
              "      <td>0.01</td>\n",
              "    </tr>\n",
              "  </tbody>\n",
              "</table>\n",
              "</div>\n",
              "      <button class=\"colab-df-convert\" onclick=\"convertToInteractive('df-5c394d26-7b7a-4518-a3be-536d85786b00')\"\n",
              "              title=\"Convert this dataframe to an interactive table.\"\n",
              "              style=\"display:none;\">\n",
              "        \n",
              "  <svg xmlns=\"http://www.w3.org/2000/svg\" height=\"24px\"viewBox=\"0 0 24 24\"\n",
              "       width=\"24px\">\n",
              "    <path d=\"M0 0h24v24H0V0z\" fill=\"none\"/>\n",
              "    <path d=\"M18.56 5.44l.94 2.06.94-2.06 2.06-.94-2.06-.94-.94-2.06-.94 2.06-2.06.94zm-11 1L8.5 8.5l.94-2.06 2.06-.94-2.06-.94L8.5 2.5l-.94 2.06-2.06.94zm10 10l.94 2.06.94-2.06 2.06-.94-2.06-.94-.94-2.06-.94 2.06-2.06.94z\"/><path d=\"M17.41 7.96l-1.37-1.37c-.4-.4-.92-.59-1.43-.59-.52 0-1.04.2-1.43.59L10.3 9.45l-7.72 7.72c-.78.78-.78 2.05 0 2.83L4 21.41c.39.39.9.59 1.41.59.51 0 1.02-.2 1.41-.59l7.78-7.78 2.81-2.81c.8-.78.8-2.07 0-2.86zM5.41 20L4 18.59l7.72-7.72 1.47 1.35L5.41 20z\"/>\n",
              "  </svg>\n",
              "      </button>\n",
              "      \n",
              "  <style>\n",
              "    .colab-df-container {\n",
              "      display:flex;\n",
              "      flex-wrap:wrap;\n",
              "      gap: 12px;\n",
              "    }\n",
              "\n",
              "    .colab-df-convert {\n",
              "      background-color: #E8F0FE;\n",
              "      border: none;\n",
              "      border-radius: 50%;\n",
              "      cursor: pointer;\n",
              "      display: none;\n",
              "      fill: #1967D2;\n",
              "      height: 32px;\n",
              "      padding: 0 0 0 0;\n",
              "      width: 32px;\n",
              "    }\n",
              "\n",
              "    .colab-df-convert:hover {\n",
              "      background-color: #E2EBFA;\n",
              "      box-shadow: 0px 1px 2px rgba(60, 64, 67, 0.3), 0px 1px 3px 1px rgba(60, 64, 67, 0.15);\n",
              "      fill: #174EA6;\n",
              "    }\n",
              "\n",
              "    [theme=dark] .colab-df-convert {\n",
              "      background-color: #3B4455;\n",
              "      fill: #D2E3FC;\n",
              "    }\n",
              "\n",
              "    [theme=dark] .colab-df-convert:hover {\n",
              "      background-color: #434B5C;\n",
              "      box-shadow: 0px 1px 3px 1px rgba(0, 0, 0, 0.15);\n",
              "      filter: drop-shadow(0px 1px 2px rgba(0, 0, 0, 0.3));\n",
              "      fill: #FFFFFF;\n",
              "    }\n",
              "  </style>\n",
              "\n",
              "      <script>\n",
              "        const buttonEl =\n",
              "          document.querySelector('#df-5c394d26-7b7a-4518-a3be-536d85786b00 button.colab-df-convert');\n",
              "        buttonEl.style.display =\n",
              "          google.colab.kernel.accessAllowed ? 'block' : 'none';\n",
              "\n",
              "        async function convertToInteractive(key) {\n",
              "          const element = document.querySelector('#df-5c394d26-7b7a-4518-a3be-536d85786b00');\n",
              "          const dataTable =\n",
              "            await google.colab.kernel.invokeFunction('convertToInteractive',\n",
              "                                                     [key], {});\n",
              "          if (!dataTable) return;\n",
              "\n",
              "          const docLinkHtml = 'Like what you see? Visit the ' +\n",
              "            '<a target=\"_blank\" href=https://colab.research.google.com/notebooks/data_table.ipynb>data table notebook</a>'\n",
              "            + ' to learn more about interactive tables.';\n",
              "          element.innerHTML = '';\n",
              "          dataTable['output_type'] = 'display_data';\n",
              "          await google.colab.output.renderOutput(dataTable, element);\n",
              "          const docLink = document.createElement('div');\n",
              "          docLink.innerHTML = docLinkHtml;\n",
              "          element.appendChild(docLink);\n",
              "        }\n",
              "      </script>\n",
              "    </div>\n",
              "  </div>\n",
              "  "
            ],
            "text/plain": [
              "               Feature_name  Importance\n",
              "4            income_percent        0.59\n",
              "9            money_turnover        0.12\n",
              "3                income_rub        0.09\n",
              "10       average_free_funds        0.08\n",
              "0                 start_sum        0.02\n",
              "7          mean_sum_by_days        0.02\n",
              "11  average_end_day_balance        0.02\n",
              "8           max_sum_by_days        0.02\n",
              "2                     deals        0.02\n",
              "6      everage_deals_by_day        0.01\n",
              "5                  len_tool        0.01\n",
              "1                   request        0.01"
            ]
          },
          "execution_count": 46,
          "metadata": {},
          "output_type": "execute_result"
        }
      ],
      "source": [
        "df_feature_importances_of_grad_boost = pd.DataFrame({'Feature_name': features.columns, 'Importance': gradient_boost_clf_test.feature_importances_})\n",
        "df_feature_importances_of_grad_boost.sort_values(by='Importance', ascending=False)"
      ],
      "id": "krw6KAtJzDcP"
    },
    {
      "cell_type": "markdown",
      "metadata": {
        "id": "6DEoVWCJ5xSF"
      },
      "source": [
        "## XGBoost"
      ],
      "id": "6DEoVWCJ5xSF"
    },
    {
      "cell_type": "code",
      "execution_count": null,
      "metadata": {
        "id": "6Mg90CcB503k"
      },
      "outputs": [],
      "source": [
        "XGBClassifier_clf = XGBClassifier()"
      ],
      "id": "6Mg90CcB503k"
    },
    {
      "cell_type": "code",
      "execution_count": null,
      "metadata": {
        "id": "YEWs0PfW508g"
      },
      "outputs": [],
      "source": [
        "search_space_XGBClassifier= {\n",
        "    \"subsample\":[0.5, 0.75, 1],\n",
        "    \"n_estimators\":[50,250,500],\n",
        "    \"max_depth\":[1,3,5,7,9],\n",
        "    \"learning_rate\":[0.01,0.1, 0.001, 0.0001],\n",
        "    \n",
        "}"
      ],
      "id": "YEWs0PfW508g"
    },
    {
      "cell_type": "code",
      "execution_count": null,
      "metadata": {
        "id": "tNW1vst4563U"
      },
      "outputs": [],
      "source": [
        "XGBClassifier_clf_CV = GridSearchCV(estimator = XGBClassifier_clf,\n",
        "                  param_grid = search_space_XGBClassifier,\n",
        "                  scoring = ['f1_weighted', 'precision_weighted'], \n",
        "                  refit = 'f1_weighted',\n",
        "                  cv = 5,\n",
        "                  verbose = 4)"
      ],
      "id": "tNW1vst4563U"
    },
    {
      "cell_type": "code",
      "execution_count": null,
      "metadata": {
        "id": "FQQMRK6N580u"
      },
      "outputs": [],
      "source": [
        "XGBClassifier_clf_CV.fit(X_train, y_train_xgboost)\n",
        "print(XGBClassifier_clf_CV.best_params_)\n",
        "print(XGBClassifier_clf_CV.best_score_)"
      ],
      "id": "FQQMRK6N580u"
    },
    {
      "cell_type": "markdown",
      "metadata": {
        "id": "rl3D4b7LAP5Q"
      },
      "source": [
        "{'learning_rate': 0.01, 'max_depth': 5, 'n_estimators': 250, 'subsample': 0.5}\n",
        "\n",
        "\n",
        "f1 - 0.6357350304852706\n",
        "\n"
      ],
      "id": "rl3D4b7LAP5Q"
    },
    {
      "cell_type": "code",
      "execution_count": null,
      "metadata": {
        "id": "8lVPxD3S8hR7"
      },
      "outputs": [],
      "source": [
        "y_train_xgboost  = y_train - 1"
      ],
      "id": "8lVPxD3S8hR7"
    },
    {
      "cell_type": "code",
      "source": [
        "y_test_xgboost = y_test - 1"
      ],
      "metadata": {
        "id": "Zj42Nydyz3Eu"
      },
      "id": "Zj42Nydyz3Eu",
      "execution_count": null,
      "outputs": []
    },
    {
      "cell_type": "code",
      "source": [
        "y_train_xgboost "
      ],
      "metadata": {
        "colab": {
          "base_uri": "https://localhost:8080/"
        },
        "id": "_a2wMeCozlRL",
        "outputId": "fece862c-85a6-4f58-fc35-29ef7c476153"
      },
      "id": "_a2wMeCozlRL",
      "execution_count": null,
      "outputs": [
        {
          "output_type": "execute_result",
          "data": {
            "text/plain": [
              "array([[3],\n",
              "       [2],\n",
              "       [3],\n",
              "       ...,\n",
              "       [2],\n",
              "       [4],\n",
              "       [2]])"
            ]
          },
          "metadata": {},
          "execution_count": 23
        }
      ]
    },
    {
      "cell_type": "code",
      "execution_count": null,
      "metadata": {
        "id": "O7pg_lLzDCBd"
      },
      "outputs": [],
      "source": [
        "XGBClassifier_clf_test = XGBClassifier(learning_rate = 0.01, max_depth= 5, n_estimators = 250, subsample = 0.5)"
      ],
      "id": "O7pg_lLzDCBd"
    },
    {
      "cell_type": "code",
      "execution_count": null,
      "metadata": {
        "colab": {
          "base_uri": "https://localhost:8080/",
          "height": 248
        },
        "id": "oZRb1sfeDCQr",
        "outputId": "8f792a7d-dc77-46a4-f7f1-c614776c984e"
      },
      "outputs": [
        {
          "output_type": "execute_result",
          "data": {
            "text/plain": [
              "XGBClassifier(base_score=None, booster=None, callbacks=None,\n",
              "              colsample_bylevel=None, colsample_bynode=None,\n",
              "              colsample_bytree=None, early_stopping_rounds=None,\n",
              "              enable_categorical=False, eval_metric=None, feature_types=None,\n",
              "              gamma=None, gpu_id=None, grow_policy=None, importance_type=None,\n",
              "              interaction_constraints=None, learning_rate=0.01, max_bin=None,\n",
              "              max_cat_threshold=None, max_cat_to_onehot=None,\n",
              "              max_delta_step=None, max_depth=5, max_leaves=None,\n",
              "              min_child_weight=None, missing=nan, monotone_constraints=None,\n",
              "              n_estimators=250, n_jobs=None, num_parallel_tree=None,\n",
              "              objective='multi:softprob', predictor=None, ...)"
            ],
            "text/html": [
              "<style>#sk-container-id-4 {color: black;background-color: white;}#sk-container-id-4 pre{padding: 0;}#sk-container-id-4 div.sk-toggleable {background-color: white;}#sk-container-id-4 label.sk-toggleable__label {cursor: pointer;display: block;width: 100%;margin-bottom: 0;padding: 0.3em;box-sizing: border-box;text-align: center;}#sk-container-id-4 label.sk-toggleable__label-arrow:before {content: \"▸\";float: left;margin-right: 0.25em;color: #696969;}#sk-container-id-4 label.sk-toggleable__label-arrow:hover:before {color: black;}#sk-container-id-4 div.sk-estimator:hover label.sk-toggleable__label-arrow:before {color: black;}#sk-container-id-4 div.sk-toggleable__content {max-height: 0;max-width: 0;overflow: hidden;text-align: left;background-color: #f0f8ff;}#sk-container-id-4 div.sk-toggleable__content pre {margin: 0.2em;color: black;border-radius: 0.25em;background-color: #f0f8ff;}#sk-container-id-4 input.sk-toggleable__control:checked~div.sk-toggleable__content {max-height: 200px;max-width: 100%;overflow: auto;}#sk-container-id-4 input.sk-toggleable__control:checked~label.sk-toggleable__label-arrow:before {content: \"▾\";}#sk-container-id-4 div.sk-estimator input.sk-toggleable__control:checked~label.sk-toggleable__label {background-color: #d4ebff;}#sk-container-id-4 div.sk-label input.sk-toggleable__control:checked~label.sk-toggleable__label {background-color: #d4ebff;}#sk-container-id-4 input.sk-hidden--visually {border: 0;clip: rect(1px 1px 1px 1px);clip: rect(1px, 1px, 1px, 1px);height: 1px;margin: -1px;overflow: hidden;padding: 0;position: absolute;width: 1px;}#sk-container-id-4 div.sk-estimator {font-family: monospace;background-color: #f0f8ff;border: 1px dotted black;border-radius: 0.25em;box-sizing: border-box;margin-bottom: 0.5em;}#sk-container-id-4 div.sk-estimator:hover {background-color: #d4ebff;}#sk-container-id-4 div.sk-parallel-item::after {content: \"\";width: 100%;border-bottom: 1px solid gray;flex-grow: 1;}#sk-container-id-4 div.sk-label:hover label.sk-toggleable__label {background-color: #d4ebff;}#sk-container-id-4 div.sk-serial::before {content: \"\";position: absolute;border-left: 1px solid gray;box-sizing: border-box;top: 0;bottom: 0;left: 50%;z-index: 0;}#sk-container-id-4 div.sk-serial {display: flex;flex-direction: column;align-items: center;background-color: white;padding-right: 0.2em;padding-left: 0.2em;position: relative;}#sk-container-id-4 div.sk-item {position: relative;z-index: 1;}#sk-container-id-4 div.sk-parallel {display: flex;align-items: stretch;justify-content: center;background-color: white;position: relative;}#sk-container-id-4 div.sk-item::before, #sk-container-id-4 div.sk-parallel-item::before {content: \"\";position: absolute;border-left: 1px solid gray;box-sizing: border-box;top: 0;bottom: 0;left: 50%;z-index: -1;}#sk-container-id-4 div.sk-parallel-item {display: flex;flex-direction: column;z-index: 1;position: relative;background-color: white;}#sk-container-id-4 div.sk-parallel-item:first-child::after {align-self: flex-end;width: 50%;}#sk-container-id-4 div.sk-parallel-item:last-child::after {align-self: flex-start;width: 50%;}#sk-container-id-4 div.sk-parallel-item:only-child::after {width: 0;}#sk-container-id-4 div.sk-dashed-wrapped {border: 1px dashed gray;margin: 0 0.4em 0.5em 0.4em;box-sizing: border-box;padding-bottom: 0.4em;background-color: white;}#sk-container-id-4 div.sk-label label {font-family: monospace;font-weight: bold;display: inline-block;line-height: 1.2em;}#sk-container-id-4 div.sk-label-container {text-align: center;}#sk-container-id-4 div.sk-container {/* jupyter's `normalize.less` sets `[hidden] { display: none; }` but bootstrap.min.css set `[hidden] { display: none !important; }` so we also need the `!important` here to be able to override the default hidden behavior on the sphinx rendered scikit-learn.org. See: https://github.com/scikit-learn/scikit-learn/issues/21755 */display: inline-block !important;position: relative;}#sk-container-id-4 div.sk-text-repr-fallback {display: none;}</style><div id=\"sk-container-id-4\" class=\"sk-top-container\"><div class=\"sk-text-repr-fallback\"><pre>XGBClassifier(base_score=None, booster=None, callbacks=None,\n",
              "              colsample_bylevel=None, colsample_bynode=None,\n",
              "              colsample_bytree=None, early_stopping_rounds=None,\n",
              "              enable_categorical=False, eval_metric=None, feature_types=None,\n",
              "              gamma=None, gpu_id=None, grow_policy=None, importance_type=None,\n",
              "              interaction_constraints=None, learning_rate=0.01, max_bin=None,\n",
              "              max_cat_threshold=None, max_cat_to_onehot=None,\n",
              "              max_delta_step=None, max_depth=5, max_leaves=None,\n",
              "              min_child_weight=None, missing=nan, monotone_constraints=None,\n",
              "              n_estimators=250, n_jobs=None, num_parallel_tree=None,\n",
              "              objective=&#x27;multi:softprob&#x27;, predictor=None, ...)</pre><b>In a Jupyter environment, please rerun this cell to show the HTML representation or trust the notebook. <br />On GitHub, the HTML representation is unable to render, please try loading this page with nbviewer.org.</b></div><div class=\"sk-container\" hidden><div class=\"sk-item\"><div class=\"sk-estimator sk-toggleable\"><input class=\"sk-toggleable__control sk-hidden--visually\" id=\"sk-estimator-id-4\" type=\"checkbox\" checked><label for=\"sk-estimator-id-4\" class=\"sk-toggleable__label sk-toggleable__label-arrow\">XGBClassifier</label><div class=\"sk-toggleable__content\"><pre>XGBClassifier(base_score=None, booster=None, callbacks=None,\n",
              "              colsample_bylevel=None, colsample_bynode=None,\n",
              "              colsample_bytree=None, early_stopping_rounds=None,\n",
              "              enable_categorical=False, eval_metric=None, feature_types=None,\n",
              "              gamma=None, gpu_id=None, grow_policy=None, importance_type=None,\n",
              "              interaction_constraints=None, learning_rate=0.01, max_bin=None,\n",
              "              max_cat_threshold=None, max_cat_to_onehot=None,\n",
              "              max_delta_step=None, max_depth=5, max_leaves=None,\n",
              "              min_child_weight=None, missing=nan, monotone_constraints=None,\n",
              "              n_estimators=250, n_jobs=None, num_parallel_tree=None,\n",
              "              objective=&#x27;multi:softprob&#x27;, predictor=None, ...)</pre></div></div></div></div></div>"
            ]
          },
          "metadata": {},
          "execution_count": 50
        }
      ],
      "source": [
        "XGBClassifier_clf_test.fit(X_train, y_train_xgboost)"
      ],
      "id": "oZRb1sfeDCQr"
    },
    {
      "cell_type": "code",
      "execution_count": null,
      "metadata": {
        "id": "YeeOdqrEtyBT"
      },
      "outputs": [],
      "source": [
        "y_pred_xgboost = XGBClassifier_clf_test.predict(X_train)"
      ],
      "id": "YeeOdqrEtyBT"
    },
    {
      "cell_type": "code",
      "execution_count": null,
      "metadata": {
        "colab": {
          "base_uri": "https://localhost:8080/"
        },
        "id": "8x9aJK5RDCZr",
        "outputId": "17b81dbd-065a-4791-dbbe-efc7bb0b892b"
      },
      "outputs": [
        {
          "output_type": "execute_result",
          "data": {
            "text/plain": [
              "0.8600477171454554"
            ]
          },
          "metadata": {},
          "execution_count": 54
        }
      ],
      "source": [
        "f1_weighted_xgboost_score  = f1_score(y_train, (y_pred_xgboost+1), average= 'weighted')\n",
        "f1_weighted_xgboost_score  #0.9213943405888975"
      ],
      "id": "8x9aJK5RDCZr"
    },
    {
      "cell_type": "markdown",
      "metadata": {
        "id": "B7NRsI-W-uMf"
      },
      "source": [
        "Implementing feature engeneering"
      ],
      "id": "B7NRsI-W-uMf"
    },
    {
      "cell_type": "code",
      "execution_count": null,
      "metadata": {
        "id": "8FlrZpHrRZ-L"
      },
      "outputs": [],
      "source": [
        "testtesttest_df = pd.DataFrame(X_test_engeneered)\n",
        "\n",
        "c = np.isinf(X_test_engeneered).values.sum()\n",
        "print(\"It contains \" + str(c) + \" infinite values\")"
      ],
      "id": "8FlrZpHrRZ-L"
    },
    {
      "cell_type": "code",
      "execution_count": null,
      "metadata": {
        "colab": {
          "base_uri": "https://localhost:8080/"
        },
        "id": "-hlpm9VKakbC",
        "outputId": "95d74fe5-8193-402b-d599-55c33be1ac58"
      },
      "outputs": [
        {
          "name": "stdout",
          "output_type": "stream",
          "text": [
            "The array does not contain infinity.\n"
          ]
        }
      ],
      "source": [
        "if np.isinf(X_test_engeneered).any():\n",
        "    print(\"The array contains infinity!\")\n",
        "else:\n",
        "    print(\"The array does not contain infinity.\")"
      ],
      "id": "-hlpm9VKakbC"
    },
    {
      "cell_type": "code",
      "execution_count": null,
      "metadata": {
        "id": "qgEaVBGLbCTM"
      },
      "outputs": [],
      "source": [
        "indices = np.isinf(X_test_engeneered)\n",
        "X_test_engeneered[indices] = 0"
      ],
      "id": "qgEaVBGLbCTM"
    },
    {
      "cell_type": "code",
      "execution_count": null,
      "metadata": {
        "colab": {
          "base_uri": "https://localhost:8080/",
          "height": 248
        },
        "id": "Vm9e1hDS-t1A",
        "outputId": "e80218c5-05aa-495e-dafc-0dc8795cc32d"
      },
      "outputs": [
        {
          "data": {
            "text/html": [
              "<style>#sk-container-id-2 {color: black;background-color: white;}#sk-container-id-2 pre{padding: 0;}#sk-container-id-2 div.sk-toggleable {background-color: white;}#sk-container-id-2 label.sk-toggleable__label {cursor: pointer;display: block;width: 100%;margin-bottom: 0;padding: 0.3em;box-sizing: border-box;text-align: center;}#sk-container-id-2 label.sk-toggleable__label-arrow:before {content: \"▸\";float: left;margin-right: 0.25em;color: #696969;}#sk-container-id-2 label.sk-toggleable__label-arrow:hover:before {color: black;}#sk-container-id-2 div.sk-estimator:hover label.sk-toggleable__label-arrow:before {color: black;}#sk-container-id-2 div.sk-toggleable__content {max-height: 0;max-width: 0;overflow: hidden;text-align: left;background-color: #f0f8ff;}#sk-container-id-2 div.sk-toggleable__content pre {margin: 0.2em;color: black;border-radius: 0.25em;background-color: #f0f8ff;}#sk-container-id-2 input.sk-toggleable__control:checked~div.sk-toggleable__content {max-height: 200px;max-width: 100%;overflow: auto;}#sk-container-id-2 input.sk-toggleable__control:checked~label.sk-toggleable__label-arrow:before {content: \"▾\";}#sk-container-id-2 div.sk-estimator input.sk-toggleable__control:checked~label.sk-toggleable__label {background-color: #d4ebff;}#sk-container-id-2 div.sk-label input.sk-toggleable__control:checked~label.sk-toggleable__label {background-color: #d4ebff;}#sk-container-id-2 input.sk-hidden--visually {border: 0;clip: rect(1px 1px 1px 1px);clip: rect(1px, 1px, 1px, 1px);height: 1px;margin: -1px;overflow: hidden;padding: 0;position: absolute;width: 1px;}#sk-container-id-2 div.sk-estimator {font-family: monospace;background-color: #f0f8ff;border: 1px dotted black;border-radius: 0.25em;box-sizing: border-box;margin-bottom: 0.5em;}#sk-container-id-2 div.sk-estimator:hover {background-color: #d4ebff;}#sk-container-id-2 div.sk-parallel-item::after {content: \"\";width: 100%;border-bottom: 1px solid gray;flex-grow: 1;}#sk-container-id-2 div.sk-label:hover label.sk-toggleable__label {background-color: #d4ebff;}#sk-container-id-2 div.sk-serial::before {content: \"\";position: absolute;border-left: 1px solid gray;box-sizing: border-box;top: 0;bottom: 0;left: 50%;z-index: 0;}#sk-container-id-2 div.sk-serial {display: flex;flex-direction: column;align-items: center;background-color: white;padding-right: 0.2em;padding-left: 0.2em;position: relative;}#sk-container-id-2 div.sk-item {position: relative;z-index: 1;}#sk-container-id-2 div.sk-parallel {display: flex;align-items: stretch;justify-content: center;background-color: white;position: relative;}#sk-container-id-2 div.sk-item::before, #sk-container-id-2 div.sk-parallel-item::before {content: \"\";position: absolute;border-left: 1px solid gray;box-sizing: border-box;top: 0;bottom: 0;left: 50%;z-index: -1;}#sk-container-id-2 div.sk-parallel-item {display: flex;flex-direction: column;z-index: 1;position: relative;background-color: white;}#sk-container-id-2 div.sk-parallel-item:first-child::after {align-self: flex-end;width: 50%;}#sk-container-id-2 div.sk-parallel-item:last-child::after {align-self: flex-start;width: 50%;}#sk-container-id-2 div.sk-parallel-item:only-child::after {width: 0;}#sk-container-id-2 div.sk-dashed-wrapped {border: 1px dashed gray;margin: 0 0.4em 0.5em 0.4em;box-sizing: border-box;padding-bottom: 0.4em;background-color: white;}#sk-container-id-2 div.sk-label label {font-family: monospace;font-weight: bold;display: inline-block;line-height: 1.2em;}#sk-container-id-2 div.sk-label-container {text-align: center;}#sk-container-id-2 div.sk-container {/* jupyter's `normalize.less` sets `[hidden] { display: none; }` but bootstrap.min.css set `[hidden] { display: none !important; }` so we also need the `!important` here to be able to override the default hidden behavior on the sphinx rendered scikit-learn.org. See: https://github.com/scikit-learn/scikit-learn/issues/21755 */display: inline-block !important;position: relative;}#sk-container-id-2 div.sk-text-repr-fallback {display: none;}</style><div id=\"sk-container-id-2\" class=\"sk-top-container\"><div class=\"sk-text-repr-fallback\"><pre>XGBClassifier(base_score=None, booster=None, callbacks=None,\n",
              "              colsample_bylevel=None, colsample_bynode=None,\n",
              "              colsample_bytree=None, early_stopping_rounds=None,\n",
              "              enable_categorical=False, eval_metric=None, feature_types=None,\n",
              "              gamma=None, gpu_id=None, grow_policy=None, importance_type=None,\n",
              "              interaction_constraints=None, learning_rate=0.01, max_bin=None,\n",
              "              max_cat_threshold=None, max_cat_to_onehot=None,\n",
              "              max_delta_step=None, max_depth=5, max_leaves=None,\n",
              "              min_child_weight=None, missing=nan, monotone_constraints=None,\n",
              "              n_estimators=250, n_jobs=None, num_parallel_tree=None,\n",
              "              objective=&#x27;multi:softprob&#x27;, predictor=None, ...)</pre><b>In a Jupyter environment, please rerun this cell to show the HTML representation or trust the notebook. <br />On GitHub, the HTML representation is unable to render, please try loading this page with nbviewer.org.</b></div><div class=\"sk-container\" hidden><div class=\"sk-item\"><div class=\"sk-estimator sk-toggleable\"><input class=\"sk-toggleable__control sk-hidden--visually\" id=\"sk-estimator-id-2\" type=\"checkbox\" checked><label for=\"sk-estimator-id-2\" class=\"sk-toggleable__label sk-toggleable__label-arrow\">XGBClassifier</label><div class=\"sk-toggleable__content\"><pre>XGBClassifier(base_score=None, booster=None, callbacks=None,\n",
              "              colsample_bylevel=None, colsample_bynode=None,\n",
              "              colsample_bytree=None, early_stopping_rounds=None,\n",
              "              enable_categorical=False, eval_metric=None, feature_types=None,\n",
              "              gamma=None, gpu_id=None, grow_policy=None, importance_type=None,\n",
              "              interaction_constraints=None, learning_rate=0.01, max_bin=None,\n",
              "              max_cat_threshold=None, max_cat_to_onehot=None,\n",
              "              max_delta_step=None, max_depth=5, max_leaves=None,\n",
              "              min_child_weight=None, missing=nan, monotone_constraints=None,\n",
              "              n_estimators=250, n_jobs=None, num_parallel_tree=None,\n",
              "              objective=&#x27;multi:softprob&#x27;, predictor=None, ...)</pre></div></div></div></div></div>"
            ],
            "text/plain": [
              "XGBClassifier(base_score=None, booster=None, callbacks=None,\n",
              "              colsample_bylevel=None, colsample_bynode=None,\n",
              "              colsample_bytree=None, early_stopping_rounds=None,\n",
              "              enable_categorical=False, eval_metric=None, feature_types=None,\n",
              "              gamma=None, gpu_id=None, grow_policy=None, importance_type=None,\n",
              "              interaction_constraints=None, learning_rate=0.01, max_bin=None,\n",
              "              max_cat_threshold=None, max_cat_to_onehot=None,\n",
              "              max_delta_step=None, max_depth=5, max_leaves=None,\n",
              "              min_child_weight=None, missing=nan, monotone_constraints=None,\n",
              "              n_estimators=250, n_jobs=None, num_parallel_tree=None,\n",
              "              objective='multi:softprob', predictor=None, ...)"
            ]
          },
          "execution_count": 62,
          "metadata": {},
          "output_type": "execute_result"
        }
      ],
      "source": [
        "XGBClassifier_clf_test_engeneered = XGBClassifier(learning_rate = 0.01, max_depth= 5, n_estimators = 250, subsample = 0.5)\n",
        "XGBClassifier_clf_test_engeneered.fit(X_test_engeneered, y_test_xgboost)"
      ],
      "id": "Vm9e1hDS-t1A"
    },
    {
      "cell_type": "code",
      "execution_count": null,
      "metadata": {
        "id": "SV6D4-1dAITV"
      },
      "outputs": [],
      "source": [
        "y_pred_xgboost_engeneered = XGBClassifier_clf_test_engeneered.predict(X_test_engeneered)"
      ],
      "id": "SV6D4-1dAITV"
    },
    {
      "cell_type": "code",
      "execution_count": null,
      "metadata": {
        "colab": {
          "base_uri": "https://localhost:8080/"
        },
        "id": "uJYDGiQjAIXK",
        "outputId": "3f27f2a8-1946-4da1-fc16-81999c0f0da4"
      },
      "outputs": [
        {
          "data": {
            "text/plain": [
              "0.9673027413288482"
            ]
          },
          "execution_count": 95,
          "metadata": {},
          "output_type": "execute_result"
        }
      ],
      "source": [
        "# +++ log(income_percent - min) ++ income_percent - min\n",
        "f1_weighted_xgboost_score_engeneered  = f1_score(y_test, (y_pred_xgboost_engeneered+1), average= 'weighted')\n",
        "f1_weighted_xgboost_score_engeneered     #0.9673027413288482"
      ],
      "id": "uJYDGiQjAIXK"
    },
    {
      "cell_type": "code",
      "execution_count": null,
      "metadata": {
        "colab": {
          "base_uri": "https://localhost:8080/"
        },
        "id": "8LswBPacBSDU",
        "outputId": "b70e7e91-440f-4410-abfd-e60ddcdb20a3"
      },
      "outputs": [
        {
          "data": {
            "text/plain": [
              "0.973713548852906"
            ]
          },
          "execution_count": 105,
          "metadata": {},
          "output_type": "execute_result"
        }
      ],
      "source": [
        "# +++ log(income_rub - min) ++ income_rub - min\n",
        "f1_weighted_xgboost_score_engeneered  = f1_score(y_test, (y_pred_xgboost_engeneered+1), average= 'weighted')\n",
        "f1_weighted_xgboost_score_engeneered     #0.973713548852906"
      ],
      "id": "8LswBPacBSDU"
    },
    {
      "cell_type": "code",
      "execution_count": null,
      "metadata": {
        "colab": {
          "base_uri": "https://localhost:8080/"
        },
        "id": "ynNXQwzEC5dt",
        "outputId": "44f82872-d75d-42bb-b272-0d0f11bc6518"
      },
      "outputs": [
        {
          "data": {
            "text/plain": [
              "0.9605997784532534"
            ]
          },
          "execution_count": 111,
          "metadata": {},
          "output_type": "execute_result"
        }
      ],
      "source": [
        "# +++ log(money_turnover - min) ++ money_turnover - min\n",
        "f1_weighted_xgboost_score_engeneered  = f1_score(y_test, (y_pred_xgboost_engeneered+1), average= 'weighted')\n",
        "f1_weighted_xgboost_score_engeneered     #0.9605997784532534"
      ],
      "id": "ynNXQwzEC5dt"
    },
    {
      "cell_type": "code",
      "execution_count": null,
      "metadata": {
        "colab": {
          "base_uri": "https://localhost:8080/"
        },
        "id": "8Sx8WEL4ETrh",
        "outputId": "19871b86-74dd-43c4-acaa-04f44c0f62a4"
      },
      "outputs": [
        {
          "data": {
            "text/plain": [
              "0.9738002346237641"
            ]
          },
          "execution_count": 121,
          "metadata": {},
          "output_type": "execute_result"
        }
      ],
      "source": [
        "# +++ log(average_free_funds - min) ++ average_free_funds - min\n",
        "f1_weighted_xgboost_score_engeneered  = f1_score(y_test, (y_pred_xgboost_engeneered+1), average= 'weighted')\n",
        "f1_weighted_xgboost_score_engeneered     #0.9738002346237641"
      ],
      "id": "8Sx8WEL4ETrh"
    },
    {
      "cell_type": "code",
      "execution_count": null,
      "metadata": {
        "colab": {
          "base_uri": "https://localhost:8080/"
        },
        "id": "1mx1Uxz8h5rJ",
        "outputId": "614e294d-4b8e-417a-803b-69c93abc76bd"
      },
      "outputs": [
        {
          "data": {
            "text/plain": [
              "array([4, 1, 2, 5, 5, 3, 1, 3, 4, 2, 1, 2, 1, 5, 4, 4, 2, 3, 4, 3, 5, 1,\n",
              "       2, 2, 4, 1, 4, 2, 2, 2, 5, 4, 5, 1, 3, 5, 1, 5, 1, 1, 4, 1, 3, 1,\n",
              "       1, 1, 2, 1, 2, 5, 3, 2, 1, 5, 3, 4, 1, 2, 5, 2, 2, 4, 1, 3, 4, 4,\n",
              "       5, 4, 1, 1, 4, 2, 1, 5, 1, 5, 3, 1, 5, 3, 2, 4, 5, 1, 1, 3, 5, 5,\n",
              "       2, 3, 1, 4, 4, 4, 4, 1, 1, 1, 5, 2, 5, 3, 5, 5, 1, 2, 4, 3, 3, 4,\n",
              "       1, 3, 5, 1, 2, 2, 3, 1, 3, 3, 3, 5, 1, 5, 2, 1, 3, 3, 4, 1, 3, 3,\n",
              "       3, 2, 5, 5, 3, 1, 3, 3, 4, 2, 3, 1, 5, 1, 2, 2, 2, 3, 1, 5, 2, 1,\n",
              "       3, 2, 1, 5, 5, 5, 5, 3, 2, 4, 3, 5, 5, 5, 2, 4, 1, 4, 2, 5, 5, 4,\n",
              "       2, 5, 4, 5, 5, 2, 3, 3, 5, 5, 4, 4, 5, 5, 2, 2, 1, 1, 5, 3, 4, 3,\n",
              "       3, 4, 2, 4, 3, 2, 2, 5, 4, 1, 4, 3, 3, 4, 3, 5, 2, 5, 1, 5, 5, 3,\n",
              "       1, 1, 1, 4, 2, 3, 2, 2, 2, 3, 3, 5, 4, 3, 2, 3, 2, 5, 4, 2, 2, 1,\n",
              "       3, 1, 4, 5, 1, 3, 4, 3, 4, 3, 5, 1, 1, 1, 4, 4, 1, 4, 4, 5, 5, 5,\n",
              "       4, 5, 5, 4, 1, 3, 5, 1, 5, 5, 4, 2, 4, 4, 1, 2, 5, 3, 1, 5, 5, 4,\n",
              "       3, 3, 2, 2, 4, 1, 1, 3, 5, 4, 5, 4, 4, 2, 2, 5, 5, 2, 5, 4])"
            ]
          },
          "execution_count": 66,
          "metadata": {},
          "output_type": "execute_result"
        }
      ],
      "source": [],
      "id": "1mx1Uxz8h5rJ"
    },
    {
      "cell_type": "code",
      "execution_count": null,
      "metadata": {
        "colab": {
          "base_uri": "https://localhost:8080/"
        },
        "id": "QeKfRMulSY57",
        "outputId": "63ae320c-93f2-484c-fa12-d8142348f568"
      },
      "outputs": [
        {
          "data": {
            "text/plain": [
              "0.9770113543378719"
            ]
          },
          "execution_count": 64,
          "metadata": {},
          "output_type": "execute_result"
        }
      ],
      "source": [
        "# +++ income_percent^2 + money_turnover\n",
        "f1_weighted_xgboost_score_engeneered  = f1_score(y_test, (y_pred_xgboost_engeneered+1), average= 'weighted')\n",
        "f1_weighted_xgboost_score_engeneered     #0.9804248976849306"
      ],
      "id": "QeKfRMulSY57"
    },
    {
      "cell_type": "code",
      "execution_count": null,
      "metadata": {
        "colab": {
          "base_uri": "https://localhost:8080/"
        },
        "id": "PxlYYzhIPIEZ",
        "outputId": "aaf87c4f-03d9-4097-9b40-09da75473016"
      },
      "outputs": [
        {
          "data": {
            "text/html": [
              "\n",
              "  <div id=\"df-a1dfcda7-7821-4539-b937-4fca98ca8aa9\">\n",
              "    <div class=\"colab-df-container\">\n",
              "      <div>\n",
              "<style scoped>\n",
              "    .dataframe tbody tr th:only-of-type {\n",
              "        vertical-align: middle;\n",
              "    }\n",
              "\n",
              "    .dataframe tbody tr th {\n",
              "        vertical-align: top;\n",
              "    }\n",
              "\n",
              "    .dataframe thead th {\n",
              "        text-align: right;\n",
              "    }\n",
              "</style>\n",
              "<table border=\"1\" class=\"dataframe\">\n",
              "  <thead>\n",
              "    <tr style=\"text-align: right;\">\n",
              "      <th></th>\n",
              "      <th>start_sum</th>\n",
              "      <th>request</th>\n",
              "      <th>deals</th>\n",
              "      <th>income_rub</th>\n",
              "      <th>income_percent</th>\n",
              "      <th>len_tool</th>\n",
              "      <th>everage_deals_by_day</th>\n",
              "      <th>mean_sum_by_days</th>\n",
              "      <th>max_sum_by_days</th>\n",
              "      <th>money_turnover</th>\n",
              "      <th>average_free_funds</th>\n",
              "      <th>average_end_day_balance</th>\n",
              "    </tr>\n",
              "  </thead>\n",
              "  <tbody>\n",
              "    <tr>\n",
              "      <th>0</th>\n",
              "      <td>264530.00</td>\n",
              "      <td>2081</td>\n",
              "      <td>934</td>\n",
              "      <td>58101.51</td>\n",
              "      <td>21.37</td>\n",
              "      <td>156.00</td>\n",
              "      <td>17.59</td>\n",
              "      <td>26917.02</td>\n",
              "      <td>114480.00</td>\n",
              "      <td>53266448.62</td>\n",
              "      <td>33340.92</td>\n",
              "      <td>-107.88</td>\n",
              "    </tr>\n",
              "    <tr>\n",
              "      <th>1</th>\n",
              "      <td>103693.18</td>\n",
              "      <td>439</td>\n",
              "      <td>805</td>\n",
              "      <td>11351.71</td>\n",
              "      <td>10.95</td>\n",
              "      <td>14.00</td>\n",
              "      <td>16.10</td>\n",
              "      <td>27218.71</td>\n",
              "      <td>194225.00</td>\n",
              "      <td>60822381.27</td>\n",
              "      <td>4189.59</td>\n",
              "      <td>167.06</td>\n",
              "    </tr>\n",
              "    <tr>\n",
              "      <th>2</th>\n",
              "      <td>951481.94</td>\n",
              "      <td>636</td>\n",
              "      <td>938</td>\n",
              "      <td>-23613.53</td>\n",
              "      <td>-0.19</td>\n",
              "      <td>6.00</td>\n",
              "      <td>46.90</td>\n",
              "      <td>42496.83</td>\n",
              "      <td>114270.00</td>\n",
              "      <td>137557115.66</td>\n",
              "      <td>-92500.80</td>\n",
              "      <td>-2709.06</td>\n",
              "    </tr>\n",
              "    <tr>\n",
              "      <th>3</th>\n",
              "      <td>660000.00</td>\n",
              "      <td>932</td>\n",
              "      <td>1072</td>\n",
              "      <td>-198473.31</td>\n",
              "      <td>-30.07</td>\n",
              "      <td>9.00</td>\n",
              "      <td>16.86</td>\n",
              "      <td>57529.21</td>\n",
              "      <td>116810.00</td>\n",
              "      <td>100188255.36</td>\n",
              "      <td>134543.20</td>\n",
              "      <td>152.31</td>\n",
              "    </tr>\n",
              "    <tr>\n",
              "      <th>4</th>\n",
              "      <td>116025.00</td>\n",
              "      <td>46</td>\n",
              "      <td>44</td>\n",
              "      <td>-4187.62</td>\n",
              "      <td>-2.34</td>\n",
              "      <td>12.00</td>\n",
              "      <td>4.89</td>\n",
              "      <td>1168.59</td>\n",
              "      <td>4234.00</td>\n",
              "      <td>99689.40</td>\n",
              "      <td>16634.83</td>\n",
              "      <td>13.94</td>\n",
              "    </tr>\n",
              "    <tr>\n",
              "      <th>...</th>\n",
              "      <td>...</td>\n",
              "      <td>...</td>\n",
              "      <td>...</td>\n",
              "      <td>...</td>\n",
              "      <td>...</td>\n",
              "      <td>...</td>\n",
              "      <td>...</td>\n",
              "      <td>...</td>\n",
              "      <td>...</td>\n",
              "      <td>...</td>\n",
              "      <td>...</td>\n",
              "      <td>...</td>\n",
              "    </tr>\n",
              "    <tr>\n",
              "      <th>1522</th>\n",
              "      <td>100000.00</td>\n",
              "      <td>289</td>\n",
              "      <td>286</td>\n",
              "      <td>-1494.68</td>\n",
              "      <td>-1.50</td>\n",
              "      <td>3.00</td>\n",
              "      <td>8.88</td>\n",
              "      <td>5203.63</td>\n",
              "      <td>14179.00</td>\n",
              "      <td>3809230.07</td>\n",
              "      <td>0.00</td>\n",
              "      <td>0.00</td>\n",
              "    </tr>\n",
              "    <tr>\n",
              "      <th>1523</th>\n",
              "      <td>2702622.00</td>\n",
              "      <td>12</td>\n",
              "      <td>170</td>\n",
              "      <td>-169978.18</td>\n",
              "      <td>-5.56</td>\n",
              "      <td>1.00</td>\n",
              "      <td>5.50</td>\n",
              "      <td>83.40</td>\n",
              "      <td>83.94</td>\n",
              "      <td>20685182.21</td>\n",
              "      <td>533286.00</td>\n",
              "      <td>0.00</td>\n",
              "    </tr>\n",
              "    <tr>\n",
              "      <th>1524</th>\n",
              "      <td>100000.00</td>\n",
              "      <td>159</td>\n",
              "      <td>41</td>\n",
              "      <td>-384.07</td>\n",
              "      <td>-0.37</td>\n",
              "      <td>11.00</td>\n",
              "      <td>1.78</td>\n",
              "      <td>160.91</td>\n",
              "      <td>403.30</td>\n",
              "      <td>12073.68</td>\n",
              "      <td>372.38</td>\n",
              "      <td>-6.70</td>\n",
              "    </tr>\n",
              "    <tr>\n",
              "      <th>1525</th>\n",
              "      <td>100000.00</td>\n",
              "      <td>3</td>\n",
              "      <td>10</td>\n",
              "      <td>-572.86</td>\n",
              "      <td>-1.05</td>\n",
              "      <td>2.00</td>\n",
              "      <td>2.50</td>\n",
              "      <td>325.89</td>\n",
              "      <td>404.10</td>\n",
              "      <td>69763.00</td>\n",
              "      <td>0.00</td>\n",
              "      <td>0.00</td>\n",
              "    </tr>\n",
              "    <tr>\n",
              "      <th>1526</th>\n",
              "      <td>316596.00</td>\n",
              "      <td>59</td>\n",
              "      <td>90</td>\n",
              "      <td>-49102.09</td>\n",
              "      <td>-14.85</td>\n",
              "      <td>11.00</td>\n",
              "      <td>3.33</td>\n",
              "      <td>7401.23</td>\n",
              "      <td>103560.00</td>\n",
              "      <td>6132486.06</td>\n",
              "      <td>0.00</td>\n",
              "      <td>-999.53</td>\n",
              "    </tr>\n",
              "  </tbody>\n",
              "</table>\n",
              "<p>1527 rows × 12 columns</p>\n",
              "</div>\n",
              "      <button class=\"colab-df-convert\" onclick=\"convertToInteractive('df-a1dfcda7-7821-4539-b937-4fca98ca8aa9')\"\n",
              "              title=\"Convert this dataframe to an interactive table.\"\n",
              "              style=\"display:none;\">\n",
              "        \n",
              "  <svg xmlns=\"http://www.w3.org/2000/svg\" height=\"24px\"viewBox=\"0 0 24 24\"\n",
              "       width=\"24px\">\n",
              "    <path d=\"M0 0h24v24H0V0z\" fill=\"none\"/>\n",
              "    <path d=\"M18.56 5.44l.94 2.06.94-2.06 2.06-.94-2.06-.94-.94-2.06-.94 2.06-2.06.94zm-11 1L8.5 8.5l.94-2.06 2.06-.94-2.06-.94L8.5 2.5l-.94 2.06-2.06.94zm10 10l.94 2.06.94-2.06 2.06-.94-2.06-.94-.94-2.06-.94 2.06-2.06.94z\"/><path d=\"M17.41 7.96l-1.37-1.37c-.4-.4-.92-.59-1.43-.59-.52 0-1.04.2-1.43.59L10.3 9.45l-7.72 7.72c-.78.78-.78 2.05 0 2.83L4 21.41c.39.39.9.59 1.41.59.51 0 1.02-.2 1.41-.59l7.78-7.78 2.81-2.81c.8-.78.8-2.07 0-2.86zM5.41 20L4 18.59l7.72-7.72 1.47 1.35L5.41 20z\"/>\n",
              "  </svg>\n",
              "      </button>\n",
              "      \n",
              "  <style>\n",
              "    .colab-df-container {\n",
              "      display:flex;\n",
              "      flex-wrap:wrap;\n",
              "      gap: 12px;\n",
              "    }\n",
              "\n",
              "    .colab-df-convert {\n",
              "      background-color: #E8F0FE;\n",
              "      border: none;\n",
              "      border-radius: 50%;\n",
              "      cursor: pointer;\n",
              "      display: none;\n",
              "      fill: #1967D2;\n",
              "      height: 32px;\n",
              "      padding: 0 0 0 0;\n",
              "      width: 32px;\n",
              "    }\n",
              "\n",
              "    .colab-df-convert:hover {\n",
              "      background-color: #E2EBFA;\n",
              "      box-shadow: 0px 1px 2px rgba(60, 64, 67, 0.3), 0px 1px 3px 1px rgba(60, 64, 67, 0.15);\n",
              "      fill: #174EA6;\n",
              "    }\n",
              "\n",
              "    [theme=dark] .colab-df-convert {\n",
              "      background-color: #3B4455;\n",
              "      fill: #D2E3FC;\n",
              "    }\n",
              "\n",
              "    [theme=dark] .colab-df-convert:hover {\n",
              "      background-color: #434B5C;\n",
              "      box-shadow: 0px 1px 3px 1px rgba(0, 0, 0, 0.15);\n",
              "      filter: drop-shadow(0px 1px 2px rgba(0, 0, 0, 0.3));\n",
              "      fill: #FFFFFF;\n",
              "    }\n",
              "  </style>\n",
              "\n",
              "      <script>\n",
              "        const buttonEl =\n",
              "          document.querySelector('#df-a1dfcda7-7821-4539-b937-4fca98ca8aa9 button.colab-df-convert');\n",
              "        buttonEl.style.display =\n",
              "          google.colab.kernel.accessAllowed ? 'block' : 'none';\n",
              "\n",
              "        async function convertToInteractive(key) {\n",
              "          const element = document.querySelector('#df-a1dfcda7-7821-4539-b937-4fca98ca8aa9');\n",
              "          const dataTable =\n",
              "            await google.colab.kernel.invokeFunction('convertToInteractive',\n",
              "                                                     [key], {});\n",
              "          if (!dataTable) return;\n",
              "\n",
              "          const docLinkHtml = 'Like what you see? Visit the ' +\n",
              "            '<a target=\"_blank\" href=https://colab.research.google.com/notebooks/data_table.ipynb>data table notebook</a>'\n",
              "            + ' to learn more about interactive tables.';\n",
              "          element.innerHTML = '';\n",
              "          dataTable['output_type'] = 'display_data';\n",
              "          await google.colab.output.renderOutput(dataTable, element);\n",
              "          const docLink = document.createElement('div');\n",
              "          docLink.innerHTML = docLinkHtml;\n",
              "          element.appendChild(docLink);\n",
              "        }\n",
              "      </script>\n",
              "    </div>\n",
              "  </div>\n",
              "  "
            ],
            "text/plain": [
              "      start_sum  request  deals  income_rub  income_percent  len_tool  \\\n",
              "0     264530.00     2081    934    58101.51           21.37    156.00   \n",
              "1     103693.18      439    805    11351.71           10.95     14.00   \n",
              "2     951481.94      636    938   -23613.53           -0.19      6.00   \n",
              "3     660000.00      932   1072  -198473.31          -30.07      9.00   \n",
              "4     116025.00       46     44    -4187.62           -2.34     12.00   \n",
              "...         ...      ...    ...         ...             ...       ...   \n",
              "1522  100000.00      289    286    -1494.68           -1.50      3.00   \n",
              "1523 2702622.00       12    170  -169978.18           -5.56      1.00   \n",
              "1524  100000.00      159     41     -384.07           -0.37     11.00   \n",
              "1525  100000.00        3     10     -572.86           -1.05      2.00   \n",
              "1526  316596.00       59     90   -49102.09          -14.85     11.00   \n",
              "\n",
              "      everage_deals_by_day  mean_sum_by_days  max_sum_by_days  money_turnover  \\\n",
              "0                    17.59          26917.02        114480.00     53266448.62   \n",
              "1                    16.10          27218.71        194225.00     60822381.27   \n",
              "2                    46.90          42496.83        114270.00    137557115.66   \n",
              "3                    16.86          57529.21        116810.00    100188255.36   \n",
              "4                     4.89           1168.59          4234.00        99689.40   \n",
              "...                    ...               ...              ...             ...   \n",
              "1522                  8.88           5203.63         14179.00      3809230.07   \n",
              "1523                  5.50             83.40            83.94     20685182.21   \n",
              "1524                  1.78            160.91           403.30        12073.68   \n",
              "1525                  2.50            325.89           404.10        69763.00   \n",
              "1526                  3.33           7401.23        103560.00      6132486.06   \n",
              "\n",
              "      average_free_funds  average_end_day_balance  \n",
              "0               33340.92                  -107.88  \n",
              "1                4189.59                   167.06  \n",
              "2              -92500.80                 -2709.06  \n",
              "3              134543.20                   152.31  \n",
              "4               16634.83                    13.94  \n",
              "...                  ...                      ...  \n",
              "1522                0.00                     0.00  \n",
              "1523           533286.00                     0.00  \n",
              "1524              372.38                    -6.70  \n",
              "1525                0.00                     0.00  \n",
              "1526                0.00                  -999.53  \n",
              "\n",
              "[1527 rows x 12 columns]"
            ]
          },
          "execution_count": 67,
          "metadata": {},
          "output_type": "execute_result"
        }
      ],
      "source": [
        "features"
      ],
      "id": "PxlYYzhIPIEZ"
    },
    {
      "cell_type": "markdown",
      "metadata": {
        "id": "q7qvrjbd-oi4"
      },
      "source": [
        " XGBOOST feature importance\n",
        "\n",
        "\n"
      ],
      "id": "q7qvrjbd-oi4"
    },
    {
      "cell_type": "code",
      "execution_count": null,
      "metadata": {
        "colab": {
          "base_uri": "https://localhost:8080/"
        },
        "id": "NoH2jhNV1DrE",
        "outputId": "eaff87e3-9a94-48c9-e957-5529773d99be"
      },
      "outputs": [
        {
          "data": {
            "text/plain": [
              "array([0.06031003, 0.05442554, 0.07060479, 0.13058886, 0.19301297,\n",
              "       0.05621807, 0.06667256, 0.05392498, 0.0599495 , 0.11440188,\n",
              "       0.08376136, 0.0561294 ], dtype=float32)"
            ]
          },
          "execution_count": 48,
          "metadata": {},
          "output_type": "execute_result"
        }
      ],
      "source": [
        "XGBClassifier_clf_test.feature_importances_"
      ],
      "id": "NoH2jhNV1DrE"
    },
    {
      "cell_type": "code",
      "execution_count": null,
      "metadata": {
        "colab": {
          "base_uri": "https://localhost:8080/",
          "height": 421
        },
        "id": "PILvIBHO1D5C",
        "outputId": "58f5f514-01ad-483a-bb77-516231e01123"
      },
      "outputs": [
        {
          "data": {
            "text/html": [
              "\n",
              "  <div id=\"df-f4052d8d-3581-4d15-b9cc-0ad17bb44c6c\">\n",
              "    <div class=\"colab-df-container\">\n",
              "      <div>\n",
              "<style scoped>\n",
              "    .dataframe tbody tr th:only-of-type {\n",
              "        vertical-align: middle;\n",
              "    }\n",
              "\n",
              "    .dataframe tbody tr th {\n",
              "        vertical-align: top;\n",
              "    }\n",
              "\n",
              "    .dataframe thead th {\n",
              "        text-align: right;\n",
              "    }\n",
              "</style>\n",
              "<table border=\"1\" class=\"dataframe\">\n",
              "  <thead>\n",
              "    <tr style=\"text-align: right;\">\n",
              "      <th></th>\n",
              "      <th>Feature_name</th>\n",
              "      <th>Importance</th>\n",
              "    </tr>\n",
              "  </thead>\n",
              "  <tbody>\n",
              "    <tr>\n",
              "      <th>4</th>\n",
              "      <td>income_percent</td>\n",
              "      <td>0.19</td>\n",
              "    </tr>\n",
              "    <tr>\n",
              "      <th>3</th>\n",
              "      <td>income_rub</td>\n",
              "      <td>0.13</td>\n",
              "    </tr>\n",
              "    <tr>\n",
              "      <th>9</th>\n",
              "      <td>money_turnover</td>\n",
              "      <td>0.11</td>\n",
              "    </tr>\n",
              "    <tr>\n",
              "      <th>10</th>\n",
              "      <td>average_free_funds</td>\n",
              "      <td>0.08</td>\n",
              "    </tr>\n",
              "    <tr>\n",
              "      <th>2</th>\n",
              "      <td>deals</td>\n",
              "      <td>0.07</td>\n",
              "    </tr>\n",
              "    <tr>\n",
              "      <th>6</th>\n",
              "      <td>everage_deals_by_day</td>\n",
              "      <td>0.07</td>\n",
              "    </tr>\n",
              "    <tr>\n",
              "      <th>0</th>\n",
              "      <td>start_sum</td>\n",
              "      <td>0.06</td>\n",
              "    </tr>\n",
              "    <tr>\n",
              "      <th>8</th>\n",
              "      <td>max_sum_by_days</td>\n",
              "      <td>0.06</td>\n",
              "    </tr>\n",
              "    <tr>\n",
              "      <th>5</th>\n",
              "      <td>len_tool</td>\n",
              "      <td>0.06</td>\n",
              "    </tr>\n",
              "    <tr>\n",
              "      <th>11</th>\n",
              "      <td>average_end_day_balance</td>\n",
              "      <td>0.06</td>\n",
              "    </tr>\n",
              "    <tr>\n",
              "      <th>1</th>\n",
              "      <td>request</td>\n",
              "      <td>0.05</td>\n",
              "    </tr>\n",
              "    <tr>\n",
              "      <th>7</th>\n",
              "      <td>mean_sum_by_days</td>\n",
              "      <td>0.05</td>\n",
              "    </tr>\n",
              "  </tbody>\n",
              "</table>\n",
              "</div>\n",
              "      <button class=\"colab-df-convert\" onclick=\"convertToInteractive('df-f4052d8d-3581-4d15-b9cc-0ad17bb44c6c')\"\n",
              "              title=\"Convert this dataframe to an interactive table.\"\n",
              "              style=\"display:none;\">\n",
              "        \n",
              "  <svg xmlns=\"http://www.w3.org/2000/svg\" height=\"24px\"viewBox=\"0 0 24 24\"\n",
              "       width=\"24px\">\n",
              "    <path d=\"M0 0h24v24H0V0z\" fill=\"none\"/>\n",
              "    <path d=\"M18.56 5.44l.94 2.06.94-2.06 2.06-.94-2.06-.94-.94-2.06-.94 2.06-2.06.94zm-11 1L8.5 8.5l.94-2.06 2.06-.94-2.06-.94L8.5 2.5l-.94 2.06-2.06.94zm10 10l.94 2.06.94-2.06 2.06-.94-2.06-.94-.94-2.06-.94 2.06-2.06.94z\"/><path d=\"M17.41 7.96l-1.37-1.37c-.4-.4-.92-.59-1.43-.59-.52 0-1.04.2-1.43.59L10.3 9.45l-7.72 7.72c-.78.78-.78 2.05 0 2.83L4 21.41c.39.39.9.59 1.41.59.51 0 1.02-.2 1.41-.59l7.78-7.78 2.81-2.81c.8-.78.8-2.07 0-2.86zM5.41 20L4 18.59l7.72-7.72 1.47 1.35L5.41 20z\"/>\n",
              "  </svg>\n",
              "      </button>\n",
              "      \n",
              "  <style>\n",
              "    .colab-df-container {\n",
              "      display:flex;\n",
              "      flex-wrap:wrap;\n",
              "      gap: 12px;\n",
              "    }\n",
              "\n",
              "    .colab-df-convert {\n",
              "      background-color: #E8F0FE;\n",
              "      border: none;\n",
              "      border-radius: 50%;\n",
              "      cursor: pointer;\n",
              "      display: none;\n",
              "      fill: #1967D2;\n",
              "      height: 32px;\n",
              "      padding: 0 0 0 0;\n",
              "      width: 32px;\n",
              "    }\n",
              "\n",
              "    .colab-df-convert:hover {\n",
              "      background-color: #E2EBFA;\n",
              "      box-shadow: 0px 1px 2px rgba(60, 64, 67, 0.3), 0px 1px 3px 1px rgba(60, 64, 67, 0.15);\n",
              "      fill: #174EA6;\n",
              "    }\n",
              "\n",
              "    [theme=dark] .colab-df-convert {\n",
              "      background-color: #3B4455;\n",
              "      fill: #D2E3FC;\n",
              "    }\n",
              "\n",
              "    [theme=dark] .colab-df-convert:hover {\n",
              "      background-color: #434B5C;\n",
              "      box-shadow: 0px 1px 3px 1px rgba(0, 0, 0, 0.15);\n",
              "      filter: drop-shadow(0px 1px 2px rgba(0, 0, 0, 0.3));\n",
              "      fill: #FFFFFF;\n",
              "    }\n",
              "  </style>\n",
              "\n",
              "      <script>\n",
              "        const buttonEl =\n",
              "          document.querySelector('#df-f4052d8d-3581-4d15-b9cc-0ad17bb44c6c button.colab-df-convert');\n",
              "        buttonEl.style.display =\n",
              "          google.colab.kernel.accessAllowed ? 'block' : 'none';\n",
              "\n",
              "        async function convertToInteractive(key) {\n",
              "          const element = document.querySelector('#df-f4052d8d-3581-4d15-b9cc-0ad17bb44c6c');\n",
              "          const dataTable =\n",
              "            await google.colab.kernel.invokeFunction('convertToInteractive',\n",
              "                                                     [key], {});\n",
              "          if (!dataTable) return;\n",
              "\n",
              "          const docLinkHtml = 'Like what you see? Visit the ' +\n",
              "            '<a target=\"_blank\" href=https://colab.research.google.com/notebooks/data_table.ipynb>data table notebook</a>'\n",
              "            + ' to learn more about interactive tables.';\n",
              "          element.innerHTML = '';\n",
              "          dataTable['output_type'] = 'display_data';\n",
              "          await google.colab.output.renderOutput(dataTable, element);\n",
              "          const docLink = document.createElement('div');\n",
              "          docLink.innerHTML = docLinkHtml;\n",
              "          element.appendChild(docLink);\n",
              "        }\n",
              "      </script>\n",
              "    </div>\n",
              "  </div>\n",
              "  "
            ],
            "text/plain": [
              "               Feature_name  Importance\n",
              "4            income_percent        0.19\n",
              "3                income_rub        0.13\n",
              "9            money_turnover        0.11\n",
              "10       average_free_funds        0.08\n",
              "2                     deals        0.07\n",
              "6      everage_deals_by_day        0.07\n",
              "0                 start_sum        0.06\n",
              "8           max_sum_by_days        0.06\n",
              "5                  len_tool        0.06\n",
              "11  average_end_day_balance        0.06\n",
              "1                   request        0.05\n",
              "7          mean_sum_by_days        0.05"
            ]
          },
          "execution_count": 49,
          "metadata": {},
          "output_type": "execute_result"
        }
      ],
      "source": [
        "df_feature_importances_of_xgboost = pd.DataFrame({'Feature_name': features.columns, 'Importance': XGBClassifier_clf_test.feature_importances_})\n",
        "df_feature_importances_of_xgboost.sort_values(by='Importance', ascending=False)"
      ],
      "id": "PILvIBHO1D5C"
    },
    {
      "cell_type": "markdown",
      "metadata": {
        "id": "kOL60GIVixKy"
      },
      "source": [
        "## ADABOOST\n"
      ],
      "id": "kOL60GIVixKy"
    },
    {
      "cell_type": "code",
      "execution_count": null,
      "metadata": {
        "id": "02a64a4d"
      },
      "outputs": [],
      "source": [
        "AdaBoost_clf = AdaBoostClassifier()"
      ],
      "id": "02a64a4d"
    },
    {
      "cell_type": "code",
      "execution_count": null,
      "metadata": {
        "id": "o3NaGtl8ke7U"
      },
      "outputs": [],
      "source": [
        "search_space_ada_boost= {\n",
        "    \"n_estimators\":[50,100,250,500],\n",
        "    \"learning_rate\":[0.01,0.1,0.01, 0.001, 0.0001],\n",
        "    \"algorithm\": ['SAMME', 'SAMME.R']\n",
        "}"
      ],
      "id": "o3NaGtl8ke7U"
    },
    {
      "cell_type": "code",
      "execution_count": null,
      "metadata": {
        "id": "_gXfPGSZklIh"
      },
      "outputs": [],
      "source": [
        "AdaBoost_clf_CV = GridSearchCV(estimator = AdaBoost_clf,\n",
        "                  param_grid = search_space_ada_boost,\n",
        "                  scoring = ['f1_weighted', 'precision_weighted'], \n",
        "                  refit = 'f1_weighted',\n",
        "                  cv = 3,\n",
        "                  verbose = 4)"
      ],
      "id": "_gXfPGSZklIh"
    },
    {
      "cell_type": "code",
      "execution_count": null,
      "metadata": {
        "id": "CwVrkTnVkojv"
      },
      "outputs": [],
      "source": [
        "AdaBoost_clf_CV.fit(X_train, y_train)\n",
        "print(AdaBoost_clf_CV.best_params_)\n",
        "print(AdaBoost_clf_CV.best_score_)"
      ],
      "id": "CwVrkTnVkojv"
    },
    {
      "cell_type": "code",
      "execution_count": null,
      "metadata": {
        "id": "Q2DwzKQA3lku"
      },
      "outputs": [],
      "source": [
        "Adaboost_clf_test = AdaBoostClassifier(algorithm = 'SAMME', learning_rate = 0.1, n_estimators = 500)"
      ],
      "id": "Q2DwzKQA3lku"
    },
    {
      "cell_type": "code",
      "execution_count": null,
      "metadata": {
        "colab": {
          "base_uri": "https://localhost:8080/",
          "height": 74
        },
        "id": "De4VOVQo4jkd",
        "outputId": "8bdc5e07-c0ef-4d5c-ed76-162650b62ea1"
      },
      "outputs": [
        {
          "data": {
            "text/html": [
              "<style>#sk-container-id-4 {color: black;background-color: white;}#sk-container-id-4 pre{padding: 0;}#sk-container-id-4 div.sk-toggleable {background-color: white;}#sk-container-id-4 label.sk-toggleable__label {cursor: pointer;display: block;width: 100%;margin-bottom: 0;padding: 0.3em;box-sizing: border-box;text-align: center;}#sk-container-id-4 label.sk-toggleable__label-arrow:before {content: \"▸\";float: left;margin-right: 0.25em;color: #696969;}#sk-container-id-4 label.sk-toggleable__label-arrow:hover:before {color: black;}#sk-container-id-4 div.sk-estimator:hover label.sk-toggleable__label-arrow:before {color: black;}#sk-container-id-4 div.sk-toggleable__content {max-height: 0;max-width: 0;overflow: hidden;text-align: left;background-color: #f0f8ff;}#sk-container-id-4 div.sk-toggleable__content pre {margin: 0.2em;color: black;border-radius: 0.25em;background-color: #f0f8ff;}#sk-container-id-4 input.sk-toggleable__control:checked~div.sk-toggleable__content {max-height: 200px;max-width: 100%;overflow: auto;}#sk-container-id-4 input.sk-toggleable__control:checked~label.sk-toggleable__label-arrow:before {content: \"▾\";}#sk-container-id-4 div.sk-estimator input.sk-toggleable__control:checked~label.sk-toggleable__label {background-color: #d4ebff;}#sk-container-id-4 div.sk-label input.sk-toggleable__control:checked~label.sk-toggleable__label {background-color: #d4ebff;}#sk-container-id-4 input.sk-hidden--visually {border: 0;clip: rect(1px 1px 1px 1px);clip: rect(1px, 1px, 1px, 1px);height: 1px;margin: -1px;overflow: hidden;padding: 0;position: absolute;width: 1px;}#sk-container-id-4 div.sk-estimator {font-family: monospace;background-color: #f0f8ff;border: 1px dotted black;border-radius: 0.25em;box-sizing: border-box;margin-bottom: 0.5em;}#sk-container-id-4 div.sk-estimator:hover {background-color: #d4ebff;}#sk-container-id-4 div.sk-parallel-item::after {content: \"\";width: 100%;border-bottom: 1px solid gray;flex-grow: 1;}#sk-container-id-4 div.sk-label:hover label.sk-toggleable__label {background-color: #d4ebff;}#sk-container-id-4 div.sk-serial::before {content: \"\";position: absolute;border-left: 1px solid gray;box-sizing: border-box;top: 0;bottom: 0;left: 50%;z-index: 0;}#sk-container-id-4 div.sk-serial {display: flex;flex-direction: column;align-items: center;background-color: white;padding-right: 0.2em;padding-left: 0.2em;position: relative;}#sk-container-id-4 div.sk-item {position: relative;z-index: 1;}#sk-container-id-4 div.sk-parallel {display: flex;align-items: stretch;justify-content: center;background-color: white;position: relative;}#sk-container-id-4 div.sk-item::before, #sk-container-id-4 div.sk-parallel-item::before {content: \"\";position: absolute;border-left: 1px solid gray;box-sizing: border-box;top: 0;bottom: 0;left: 50%;z-index: -1;}#sk-container-id-4 div.sk-parallel-item {display: flex;flex-direction: column;z-index: 1;position: relative;background-color: white;}#sk-container-id-4 div.sk-parallel-item:first-child::after {align-self: flex-end;width: 50%;}#sk-container-id-4 div.sk-parallel-item:last-child::after {align-self: flex-start;width: 50%;}#sk-container-id-4 div.sk-parallel-item:only-child::after {width: 0;}#sk-container-id-4 div.sk-dashed-wrapped {border: 1px dashed gray;margin: 0 0.4em 0.5em 0.4em;box-sizing: border-box;padding-bottom: 0.4em;background-color: white;}#sk-container-id-4 div.sk-label label {font-family: monospace;font-weight: bold;display: inline-block;line-height: 1.2em;}#sk-container-id-4 div.sk-label-container {text-align: center;}#sk-container-id-4 div.sk-container {/* jupyter's `normalize.less` sets `[hidden] { display: none; }` but bootstrap.min.css set `[hidden] { display: none !important; }` so we also need the `!important` here to be able to override the default hidden behavior on the sphinx rendered scikit-learn.org. See: https://github.com/scikit-learn/scikit-learn/issues/21755 */display: inline-block !important;position: relative;}#sk-container-id-4 div.sk-text-repr-fallback {display: none;}</style><div id=\"sk-container-id-4\" class=\"sk-top-container\"><div class=\"sk-text-repr-fallback\"><pre>AdaBoostClassifier(algorithm=&#x27;SAMME&#x27;, learning_rate=0.1, n_estimators=500)</pre><b>In a Jupyter environment, please rerun this cell to show the HTML representation or trust the notebook. <br />On GitHub, the HTML representation is unable to render, please try loading this page with nbviewer.org.</b></div><div class=\"sk-container\" hidden><div class=\"sk-item\"><div class=\"sk-estimator sk-toggleable\"><input class=\"sk-toggleable__control sk-hidden--visually\" id=\"sk-estimator-id-4\" type=\"checkbox\" checked><label for=\"sk-estimator-id-4\" class=\"sk-toggleable__label sk-toggleable__label-arrow\">AdaBoostClassifier</label><div class=\"sk-toggleable__content\"><pre>AdaBoostClassifier(algorithm=&#x27;SAMME&#x27;, learning_rate=0.1, n_estimators=500)</pre></div></div></div></div></div>"
            ],
            "text/plain": [
              "AdaBoostClassifier(algorithm='SAMME', learning_rate=0.1, n_estimators=500)"
            ]
          },
          "execution_count": 56,
          "metadata": {},
          "output_type": "execute_result"
        }
      ],
      "source": [
        "Adaboost_clf_test.fit(X_train, y_train)"
      ],
      "id": "De4VOVQo4jkd"
    },
    {
      "cell_type": "code",
      "execution_count": null,
      "metadata": {
        "id": "Fs6d4l-2uGnd"
      },
      "outputs": [],
      "source": [
        "y_pred_adaboost = Adaboost_clf_test.predict(X_test)"
      ],
      "id": "Fs6d4l-2uGnd"
    },
    {
      "cell_type": "code",
      "execution_count": null,
      "metadata": {
        "colab": {
          "base_uri": "https://localhost:8080/"
        },
        "id": "MH35RQPTuGtb",
        "outputId": "7300c8e3-c53a-49d3-f5e3-26148991a283"
      },
      "outputs": [
        {
          "data": {
            "text/plain": [
              "0.43526398629264734"
            ]
          },
          "execution_count": 58,
          "metadata": {},
          "output_type": "execute_result"
        }
      ],
      "source": [
        "f1_weighted_adaboost_score  = f1_score(y_test, y_pred_adaboost, average= 'macro')\n",
        "f1_weighted_adaboost_score #0.43526398629264734"
      ],
      "id": "MH35RQPTuGtb"
    },
    {
      "cell_type": "markdown",
      "metadata": {
        "id": "KMyoIvDli2wC"
      },
      "source": [
        "## KNeighbors"
      ],
      "id": "KMyoIvDli2wC"
    },
    {
      "cell_type": "code",
      "execution_count": null,
      "metadata": {
        "id": "815f83c1"
      },
      "outputs": [],
      "source": [
        "KNeighbors_clf = KNeighborsClassifier()"
      ],
      "id": "815f83c1"
    },
    {
      "cell_type": "code",
      "execution_count": null,
      "metadata": {
        "id": "b92MzOcWlFT8"
      },
      "outputs": [],
      "source": [
        "search_space_kneighbors= {\n",
        "    \"n_estimators\":[5,50,250,500],\n",
        "    \"max_depth\":[1,3,5,7,9],\n",
        "    \"learning_rate\":[0.01,0.1,1,10,100]\n",
        "}"
      ],
      "id": "b92MzOcWlFT8"
    },
    {
      "cell_type": "code",
      "execution_count": null,
      "metadata": {
        "id": "zBwJftJ_mvue"
      },
      "outputs": [],
      "source": [
        "KNeighbors_clf_CV = GridSearchCV(estimator = KNeighbors_clf,\n",
        "                  param_grid = search_space_kneighbors,\n",
        "                  scoring = ['f1_weighted', 'precision_weighted'], \n",
        "                  refit = 'f1_weighted',\n",
        "                  cv = 3,\n",
        "                  verbose = 4)"
      ],
      "id": "zBwJftJ_mvue"
    },
    {
      "cell_type": "code",
      "execution_count": null,
      "metadata": {
        "id": "h1hQcIamm7ao"
      },
      "outputs": [],
      "source": [
        "KNeighbors_clf_CV.fit(X_train, y_train)\n",
        "print(KNeighbors_clf_CV.best_params_)\n",
        "print(KNeighbors_clf_CV.best_score_)"
      ],
      "id": "h1hQcIamm7ao"
    },
    {
      "cell_type": "markdown",
      "source": [
        "## Logistic Regression"
      ],
      "metadata": {
        "id": "4U2Xr9thhkuS"
      },
      "id": "4U2Xr9thhkuS"
    },
    {
      "cell_type": "markdown",
      "source": [
        "### Импортируем файл"
      ],
      "metadata": {
        "id": "yTeC2z96iBaQ"
      },
      "id": "yTeC2z96iBaQ"
    },
    {
      "cell_type": "code",
      "source": [
        "data = pd.read_csv('/content/features.csv', delimiter=',', quotechar='\"', escapechar='\\\\')\n",
        "df = pd.read_csv('/content/train.csv', delimiter=',', quotechar='\"', escapechar='\\\\')\n",
        "data = pd.merge(data, df[['id', 'class']], on='id', how='left')\n",
        "data.head()"
      ],
      "metadata": {
        "id": "ouLbqvJoiCJB"
      },
      "id": "ouLbqvJoiCJB",
      "execution_count": null,
      "outputs": []
    },
    {
      "cell_type": "code",
      "source": [
        "# Удалим строку с пропуском в значении class\n",
        "data = data.dropna(subset=['class'])\n",
        "# Заменим пропуски в других столбцах на среднее\n",
        "data[['start_sum', 'request', 'deals', 'income_rub', 'income_percent', 'len_tool', 'everage_deals_by_day', 'mean_sum_by_days', 'max_sum_by_days', 'money_turnover', 'part_turnover', 'part_income', 'average_free_funds', 'average_end_day_balance']] = data[['start_sum', 'request', 'deals', 'income_rub', 'income_percent', 'len_tool', 'everage_deals_by_day', 'mean_sum_by_days', 'max_sum_by_days', 'money_turnover', 'part_turnover', 'part_income', 'average_free_funds', 'average_end_day_balance']].fillna(data.mean())"
      ],
      "metadata": {
        "id": "H67RxhaJiFSC"
      },
      "id": "H67RxhaJiFSC",
      "execution_count": null,
      "outputs": []
    },
    {
      "cell_type": "markdown",
      "source": [
        "### Стандартизация"
      ],
      "metadata": {
        "id": "edi_mFz1huYE"
      },
      "id": "edi_mFz1huYE"
    },
    {
      "cell_type": "code",
      "source": [
        "cols_to_scale = ['start_sum', 'request', 'deals', 'income_rub', 'income_percent', 'len_tool', 'everage_deals_by_day', 'mean_sum_by_days', 'max_sum_by_days', 'money_turnover', 'part_turnover', 'part_income', 'average_free_funds', 'average_end_day_balance']\n",
        "\n",
        "scaler = StandardScaler()\n",
        "data[cols_to_scale] = scaler.fit_transform(data[cols_to_scale])\n",
        "data.head()"
      ],
      "metadata": {
        "id": "APVZHZVohvJx"
      },
      "id": "APVZHZVohvJx",
      "execution_count": null,
      "outputs": []
    },
    {
      "cell_type": "markdown",
      "source": [
        "### Обучение модели "
      ],
      "metadata": {
        "id": "0yGxCY1Hhzgd"
      },
      "id": "0yGxCY1Hhzgd"
    },
    {
      "cell_type": "code",
      "source": [
        "X = data[['start_sum', 'request', 'deals', 'income_rub', 'income_percent', 'len_tool', 'everage_deals_by_day', 'mean_sum_by_days', 'max_sum_by_days', 'money_turnover', 'part_turnover', 'part_income', 'average_free_funds', 'average_end_day_balance']]\n",
        "y = data['class']\n",
        "\n",
        "X_train, X_test, y_train, y_test = train_test_split(X, y, test_size=0.2, random_state=42)\n",
        "\n",
        "model = LogisticRegression(random_state=42, multi_class='multinomial', solver='lbfgs', max_iter=500)\n",
        "model.fit(X_train, y_train)"
      ],
      "metadata": {
        "id": "GR2gsBP0h3cF"
      },
      "id": "GR2gsBP0h3cF",
      "execution_count": null,
      "outputs": []
    },
    {
      "cell_type": "code",
      "source": [
        "# использование модели для предсказания значений на тестовой выборке\n",
        "y_pred = model.predict(X_test)\n",
        "\n",
        "# оценка качества модели на тестовой выборке\n",
        "acc = accuracy_score(y_test, y_pred)\n",
        "print('Accuracy:', acc)"
      ],
      "metadata": {
        "id": "w8433Tech5Wo"
      },
      "id": "w8433Tech5Wo",
      "execution_count": null,
      "outputs": []
    }
  ],
  "metadata": {
    "colab": {
      "provenance": [],
      "collapsed_sections": [
        "aEE03cxAVx8D",
        "x8sbY-uqJ7SS",
        "nUZZwWPi6RyU",
        "IRY7uZvoy-2P",
        "6DEoVWCJ5xSF",
        "kOL60GIVixKy",
        "KMyoIvDli2wC",
        "4U2Xr9thhkuS",
        "yTeC2z96iBaQ",
        "edi_mFz1huYE",
        "0yGxCY1Hhzgd"
      ],
      "include_colab_link": true
    },
    "kernelspec": {
      "display_name": "Python 3 (ipykernel)",
      "language": "python",
      "name": "python3"
    },
    "language_info": {
      "codemirror_mode": {
        "name": "ipython",
        "version": 3
      },
      "file_extension": ".py",
      "mimetype": "text/x-python",
      "name": "python",
      "nbconvert_exporter": "python",
      "pygments_lexer": "ipython3",
      "version": "3.10.2"
    },
    "toc": {
      "base_numbering": 1,
      "nav_menu": {},
      "number_sections": true,
      "sideBar": true,
      "skip_h1_title": true,
      "title_cell": "Table of Contents",
      "title_sidebar": "Contents",
      "toc_cell": true,
      "toc_position": {},
      "toc_section_display": true,
      "toc_window_display": false
    }
  },
  "nbformat": 4,
  "nbformat_minor": 5
}